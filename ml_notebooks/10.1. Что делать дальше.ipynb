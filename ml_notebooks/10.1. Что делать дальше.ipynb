{
 "cells": [
  {
   "cell_type": "markdown",
   "metadata": {},
   "source": [
    "# Beyond: Machine Learning"
   ]
  },
  {
   "cell_type": "markdown",
   "metadata": {
    "ExecuteTime": {
     "end_time": "2017-07-25T18:55:47.088291",
     "start_time": "2017-07-25T18:55:47.085276"
    },
    "collapsed": true
   },
   "source": [
    "![](images/more.png)"
   ]
  },
  {
   "cell_type": "markdown",
   "metadata": {},
   "source": [
    "https://enlightenedcsf.gitbooks.io/awesomemlreads/content/neural_tasks.html"
   ]
  },
  {
   "cell_type": "markdown",
   "metadata": {},
   "source": [
    "## Картинки, звук, видео\n",
    "\n",
    "* Классический курс [CS231N](http://cs231n.stanford.edu/syllabus.html) от Стэнфорда\n",
    "* Курс от [Yerevann](http://yerevann.com/a-guide-to-deep-learning/)\n",
    "* Курс от [fast.ai](http://course.fast.ai/)\n",
    "* Курс от [ГосУниверситета Екатеринбурга](https://www.asozykin.ru/courses/nnpython)\n",
    "\n",
    "_Обязательно_ почитать [Deep Learning Book](https://github.com/HFTrader/DeepLearningBook/blob/master/DeepLearningBook.pdf) для теории. <br>\n",
    "Для практики пойдут:\n",
    "* [Geron \"Hands on Machine Learning with Scikit Learn and Tensorflow\"](https://www.dropbox.com/s/yukjb8nwr1puvvk/Geron_Hands_On_Machine_Learning_with_Scikit_Learn%20and%20TensorFlow_2017.pdf?dl=0)\n",
    "* [Chollet \"Deep Learning with Python\"](https://www.dropbox.com/s/32g700u76ywukm9/Deep_Learning_with_Python_v4_MEAP.epub?dl=0)"
   ]
  },
  {
   "cell_type": "markdown",
   "metadata": {},
   "source": [
    "## Табличные данные\n",
    "\n",
    "* [Курс](https://www.coursera.org/learn/stats-for-data-analysis) от МФТИ\n",
    "* Целая [специализация из 5 курсов](https://www.coursera.org/specializations/machine-learning-data-analysis) от ШАД и МФТИ\n",
    "* Курс от [ВШЭ](http://wiki.cs.hse.ru/Машинное_обучение_1)\n",
    "* Курс от [МГУ](https://github.com/esokolov/ml-course-msu), - чуть больше математики\n",
    "\n",
    "И, конечно, книжки:\n",
    "* [Hastie, Tibshirani \"The Elements of Statistical Learning\"](https://web.stanford.edu/~hastie/Papers/ESLII.pdf)\n",
    "* [Bishop \"Pattern Recognition and Machine Learning\"](https://www.dropbox.com/s/5ee1ppb0s65bgz2/Bishop.pdf?dl=0)\n",
    "* [Murphy \"Machine Learning: A Probabilistic Perspective\"](https://www.dropbox.com/s/wy4zmsty1yne39r/Probabilistic%20Perspective.pdf?dl=0)\n"
   ]
  },
  {
   "cell_type": "markdown",
   "metadata": {},
   "source": [
    "## Текст\n",
    "\n",
    "* [Хороший русский курс](https://stepik.org/course/Введение-в-обработку-естественного-языка-1233/syllabus) на Stepik\n",
    "* Курс [Мэннинга](https://www.youtube.com/playlist?list=PL3FW7Lu3i5Jsnh1rnUwq_TcylNr7EkRe6) на Youtube\n",
    "* [CS224D](http://cs224d.stanford.edu/syllabus.html) от Стэнфорда\n",
    "* [Text Mining](https://www.coursera.org/learn/text-mining) на Coursera от Иллинойса\n",
    "\n",
    "_P.s._: Курс на Stepic не включает в себя обработку текста с помощью нейросетей, зато это есть в курсе Мэннинга.\n",
    "\n",
    "Книжки по нейросетевому подходу можно посоветовать те же, что и для глубокого обучения: см. выше _Deep Learning Book_ и книжку мсье _Chollet_."
   ]
  },
  {
   "cell_type": "markdown",
   "metadata": {},
   "source": [
    "## Роботы и обучение с подкреплением\n",
    "\n",
    "* [UCL Course on RL](http://www0.cs.ucl.ac.uk/staff/d.silver/web/Teaching.html)\n",
    "* [RL](http://rll.berkeley.edu/deeprlcourse/#lecture-videos) от Berkeley\n",
    "* [RL](https://github.com/yandexdataschool/Practical_RL) от ШАДа\n",
    "* Курс на [Udacity](https://www.udacity.com/course/reinforcement-learning--ud600)\n",
    "\n",
    "И почитать книжку [Саттона](http://people.inf.elte.hu/lorincz/Files/RL_2006/SuttonBook.pdf)."
   ]
  },
  {
   "cell_type": "markdown",
   "metadata": {},
   "source": [
    "## В дополнение"
   ]
  },
  {
   "cell_type": "markdown",
   "metadata": {},
   "source": [
    "* [Компиляция курсов](https://docs.google.com/spreadsheets/d/1dXghGL0hH6gs3H9Km7zhOpk9MWufRJ_bSrFw0NLaRuo/edit#gid=0), если хочется _еще_\n",
    "* Огромная [подборка](https://github.com/demidovakatya/vvedenie-mashinnoe-obuchenie) _всего_ от Демидовой Кати\n",
    "\n",
    "\n",
    "* [Зоопарк моделей](https://github.com/BVLC/caffe/wiki/Model-Zoo) нейронных сетей, чтобы не изобретать велосипеды, а использовать готовое\n",
    "* [Подборка](https://github.com/ChristosChristofidis/awesome-deep-learning) по __глубокому обучению__\n",
    "* [Подборка](https://github.com/kjw0612/awesome-deep-vision) по __компьютерному зрению__\n",
    "* [Подборка](https://github.com/kjw0612/awesome-rnn) по __рекуррентным сетям__\n",
    "\n",
    "\n",
    "* [Roadmap](https://github.com/sbrugman/deep-learning-papers) работ по глубокому обучению, чтобы проследить весь прогресс"
   ]
  },
  {
   "cell_type": "markdown",
   "metadata": {},
   "source": [
    "# Kaggle"
   ]
  },
  {
   "cell_type": "markdown",
   "metadata": {},
   "source": [
    "* [Approaching (Almost) Any Machine Learning Problem](http://blog.kaggle.com/2016/07/21/approaching-almost-any-machine-learning-problem-abhishek-thakur/)\n",
    "\n",
    "\n",
    "* [How to Rank 10% in Your First Kaggle Competition](https://dnc1994.com/2016/05/rank-10-percent-in-first-kaggle-competition-en/)\n",
    "\n",
    "\n",
    "* [Beating Kaggle the easy way](http://www.ke.tu-darmstadt.de/lehre/arbeiten/studien/2015/Dong_Ying.pdf)\n",
    "\n",
    "\n",
    "* [Complete Solution: How I got in Top 11% of Kaggle Telstra Competition?](https://www.analyticsvidhya.com/blog/2016/03/complete-solution-top-11-telstra-network-disruptions-kaggle-competition/)\n",
    "\n",
    "---\n",
    "\n",
    "* [Канал зарешек](https://www.youtube.com/channel/UCeq6ZIlvC9SVsfhfKnSvM9w)"
   ]
  },
  {
   "cell_type": "markdown",
   "metadata": {},
   "source": [
    "# Работа\n",
    "\n",
    "* [Вопросы к интервью](http://www.itshared.org/2015/10/data-science-interview-questions.html) от Алексея Григорьева\n",
    "* Еще [100 вопросов](https://www.dezyre.com/article/100-data-science-interview-questions-and-answers-general-for-2017/184)\n",
    "* [Книжка](https://vk.com/doc6356042_440910268?hash=d0a08f2e236553442b&dl=4185c24fe2fc2d1887) Виктора Кантора с задачами\n",
    "\n",
    "Идеи для [стартапов](https://github.com/JosPolfliet/awesome-datascience-ideas/blob/master/README.md)!"
   ]
  },
  {
   "cell_type": "markdown",
   "metadata": {},
   "source": [
    "# Коммьюнити"
   ]
  },
  {
   "cell_type": "markdown",
   "metadata": {},
   "source": [
    "✨[ods.ai](https://www.ods.ai)✨"
   ]
  },
  {
   "cell_type": "markdown",
   "metadata": {},
   "source": [
    "[Сборник мемов](https://vk.com/weirdkerneltricks)"
   ]
  },
  {
   "cell_type": "markdown",
   "metadata": {},
   "source": [
    "![](images/expl.jpg)"
   ]
  }
 ],
 "metadata": {
  "kernelspec": {
   "display_name": "Python 3",
   "language": "python",
   "name": "python3"
  },
  "language_info": {
   "codemirror_mode": {
    "name": "ipython",
    "version": 3
   },
   "file_extension": ".py",
   "mimetype": "text/x-python",
   "name": "python",
   "nbconvert_exporter": "python",
   "pygments_lexer": "ipython3",
   "version": "3.6.0"
  },
  "toc": {
   "colors": {
    "hover_highlight": "#DAA520",
    "running_highlight": "#FF0000",
    "selected_highlight": "#FFD700"
   },
   "moveMenuLeft": true,
   "nav_menu": {
    "height": "156px",
    "width": "252px"
   },
   "navigate_menu": true,
   "number_sections": true,
   "sideBar": true,
   "threshold": 4,
   "toc_cell": false,
   "toc_section_display": "block",
   "toc_window_display": false
  }
 },
 "nbformat": 4,
 "nbformat_minor": 2
}
