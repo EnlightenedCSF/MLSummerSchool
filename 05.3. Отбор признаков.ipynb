{
 "cells": [
  {
   "cell_type": "markdown",
   "metadata": {},
   "source": [
    "Зачем избавляться от лишних признаков?\n",
    "\n",
    "<ol>\n",
    "    <li> Чем больше данных, тем выше вычислительная сложность. Пока мы балуемся с игрушечными датасетами, размер данных – это не проблема, а для реального нагруженного продакшена лишние сотни признаков могут быть ощутимы. \n",
    "    <li> Некоторые алгоритмы принимают шум (неинформативные признаки) за сигнал, переобучаясь.\n",
    "</ol>"
   ]
  },
  {
   "cell_type": "code",
   "execution_count": 67,
   "metadata": {
    "ExecuteTime": {
     "end_time": "2017-12-16T01:27:44.570641",
     "start_time": "2017-12-16T01:27:44.561067"
    },
    "collapsed": true
   },
   "outputs": [],
   "source": [
    "from IPython.display import Image"
   ]
  },
  {
   "cell_type": "markdown",
   "metadata": {},
   "source": [
    "# Статистические подходы"
   ]
  },
  {
   "cell_type": "markdown",
   "metadata": {},
   "source": [
    "## Удаление низковариативных признаков"
   ]
  },
  {
   "cell_type": "markdown",
   "metadata": {},
   "source": [
    "Очевидно, что признак, принимающий на всей выборке одно и то же значение, бесполезен: он не несет никакой информативности. "
   ]
  },
  {
   "cell_type": "code",
   "execution_count": 1,
   "metadata": {
    "ExecuteTime": {
     "end_time": "2017-12-16T01:22:42.687640",
     "start_time": "2017-12-16T01:22:42.525269"
    },
    "collapsed": true
   },
   "outputs": [],
   "source": [
    "from sklearn.feature_selection import VarianceThreshold"
   ]
  },
  {
   "cell_type": "code",
   "execution_count": 2,
   "metadata": {
    "ExecuteTime": {
     "end_time": "2017-12-16T01:22:43.174776",
     "start_time": "2017-12-16T01:22:43.123388"
    },
    "collapsed": true
   },
   "outputs": [],
   "source": [
    "from sklearn.datasets import make_classification\n",
    "\n",
    "x_data_generated, y_data_generated = make_classification()"
   ]
  },
  {
   "cell_type": "code",
   "execution_count": 3,
   "metadata": {
    "ExecuteTime": {
     "end_time": "2017-12-16T01:22:43.714824",
     "start_time": "2017-12-16T01:22:43.707295"
    },
    "collapsed": false
   },
   "outputs": [
    {
     "data": {
      "text/plain": [
       "(100, 20)"
      ]
     },
     "execution_count": 3,
     "metadata": {},
     "output_type": "execute_result"
    }
   ],
   "source": [
    "x_data_generated.shape"
   ]
  },
  {
   "cell_type": "code",
   "execution_count": 4,
   "metadata": {
    "ExecuteTime": {
     "end_time": "2017-12-16T01:22:44.288480",
     "start_time": "2017-12-16T01:22:44.283143"
    },
    "collapsed": false
   },
   "outputs": [
    {
     "data": {
      "text/plain": [
       "(100, 9)"
      ]
     },
     "execution_count": 4,
     "metadata": {},
     "output_type": "execute_result"
    }
   ],
   "source": [
    "VarianceThreshold(.94).fit_transform(x_data_generated).shape"
   ]
  },
  {
   "cell_type": "code",
   "execution_count": 5,
   "metadata": {
    "ExecuteTime": {
     "end_time": "2017-12-16T01:22:44.975724",
     "start_time": "2017-12-16T01:22:44.969897"
    },
    "collapsed": false
   },
   "outputs": [
    {
     "data": {
      "text/plain": [
       "(100, 16)"
      ]
     },
     "execution_count": 5,
     "metadata": {},
     "output_type": "execute_result"
    }
   ],
   "source": [
    "VarianceThreshold(.8).fit_transform(x_data_generated).shape"
   ]
  },
  {
   "cell_type": "code",
   "execution_count": 6,
   "metadata": {
    "ExecuteTime": {
     "end_time": "2017-12-16T01:22:45.733883",
     "start_time": "2017-12-16T01:22:45.728664"
    },
    "collapsed": false
   },
   "outputs": [
    {
     "data": {
      "text/plain": [
       "(100, 18)"
      ]
     },
     "execution_count": 6,
     "metadata": {},
     "output_type": "execute_result"
    }
   ],
   "source": [
    "VarianceThreshold(.7).fit_transform(x_data_generated).shape"
   ]
  },
  {
   "cell_type": "markdown",
   "metadata": {},
   "source": [
    "## Статистические тесты"
   ]
  },
  {
   "cell_type": "code",
   "execution_count": 68,
   "metadata": {
    "ExecuteTime": {
     "end_time": "2017-12-16T01:27:59.924506",
     "start_time": "2017-12-16T01:27:59.918162"
    },
    "collapsed": false
   },
   "outputs": [
    {
     "data": {
      "image/png": "[encoded data removed]",
      "text/plain": [
       "<IPython.core.display.Image object>"
      ]
     },
     "execution_count": 68,
     "metadata": {},
     "output_type": "execute_result"
    }
   ],
   "source": [
    "Image(\"images/fs_filter.png\")"
   ]
  },
  {
   "cell_type": "code",
   "execution_count": 7,
   "metadata": {
    "ExecuteTime": {
     "end_time": "2017-12-16T01:22:50.128406",
     "start_time": "2017-12-16T01:22:50.125787"
    },
    "collapsed": true
   },
   "outputs": [],
   "source": [
    "from sklearn.feature_selection import SelectKBest"
   ]
  },
  {
   "cell_type": "code",
   "execution_count": 69,
   "metadata": {
    "ExecuteTime": {
     "end_time": "2017-12-16T01:28:13.236815",
     "start_time": "2017-12-16T01:28:13.230908"
    },
    "collapsed": false
   },
   "outputs": [
    {
     "data": {
      "image/png": "[encoded data removed]",
      "text/plain": [
       "<IPython.core.display.Image object>"
      ]
     },
     "execution_count": 69,
     "metadata": {},
     "output_type": "execute_result"
    }
   ],
   "source": [
    "Image(\"images/filter_tests.png\")"
   ]
  },
  {
   "cell_type": "markdown",
   "metadata": {},
   "source": [
    "* __Корреляция Пирсона__: измеряет линейную зависимость между двумя непрерывными числовыми признаками $X$ и $Y$ и принимает значения в интервале $[-1; 1]$. \n",
    "    * Для использования в __sklearn__ у любого dataframe уже есть метод `.corr()`.\n",
    "    * Вычисляется по формуле:\n",
    "    \n",
    "$$ \\rho_{X,Y} = \\frac{E[(X - \\mu_X)(Y - \\mu_Y)]}{\\sigma_X \\sigma_Y} $$\n",
    "\n",
    "$\\quad\\quad\\quad$, где $ \\mu $ - среднее, а $ \\sigma $ - среднеквадратичное отклонение.\n",
    "    \n",
    "    \n",
    "    \n",
    "* __LDA__: линейный дискриминантный анализ (англ. _linear discriminant analysis_) используется, чтобы найти линейную комбинацию признаков, описывающих или разделяющих 2 или более уровней категориальной переменной.\n",
    "    \n",
    "\n",
    "* __ANOVA__: расшифровывается как \"анализ дисперсии\" (англ *__AN__alysis __O__f __VA__riance*). Метод схож с LDA за исключением того факта, что ANOVA оперирует одним или более категорийным признаком и одним зависимым непрерывным числовым признаком. Метод предоставляет статистический тест равенства средних в разных группах.\n",
    "    * Как статистический тест в __sklearn__ импортируется следующим образом:\n",
    "    ```python\n",
    "    from sklearn.feature_selection import f_classif\n",
    "    ```\n",
    "\n",
    "* __$\\chi^2$__: произносится как _\"хи-квадрат\"_. Статистический тест, применимый к группе категорийных признаков для вычисления правдоподобия корреляции (или ассоциации) между ними с использованием их частотного распределения.\n",
    "    * Как статистический тест в __sklearn__ импортируется следующим образом:\n",
    "    ```python\n",
    "    from sklearn.feature_selection import chi2\n",
    "    ```\n",
    "\n",
    "--- \n",
    "    \n",
    "Вне этой таблицы, но в __sklearn__ есть еще несколько тестов:\n",
    "\n",
    "* __F-value__: работает в два шага. На первом высчитывается корреляция Пирсона по формуле выше. После чего полученное значение преобразуется к F score, а потом к p-value (см. https://en.wikipedia.org/wiki/F-test , раздел `Regression problems`)\n",
    "    * Как статистический тест в __sklearn__ импортируется следующим образом:\n",
    "    ```python\n",
    "    from sklearn.feature_selection import f_regression\n",
    "    ```\n",
    "    \n",
    "* __Взаимная информация__: вычисляет объем [взаимной информации](https://ru.wikipedia.org/wiki/%D0%92%D0%B7%D0%B0%D0%B8%D0%BC%D0%BD%D0%B0%D1%8F_%D0%B8%D0%BD%D1%84%D0%BE%D1%80%D0%BC%D0%B0%D1%86%D0%B8%D1%8F), то есть 0 будет свидетельствовать о независимости двух случайных переменных, а увеличение данной величины - о большем количестве информации (шеннонов или битов), получаемое об одной из них от значения другой.\n",
    "    * Как статистический тест в __sklearn__ импортируется следующим образом:\n",
    "    ```python\n",
    "    from sklearn.feature_selection import mutual_info_classif # для задач классификации\n",
    "    from sklearn.feature_selection import mutual_info_regression # для задач регрессии\n",
    "    ```"
   ]
  },
  {
   "cell_type": "markdown",
   "metadata": {},
   "source": [
    "Называются фильтрацией или фильтр-методами"
   ]
  },
  {
   "cell_type": "code",
   "execution_count": 8,
   "metadata": {
    "ExecuteTime": {
     "end_time": "2017-12-16T01:22:52.906298",
     "start_time": "2017-12-16T01:22:52.903183"
    },
    "collapsed": true
   },
   "outputs": [],
   "source": [
    "from sklearn.feature_selection import chi2, f_classif, mutual_info_classif"
   ]
  },
  {
   "cell_type": "code",
   "execution_count": 9,
   "metadata": {
    "ExecuteTime": {
     "end_time": "2017-12-16T01:22:53.307385",
     "start_time": "2017-12-16T01:22:53.302771"
    },
    "collapsed": true
   },
   "outputs": [],
   "source": [
    "skb = SelectKBest(mutual_info_classif, k=10)"
   ]
  },
  {
   "cell_type": "code",
   "execution_count": 10,
   "metadata": {
    "ExecuteTime": {
     "end_time": "2017-12-16T01:22:53.679774",
     "start_time": "2017-12-16T01:22:53.584234"
    },
    "collapsed": false
   },
   "outputs": [],
   "source": [
    "x_new = skb.fit_transform(x_data_generated, y_data_generated)"
   ]
  },
  {
   "cell_type": "markdown",
   "metadata": {},
   "source": [
    "__Домашка__: проверить, влияют ли `Scaler`'ы (`MinMaxScaler`, `StandardScaler`) на работу статистических тестов."
   ]
  },
  {
   "cell_type": "markdown",
   "metadata": {},
   "source": [
    "# Wrapper methods"
   ]
  },
  {
   "cell_type": "code",
   "execution_count": 70,
   "metadata": {
    "ExecuteTime": {
     "end_time": "2017-12-16T01:28:45.478305",
     "start_time": "2017-12-16T01:28:45.471534"
    },
    "collapsed": false
   },
   "outputs": [
    {
     "data": {
      "image/png": "[encoded data removed]",
      "text/plain": [
       "<IPython.core.display.Image object>"
      ]
     },
     "execution_count": 70,
     "metadata": {},
     "output_type": "execute_result"
    }
   ],
   "source": [
    "Image(\"images/fs_wrapper.png\")"
   ]
  },
  {
   "cell_type": "markdown",
   "metadata": {},
   "source": [
    "__RFE__ - Recursive Feature Elimination, или рекурсивное уничтожение признаков.\n",
    "\n",
    "Построено на идее постоянного построения некоторой модели и выбора наиболее значимого или бесполезного признака (например, по коэффициентам линейной регрессии), отбрасывании этого признака и повторении такого процесса с остальными признаками до тех пор, пока признаки не закончатся.\n",
    "\n",
    "После чего признаки ранжируются по количеству \"раундов\", которые они продержались, - считай, по полезности, информативности, важности."
   ]
  },
  {
   "cell_type": "code",
   "execution_count": 11,
   "metadata": {
    "ExecuteTime": {
     "end_time": "2017-12-16T01:22:55.409246",
     "start_time": "2017-12-16T01:22:55.358325"
    },
    "collapsed": true
   },
   "outputs": [],
   "source": [
    "from sklearn.feature_selection import RFE\n",
    "from sklearn.linear_model import LinearRegression"
   ]
  },
  {
   "cell_type": "code",
   "execution_count": 14,
   "metadata": {
    "ExecuteTime": {
     "end_time": "2017-12-16T01:23:06.640501",
     "start_time": "2017-12-16T01:23:06.637419"
    },
    "collapsed": true
   },
   "outputs": [],
   "source": [
    "from sklearn.datasets import load_boston"
   ]
  },
  {
   "cell_type": "code",
   "execution_count": 15,
   "metadata": {
    "ExecuteTime": {
     "end_time": "2017-12-16T01:23:07.127430",
     "start_time": "2017-12-16T01:23:07.115072"
    },
    "collapsed": false
   },
   "outputs": [],
   "source": [
    "boston = load_boston()\n",
    "X = boston[\"data\"]\n",
    "y = boston[\"target\"]\n",
    "names = boston[\"feature_names\"]"
   ]
  },
  {
   "cell_type": "code",
   "execution_count": 16,
   "metadata": {
    "ExecuteTime": {
     "end_time": "2017-12-16T01:23:07.791249",
     "start_time": "2017-12-16T01:23:07.788262"
    },
    "collapsed": true
   },
   "outputs": [],
   "source": [
    "lr = LinearRegression()"
   ]
  },
  {
   "cell_type": "code",
   "execution_count": 17,
   "metadata": {
    "ExecuteTime": {
     "end_time": "2017-12-16T01:23:08.239894",
     "start_time": "2017-12-16T01:23:08.210206"
    },
    "collapsed": true
   },
   "outputs": [],
   "source": [
    "rfe = RFE(lr, n_features_to_select=1)\n",
    "rfe.fit(X,y);"
   ]
  },
  {
   "cell_type": "code",
   "execution_count": 18,
   "metadata": {
    "ExecuteTime": {
     "end_time": "2017-12-16T01:23:08.729827",
     "start_time": "2017-12-16T01:23:08.724979"
    },
    "collapsed": false
   },
   "outputs": [
    {
     "name": "stdout",
     "output_type": "stream",
     "text": [
      "Features sorted by their rank:\n",
      "[(1, 'NOX'), (2, 'RM'), (3, 'CHAS'), (4, 'PTRATIO'), (5, 'DIS'), (6, 'LSTAT'), (7, 'RAD'), (8, 'CRIM'), (9, 'INDUS'), (10, 'ZN'), (11, 'TAX'), (12, 'B'), (13, 'AGE')]\n"
     ]
    }
   ],
   "source": [
    "print(\"Features sorted by their rank:\")\n",
    "print(sorted(zip(map(lambda x: round(x, 4), rfe.ranking_), names)))"
   ]
  },
  {
   "cell_type": "markdown",
   "metadata": {},
   "source": [
    "# Отбор при помощи моделей"
   ]
  },
  {
   "cell_type": "code",
   "execution_count": 71,
   "metadata": {
    "ExecuteTime": {
     "end_time": "2017-12-16T01:28:56.882475",
     "start_time": "2017-12-16T01:28:56.875862"
    },
    "collapsed": false
   },
   "outputs": [
    {
     "data": {
      "image/png": "[encoded data removed]",
      "text/plain": [
       "<IPython.core.display.Image object>"
      ]
     },
     "execution_count": 71,
     "metadata": {},
     "output_type": "execute_result"
    }
   ],
   "source": [
    "Image(\"images/fs_embed.png\")"
   ]
  },
  {
   "cell_type": "markdown",
   "metadata": {},
   "source": [
    "## Lasso"
   ]
  },
  {
   "cell_type": "code",
   "execution_count": 19,
   "metadata": {
    "ExecuteTime": {
     "end_time": "2017-12-16T01:23:11.790825",
     "start_time": "2017-12-16T01:23:11.787841"
    },
    "collapsed": true
   },
   "outputs": [],
   "source": [
    "from sklearn.linear_model import Lasso"
   ]
  },
  {
   "cell_type": "code",
   "execution_count": 20,
   "metadata": {
    "ExecuteTime": {
     "end_time": "2017-12-16T01:23:11.960460",
     "start_time": "2017-12-16T01:23:11.957838"
    },
    "collapsed": true
   },
   "outputs": [],
   "source": [
    "from sklearn.datasets import load_boston"
   ]
  },
  {
   "cell_type": "code",
   "execution_count": 21,
   "metadata": {
    "ExecuteTime": {
     "end_time": "2017-12-16T01:23:12.158858",
     "start_time": "2017-12-16T01:23:12.146914"
    },
    "collapsed": true
   },
   "outputs": [],
   "source": [
    "bunch = load_boston()"
   ]
  },
  {
   "cell_type": "code",
   "execution_count": 22,
   "metadata": {
    "ExecuteTime": {
     "end_time": "2017-12-16T01:23:12.378620",
     "start_time": "2017-12-16T01:23:12.375629"
    },
    "collapsed": true
   },
   "outputs": [],
   "source": [
    "features = bunch.feature_names"
   ]
  },
  {
   "cell_type": "code",
   "execution_count": 23,
   "metadata": {
    "ExecuteTime": {
     "end_time": "2017-12-16T01:23:12.587922",
     "start_time": "2017-12-16T01:23:12.585408"
    },
    "collapsed": false
   },
   "outputs": [],
   "source": [
    "X, y = bunch.data, bunch.target"
   ]
  },
  {
   "cell_type": "code",
   "execution_count": 24,
   "metadata": {
    "ExecuteTime": {
     "end_time": "2017-12-16T01:23:12.786953",
     "start_time": "2017-12-16T01:23:12.778580"
    },
    "collapsed": true
   },
   "outputs": [],
   "source": [
    "clf = Lasso()\n",
    "clf.fit(X, y);"
   ]
  },
  {
   "cell_type": "code",
   "execution_count": 25,
   "metadata": {
    "ExecuteTime": {
     "end_time": "2017-12-16T01:23:12.966171",
     "start_time": "2017-12-16T01:23:12.959350"
    },
    "collapsed": false
   },
   "outputs": [
    {
     "data": {
      "text/plain": [
       "array([-0.06342255,  0.04916867, -0.        ,  0.        , -0.        ,\n",
       "        0.94678567,  0.02092737, -0.66900864,  0.26417501, -0.01520915,\n",
       "       -0.72319901,  0.00829117, -0.76143296])"
      ]
     },
     "execution_count": 25,
     "metadata": {},
     "output_type": "execute_result"
    }
   ],
   "source": [
    "clf.coef_"
   ]
  },
  {
   "cell_type": "code",
   "execution_count": 26,
   "metadata": {
    "ExecuteTime": {
     "end_time": "2017-12-16T01:23:13.291109",
     "start_time": "2017-12-16T01:23:13.285384"
    },
    "collapsed": false
   },
   "outputs": [
    {
     "name": "stdout",
     "output_type": "stream",
     "text": [
      "Всего Lasso выкинуло 3 переменных\n"
     ]
    }
   ],
   "source": [
    "print('Всего Lasso выкинуло %s переменных' % (clf.coef_ == 0).sum())"
   ]
  },
  {
   "cell_type": "code",
   "execution_count": 27,
   "metadata": {
    "ExecuteTime": {
     "end_time": "2017-12-16T01:23:13.723053",
     "start_time": "2017-12-16T01:23:13.715847"
    },
    "collapsed": false
   },
   "outputs": [
    {
     "name": "stdout",
     "output_type": "stream",
     "text": [
      "Это признаки:\n",
      " *  INDUS\n",
      " *  CHAS\n",
      " *  NOX\n"
     ]
    }
   ],
   "source": [
    "print('Это признаки:')\n",
    "for s in features[np.where(clf.coef_ == 0)[0]]:\n",
    "    print(' * ', s)"
   ]
  },
  {
   "cell_type": "markdown",
   "metadata": {
    "ExecuteTime": {
     "end_time": "2017-07-07T13:43:01.994115",
     "start_time": "2017-07-07T13:43:01.982864"
    }
   },
   "source": [
    "## RandomForest"
   ]
  },
  {
   "cell_type": "code",
   "execution_count": 28,
   "metadata": {
    "ExecuteTime": {
     "end_time": "2017-12-16T01:23:18.004412",
     "start_time": "2017-12-16T01:23:17.972677"
    },
    "collapsed": true
   },
   "outputs": [],
   "source": [
    "from sklearn.ensemble import RandomForestRegressor"
   ]
  },
  {
   "cell_type": "code",
   "execution_count": 29,
   "metadata": {
    "ExecuteTime": {
     "end_time": "2017-12-16T01:23:18.525288",
     "start_time": "2017-12-16T01:23:18.485991"
    },
    "collapsed": true
   },
   "outputs": [],
   "source": [
    "clf = RandomForestRegressor()\n",
    "clf.fit(X, y);"
   ]
  },
  {
   "cell_type": "code",
   "execution_count": 30,
   "metadata": {
    "ExecuteTime": {
     "end_time": "2017-12-16T01:23:19.011371",
     "start_time": "2017-12-16T01:23:19.003181"
    },
    "collapsed": false
   },
   "outputs": [
    {
     "data": {
      "text/plain": [
       "array([  3.49760981e-02,   6.65021209e-04,   6.29280521e-03,\n",
       "         4.47857240e-04,   2.41557432e-02,   3.19650691e-01,\n",
       "         1.32588996e-02,   7.15185850e-02,   1.24028043e-02,\n",
       "         1.31360583e-02,   2.28772592e-02,   9.79997747e-03,\n",
       "         4.70818200e-01])"
      ]
     },
     "execution_count": 30,
     "metadata": {},
     "output_type": "execute_result"
    }
   ],
   "source": [
    "clf.feature_importances_"
   ]
  },
  {
   "cell_type": "code",
   "execution_count": 31,
   "metadata": {
    "ExecuteTime": {
     "end_time": "2017-12-16T01:23:19.544758",
     "start_time": "2017-12-16T01:23:19.539417"
    },
    "collapsed": true
   },
   "outputs": [],
   "source": [
    "imp_feature_idx = clf.feature_importances_.argsort()"
   ]
  },
  {
   "cell_type": "code",
   "execution_count": 32,
   "metadata": {
    "ExecuteTime": {
     "end_time": "2017-12-16T01:23:20.145527",
     "start_time": "2017-12-16T01:23:20.140683"
    },
    "collapsed": false
   },
   "outputs": [
    {
     "data": {
      "text/plain": [
       "array([ 3,  1,  2, 11,  8,  9,  6, 10,  4,  0,  7,  5, 12])"
      ]
     },
     "execution_count": 32,
     "metadata": {},
     "output_type": "execute_result"
    }
   ],
   "source": [
    "imp_feature_idx"
   ]
  },
  {
   "cell_type": "code",
   "execution_count": 34,
   "metadata": {
    "ExecuteTime": {
     "end_time": "2017-12-16T01:23:29.950998",
     "start_time": "2017-12-16T01:23:29.946304"
    },
    "collapsed": true
   },
   "outputs": [],
   "source": [
    "from sklearn.metrics import r2_score"
   ]
  },
  {
   "cell_type": "code",
   "execution_count": 35,
   "metadata": {
    "ExecuteTime": {
     "end_time": "2017-12-16T01:23:31.043252",
     "start_time": "2017-12-16T01:23:30.375186"
    },
    "collapsed": false
   },
   "outputs": [
    {
     "data": {
      "image/png": "[encoded data removed]",
      "text/plain": [
       "<matplotlib.figure.Figure at 0x112075198>"
      ]
     },
     "metadata": {},
     "output_type": "display_data"
    }
   ],
   "source": [
    "quals = []\n",
    "for i in range(X.shape[1]):\n",
    "    clf = RandomForestRegressor()\n",
    "    clf.fit(X[:, imp_feature_idx[i:]], y)\n",
    "    q = r2_score(y, clf.predict(X[:, imp_feature_idx[i:]]))\n",
    "    quals.append(q)\n",
    "plt.figure(figsize=(10, 6));\n",
    "plt.plot(quals);"
   ]
  },
  {
   "cell_type": "code",
   "execution_count": 36,
   "metadata": {
    "ExecuteTime": {
     "end_time": "2017-12-16T01:23:31.629292",
     "start_time": "2017-12-16T01:23:31.624650"
    },
    "collapsed": false
   },
   "outputs": [
    {
     "data": {
      "text/plain": [
       "0.97800569335725562"
      ]
     },
     "execution_count": 36,
     "metadata": {},
     "output_type": "execute_result"
    }
   ],
   "source": [
    "max(quals)"
   ]
  },
  {
   "cell_type": "markdown",
   "metadata": {},
   "source": [
    "# Перебор"
   ]
  },
  {
   "cell_type": "markdown",
   "metadata": {},
   "source": [
    "## Exhaustive Feature Selector"
   ]
  },
  {
   "cell_type": "code",
   "execution_count": 41,
   "metadata": {
    "ExecuteTime": {
     "end_time": "2017-12-16T01:23:41.379150",
     "start_time": "2017-12-16T01:23:41.367075"
    },
    "collapsed": true
   },
   "outputs": [],
   "source": [
    "from mlxtend.feature_selection import ExhaustiveFeatureSelector"
   ]
  },
  {
   "cell_type": "code",
   "execution_count": 42,
   "metadata": {
    "ExecuteTime": {
     "end_time": "2017-12-16T01:23:41.955799",
     "start_time": "2017-12-16T01:23:41.952063"
    },
    "collapsed": true
   },
   "outputs": [],
   "source": [
    "import warnings"
   ]
  },
  {
   "cell_type": "code",
   "execution_count": 43,
   "metadata": {
    "ExecuteTime": {
     "end_time": "2017-12-16T01:23:42.958218",
     "start_time": "2017-12-16T01:23:42.953565"
    },
    "collapsed": true
   },
   "outputs": [],
   "source": [
    "efs = ExhaustiveFeatureSelector(Lasso(), \n",
    "           min_features=1,\n",
    "           max_features=10,\n",
    "           scoring='neg_mean_squared_error',\n",
    "           print_progress=True,\n",
    "           cv=5)"
   ]
  },
  {
   "cell_type": "code",
   "execution_count": 44,
   "metadata": {
    "ExecuteTime": {
     "end_time": "2017-12-16T01:25:08.876007",
     "start_time": "2017-12-16T01:23:43.692718"
    },
    "collapsed": false
   },
   "outputs": [
    {
     "name": "stderr",
     "output_type": "stream",
     "text": [
      "Features: 8099/8099"
     ]
    }
   ],
   "source": [
    "warnings.filterwarnings('ignore');\n",
    "efs.fit(X, y);"
   ]
  },
  {
   "cell_type": "code",
   "execution_count": 45,
   "metadata": {
    "ExecuteTime": {
     "end_time": "2017-12-16T01:25:11.817175",
     "start_time": "2017-12-16T01:25:11.811732"
    },
    "collapsed": false
   },
   "outputs": [
    {
     "name": "stdout",
     "output_type": "stream",
     "text": [
      "Best accuracy score: -33.13\n",
      "Best subset: (0, 1, 7, 8, 9, 10, 11, 12)\n"
     ]
    }
   ],
   "source": [
    "print('Best accuracy score: %.2f' % efs.best_score_)\n",
    "print('Best subset:', efs.best_idx_)"
   ]
  },
  {
   "cell_type": "markdown",
   "metadata": {},
   "source": [
    "## Sequential Feature Selector"
   ]
  },
  {
   "cell_type": "code",
   "execution_count": 46,
   "metadata": {
    "ExecuteTime": {
     "end_time": "2017-12-16T01:25:12.721348",
     "start_time": "2017-12-16T01:25:12.718519"
    },
    "collapsed": true
   },
   "outputs": [],
   "source": [
    "from mlxtend.feature_selection import SequentialFeatureSelector"
   ]
  },
  {
   "cell_type": "code",
   "execution_count": 50,
   "metadata": {
    "ExecuteTime": {
     "end_time": "2017-12-16T01:25:53.293976",
     "start_time": "2017-12-16T01:25:53.289975"
    },
    "collapsed": false
   },
   "outputs": [],
   "source": [
    "sfs = SequentialFeatureSelector(Lasso(), \n",
    "        k_features=(1,10),\n",
    "#            min_features=1,\n",
    "#            max_features=10,\n",
    "           scoring='neg_mean_squared_error',\n",
    "           print_progress=True,\n",
    "           cv=5)"
   ]
  },
  {
   "cell_type": "code",
   "execution_count": 51,
   "metadata": {
    "ExecuteTime": {
     "end_time": "2017-12-16T01:25:54.687847",
     "start_time": "2017-12-16T01:25:54.059970"
    },
    "collapsed": false
   },
   "outputs": [
    {
     "name": "stderr",
     "output_type": "stream",
     "text": [
      "Features: 10/10"
     ]
    }
   ],
   "source": [
    "warnings.filterwarnings('ignore');\n",
    "sfs.fit(X, y);"
   ]
  },
  {
   "cell_type": "code",
   "execution_count": 52,
   "metadata": {
    "ExecuteTime": {
     "end_time": "2017-12-16T01:26:21.666810",
     "start_time": "2017-12-16T01:26:21.662217"
    },
    "collapsed": false
   },
   "outputs": [
    {
     "data": {
      "text/plain": [
       "(0, 1, 2, 3, 7, 8, 9, 10, 11, 12)"
      ]
     },
     "execution_count": 52,
     "metadata": {},
     "output_type": "execute_result"
    }
   ],
   "source": [
    "sfs.k_feature_idx_"
   ]
  },
  {
   "cell_type": "markdown",
   "metadata": {},
   "source": [
    "# Что использовать?"
   ]
  },
  {
   "cell_type": "markdown",
   "metadata": {},
   "source": [
    "* Методы фильтрации измеряют полезность признака, измеряя его корреляцию с целевой переменной, в то время как методы-обертки измеряют ценность определенного подмножества признаков, тренируя полноценную модель. В том числе это и значит, что будут учтены и взаимодействия признаков.\n",
    "* Методы фильтрации работают намного быстрее, и на больших датасетах могут оказаться полезнее.\n",
    "* Выводы в методах фильтрации делаются по статистическим тестам, в модельных методах - по результатам кросс-валидации.\n",
    "* Модельные методы намного надежнее.\n",
    "* Взятие меньшего подмножества признаков через модельный отбор защищает от переобучения. Подобного результата фильтрация не гарантирует."
   ]
  },
  {
   "cell_type": "markdown",
   "metadata": {},
   "source": [
    "# Ультра анализ"
   ]
  },
  {
   "cell_type": "markdown",
   "metadata": {},
   "source": [
    "$$ \\large y = 10\\sin(\\pi x_1x_2) + 20(x_3 – 0.5)^2+10x_4 + 5x_5 + \\epsilon $$ "
   ]
  },
  {
   "cell_type": "code",
   "execution_count": 53,
   "metadata": {
    "ExecuteTime": {
     "end_time": "2017-12-16T01:26:44.485977",
     "start_time": "2017-12-16T01:26:44.478171"
    },
    "collapsed": true
   },
   "outputs": [],
   "source": [
    "from sklearn.linear_model import LinearRegression, Ridge, Lasso, RandomizedLasso\n",
    "from sklearn.feature_selection import RFE, f_regression\n",
    "from sklearn.preprocessing import MinMaxScaler\n",
    "from sklearn.ensemble import RandomForestRegressor\n",
    "\n",
    "from minepy import MINE"
   ]
  },
  {
   "cell_type": "code",
   "execution_count": 54,
   "metadata": {
    "ExecuteTime": {
     "end_time": "2017-12-16T01:26:46.783666",
     "start_time": "2017-12-16T01:26:46.776329"
    },
    "collapsed": true
   },
   "outputs": [],
   "source": [
    "size = 750\n",
    "X = np.random.uniform(0, 1, (size, 14))\n",
    " \n",
    "#\"Friedamn #1” regression problem\n",
    "Y = (10 * np.sin(np.pi*X[:,0]*X[:,1]) + 20*(X[:,2] - .5)**2 +\n",
    "     10*X[:,3] + 5*X[:,4] + np.random.normal(0,1))\n",
    "\n",
    "#Add 3 additional correlated variables (correlated with X1-X3)\n",
    "X[:,10:] = X[:,:4] + np.random.normal(0, .025, (size,4))\n",
    "names = [\"x%s\" % i for i in range(1,15)]"
   ]
  },
  {
   "cell_type": "code",
   "execution_count": 55,
   "metadata": {
    "ExecuteTime": {
     "end_time": "2017-12-16T01:26:47.983503",
     "start_time": "2017-12-16T01:26:47.978322"
    },
    "collapsed": true
   },
   "outputs": [],
   "source": [
    "ranks = {}\n",
    "\n",
    "def rank_to_dict(ranks, names, order=1):\n",
    "    minmax = MinMaxScaler()\n",
    "    ranks = minmax.fit_transform(order*np.array([ranks]).T).T[0]\n",
    "    ranks = map(lambda x: round(x, 2), ranks)\n",
    "    return dict(zip(names, ranks ))"
   ]
  },
  {
   "cell_type": "code",
   "execution_count": 56,
   "metadata": {
    "ExecuteTime": {
     "end_time": "2017-12-16T01:26:48.398743",
     "start_time": "2017-12-16T01:26:48.383078"
    },
    "collapsed": true
   },
   "outputs": [],
   "source": [
    "lr = LinearRegression(normalize=True)\n",
    "lr.fit(X, Y)\n",
    "ranks[\"LinReg\"] = rank_to_dict(np.abs(lr.coef_), names)"
   ]
  },
  {
   "cell_type": "code",
   "execution_count": 57,
   "metadata": {
    "ExecuteTime": {
     "end_time": "2017-12-16T01:26:48.839162",
     "start_time": "2017-12-16T01:26:48.829745"
    },
    "collapsed": true
   },
   "outputs": [],
   "source": [
    "ridge = Ridge(alpha=7)\n",
    "ridge.fit(X, Y)\n",
    "ranks[\"Ridge\"] = rank_to_dict(np.abs(ridge.coef_), names)"
   ]
  },
  {
   "cell_type": "code",
   "execution_count": 58,
   "metadata": {
    "ExecuteTime": {
     "end_time": "2017-12-16T01:26:49.428664",
     "start_time": "2017-12-16T01:26:49.421573"
    },
    "collapsed": true
   },
   "outputs": [],
   "source": [
    "lasso = Lasso(alpha=.05)\n",
    "lasso.fit(X, Y)\n",
    "ranks[\"Lasso\"] = rank_to_dict(np.abs(lasso.coef_), names)"
   ]
  },
  {
   "cell_type": "code",
   "execution_count": 59,
   "metadata": {
    "ExecuteTime": {
     "end_time": "2017-12-16T01:26:50.418710",
     "start_time": "2017-12-16T01:26:50.206842"
    },
    "collapsed": true
   },
   "outputs": [],
   "source": [
    "rlasso = RandomizedLasso(alpha=0.04)\n",
    "rlasso.fit(X, Y)\n",
    "ranks[\"Stab\"] = rank_to_dict(np.abs(rlasso.scores_), names)"
   ]
  },
  {
   "cell_type": "code",
   "execution_count": 60,
   "metadata": {
    "ExecuteTime": {
     "end_time": "2017-12-16T01:26:51.658606",
     "start_time": "2017-12-16T01:26:51.641474"
    },
    "collapsed": false
   },
   "outputs": [],
   "source": [
    "#stop the search when 5 features are left (they will get equal scores)\n",
    "rfe = RFE(lr, n_features_to_select=5)\n",
    "rfe.fit(X,Y)\n",
    "ranks[\"RFE\"] = rank_to_dict(np.array(list(map(float, rfe.ranking_))), names, order=-1)"
   ]
  },
  {
   "cell_type": "code",
   "execution_count": 61,
   "metadata": {
    "ExecuteTime": {
     "end_time": "2017-12-16T01:26:52.650611",
     "start_time": "2017-12-16T01:26:52.591272"
    },
    "collapsed": true
   },
   "outputs": [],
   "source": [
    "rf = RandomForestRegressor()\n",
    "rf.fit(X,Y)\n",
    "ranks[\"RF\"] = rank_to_dict(rf.feature_importances_, names)"
   ]
  },
  {
   "cell_type": "code",
   "execution_count": 62,
   "metadata": {
    "ExecuteTime": {
     "end_time": "2017-12-16T01:26:53.200727",
     "start_time": "2017-12-16T01:26:53.194176"
    },
    "collapsed": true
   },
   "outputs": [],
   "source": [
    "f, pval  = f_regression(X, Y, center=True)\n",
    "ranks[\"Corr.\"] = rank_to_dict(f, names)"
   ]
  },
  {
   "cell_type": "code",
   "execution_count": 63,
   "metadata": {
    "ExecuteTime": {
     "end_time": "2017-12-16T01:27:01.616999",
     "start_time": "2017-12-16T01:27:00.420601"
    },
    "collapsed": true
   },
   "outputs": [],
   "source": [
    "mine = MINE()\n",
    "mic_scores = []\n",
    "for i in range(X.shape[1]):\n",
    "    mine.compute_score(X[:,i], Y)\n",
    "    m = mine.mic()\n",
    "    mic_scores.append(m)\n",
    "\n",
    "ranks[\"MIC\"] = rank_to_dict(mic_scores, names) "
   ]
  },
  {
   "cell_type": "code",
   "execution_count": 64,
   "metadata": {
    "ExecuteTime": {
     "end_time": "2017-12-16T01:27:01.624604",
     "start_time": "2017-12-16T01:27:01.618426"
    },
    "collapsed": true
   },
   "outputs": [],
   "source": [
    "r = {}\n",
    "for name in names:\n",
    "    r[name] = round(np.mean([ranks[method][name] for method in ranks.keys()]), 2)"
   ]
  },
  {
   "cell_type": "code",
   "execution_count": 65,
   "metadata": {
    "ExecuteTime": {
     "end_time": "2017-12-16T01:27:02.635591",
     "start_time": "2017-12-16T01:27:02.632340"
    },
    "collapsed": true
   },
   "outputs": [],
   "source": [
    "methods = sorted(ranks.keys())\n",
    "ranks[\"Mean\"] = r\n",
    "methods.append(\"Mean\")"
   ]
  },
  {
   "cell_type": "code",
   "execution_count": 66,
   "metadata": {
    "ExecuteTime": {
     "end_time": "2017-12-16T01:27:03.327884",
     "start_time": "2017-12-16T01:27:03.319304"
    },
    "collapsed": false
   },
   "outputs": [
    {
     "name": "stdout",
     "output_type": "stream",
     "text": [
      "\tCorr.\tLasso\tLinReg\tMIC\tRF\tRFE\tRidge\tStab\tMean\n",
      "x1\t0.39\t0.3\t0.32\t0.71\t0.59\t1.0\t0.62\t0.39\t0.54\n",
      "x2\t0.29\t0.65\t1.0\t0.5\t0.33\t1.0\t0.67\t0.66\t0.64\n",
      "x3\t0.0\t0.0\t0.11\t0.29\t0.11\t0.56\t0.01\t0.0\t0.14\n",
      "x4\t1.0\t1.0\t0.97\t1.0\t0.96\t1.0\t0.98\t1.0\t0.99\n",
      "x5\t0.21\t0.53\t0.45\t0.26\t0.49\t1.0\t1.0\t0.69\t0.58\n",
      "x6\t0.0\t0.0\t0.01\t0.09\t0.01\t0.11\t0.01\t0.0\t0.03\n",
      "x7\t0.0\t0.0\t0.03\t0.11\t0.02\t0.44\t0.04\t0.0\t0.08\n",
      "x8\t0.0\t0.0\t0.0\t0.04\t0.02\t0.0\t0.0\t0.0\t0.01\n",
      "x9\t0.0\t0.0\t0.02\t0.17\t0.01\t0.33\t0.04\t0.0\t0.07\n",
      "x10\t0.0\t0.0\t0.02\t0.0\t0.0\t0.22\t0.03\t0.0\t0.03\n",
      "x11\t0.4\t0.35\t0.23\t0.53\t0.71\t0.89\t0.63\t0.58\t0.54\n",
      "x12\t0.29\t0.0\t0.45\t0.47\t0.73\t1.0\t0.58\t0.35\t0.48\n",
      "x13\t0.0\t0.0\t0.12\t0.39\t0.11\t0.67\t0.02\t0.0\t0.16\n",
      "x14\t0.98\t0.0\t0.16\t0.99\t1.0\t0.78\t0.89\t0.31\t0.64\n"
     ]
    }
   ],
   "source": [
    "print(\"\\t%s\" % \"\\t\".join(methods))\n",
    "for name in names:\n",
    "    print(\"%s\\t%s\" % (name, \"\\t\".join(map(str, [ranks[method][name] for method in methods]))))"
   ]
  },
  {
   "cell_type": "markdown",
   "metadata": {},
   "source": [
    "With linear correlation (Lin. corr.), each feature is evaluated independently, so the scores for features x1…x4 are very similar to x11…x14, while the noise features x5…x10 are correctly identified to have almost no relation with the response variable. It’s not able to identify any relationship between x3 and the response variable, since the relationship is quadratic (in fact, this applies almost all other methods except for MIC). It’s also clear that while the method is able to measure the linear relationship between each feature and the response variable, it is not optimal for selecting the top performing features for improving the generalization of a model, since all top performing features would essentially be picked twice.\n",
    "\n",
    "Lasso picks out the top performing features, while forcing other features to be close to zero. It is clearly useful when reducing the number of features is required, but not necessarily for data interpretation (since it might lead one to believe that features x11…x13 do not have a strong relationship with the output variable).\n",
    "\n",
    "MIC is similar to correlation coefficient in treating all features “equally”, additionally it is able to find the non-linear a relationship between x3 and the response.\n",
    "\n",
    "Random forest’s impurity based ranking is typically aggressive in the sense that there is a sharp drop-off of scores after the first few top ones. This can be seen from the example where the third ranked feature has already 4x smaller score than the top feature (whereas for the other ranking methods, the drop-off is clearly not that aggressive).\n",
    "\n",
    "Ridge regression forces regressions coefficients to spread out similarly between correlated variables. This is clearly visible in the example where x11…x14 are close to x1…x4 in terms of scores.\n",
    "\n",
    "Stability selection is often able to make a useful compromise between data interpretation and top feature selection for model improvement. This is illustrated well in the example. Just like Lasso it is able to identify the top features (x1, x2, x4, x5). At the same time their correlated shadow variables also get a high score, illustrating their relation with the response."
   ]
  }
 ],
 "metadata": {
  "kernelspec": {
   "display_name": "Python 3",
   "language": "python",
   "name": "python3"
  },
  "language_info": {
   "codemirror_mode": {
    "name": "ipython",
    "version": 3
   },
   "file_extension": ".py",
   "mimetype": "text/x-python",
   "name": "python",
   "nbconvert_exporter": "python",
   "pygments_lexer": "ipython3",
   "version": "3.6.0"
  },
  "toc": {
   "colors": {
    "hover_highlight": "#DAA520",
    "running_highlight": "#FF0000",
    "selected_highlight": "#FFD700"
   },
   "moveMenuLeft": true,
   "nav_menu": {
    "height": "246px",
    "width": "252px"
   },
   "navigate_menu": true,
   "number_sections": false,
   "sideBar": true,
   "threshold": 4,
   "toc_cell": false,
   "toc_section_display": "block",
   "toc_window_display": false
  }
 },
 "nbformat": 4,
 "nbformat_minor": 2
}
