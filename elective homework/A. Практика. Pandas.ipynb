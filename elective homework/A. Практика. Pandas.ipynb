{
 "cells": [
  {
   "cell_type": "code",
   "execution_count": null,
   "metadata": {
    "ExecuteTime": {
     "end_time": "2017-11-15T01:37:56.615409",
     "start_time": "2017-11-15T01:37:56.612092"
    },
    "collapsed": true
   },
   "outputs": [],
   "source": [
    "import pandas as pd"
   ]
  },
  {
   "cell_type": "code",
   "execution_count": null,
   "metadata": {
    "ExecuteTime": {
     "end_time": "2017-11-15T01:37:59.685332",
     "start_time": "2017-11-15T01:37:59.530855"
    },
    "collapsed": false
   },
   "outputs": [],
   "source": [
    "df = pd.read_csv(\n",
    "    # ваш путь к файлу data.csv\n",
    ")"
   ]
  },
  {
   "cell_type": "code",
   "execution_count": null,
   "metadata": {
    "ExecuteTime": {
     "end_time": "2017-11-15T01:27:04.478996",
     "start_time": "2017-11-15T01:27:04.436270"
    },
    "collapsed": false
   },
   "outputs": [],
   "source": [
    "df.head()"
   ]
  },
  {
   "cell_type": "markdown",
   "metadata": {},
   "source": [
    "<div class=\"panel panel-info\" style=\"margin: 50px 0 0 0\">\n",
    "    <div class=\"panel-heading\">\n",
    "        <h3 class=\"panel-title\">Задание 1: Причесываем колонки</h3> \n",
    "    </div>\n",
    "</div>\n",
    "\n",
    "Окей, мы прочитали данные, но с ними еще не совсем удобно работать!\n",
    "\n",
    "Прежде всего, __переименуйте колонки__ так, чтобы они все были на старом-добром английском языке. Выберите удобный вам формат, обычно предпочитают называть их __`likeThat`, `LikeThat`__ или __`like_that`__."
   ]
  },
  {
   "cell_type": "code",
   "execution_count": null,
   "metadata": {
    "ExecuteTime": {
     "end_time": "2017-11-15T01:27:07.296036",
     "start_time": "2017-11-15T01:27:07.291043"
    },
    "collapsed": false
   },
   "outputs": [],
   "source": [
    "# Ваш код здесь"
   ]
  },
  {
   "cell_type": "markdown",
   "metadata": {},
   "source": [
    "<div class=\"panel panel-info\" style=\"margin: 50px 0 0 0\">\n",
    "    <div class=\"panel-heading\">\n",
    "        <h3 class=\"panel-title\">Задание 2: Язык, понятный компуктору</h3> \n",
    "    </div>\n",
    "</div>\n",
    "\n",
    "Все русские слова - вон! Да, и значения в колонках в том числе. \n",
    "\n",
    "Замените все значения в колонках пола, признака состояния в браке и благонадежности на старые-добрые нули и единицы, раз уж уникальных значений в них не больше двух.\n",
    "\n",
    "Убедитесь, что у вас все получилось, вызвав __`value_counts()`__ у соответствующих колоночек. А потом и проверьте тип данных с помощью __`info()`__"
   ]
  },
  {
   "cell_type": "code",
   "execution_count": null,
   "metadata": {
    "ExecuteTime": {
     "end_time": "2017-11-15T01:27:07.296036",
     "start_time": "2017-11-15T01:27:07.291043"
    },
    "collapsed": false
   },
   "outputs": [],
   "source": [
    "# Ваш код здесь"
   ]
  },
  {
   "cell_type": "markdown",
   "metadata": {
    "ExecuteTime": {
     "end_time": "2017-11-15T01:04:37.820238",
     "start_time": "2017-11-15T01:04:37.803098"
    },
    "collapsed": false
   },
   "source": [
    "<div class=\"panel panel-warning\" style=\"margin: 0 0 0 0\">\n",
    "    <div class=\"panel-heading\">\n",
    "        <h3 class=\"panel-title\">Бонус!</h3> \n",
    "    </div>\n",
    "</div>\n",
    "\n",
    "Удали строчку с __NaN__! Найди ее! И удали!"
   ]
  },
  {
   "cell_type": "code",
   "execution_count": null,
   "metadata": {
    "ExecuteTime": {
     "end_time": "2017-11-15T01:27:07.296036",
     "start_time": "2017-11-15T01:27:07.291043"
    },
    "collapsed": false
   },
   "outputs": [],
   "source": [
    "# Ваш код здесь"
   ]
  },
  {
   "cell_type": "markdown",
   "metadata": {},
   "source": [
    "<div class=\"panel panel-info\" style=\"margin: 50px 0 0 0\">\n",
    "    <div class=\"panel-heading\">\n",
    "        <h3 class=\"panel-title\">Задание 3: Новые колонки</h3> \n",
    "    </div>\n",
    "</div>\n",
    "\n",
    "Помнишь еще, как создаются новые колонки? Ну ничего, погуглишь.\n",
    "\n",
    "1. Сделай новую колонку __а-ля \"удар по бюджету\"__, значения в которой равны доле месячного платежа к величине дохода.\n",
    "2. Посчитай в новой колонке __а-ля \"размер семьи\"__, сколько у заемщика человек в семье, то есть количество иждивенцев + муж/жена (если таковые имеются). \n",
    "2. Считая, что деньги в семье распределяются абсолютно честно, сделай новую колонку __а-ля \"моя доля\"__, значения в которой равны доходу (чистому, учитывая ежемесячный платеж!), деленному на количество человек в семье.\n",
    "\n",
    "Вызови __.head()__ и полюбуйся в конце на результаты своей работы."
   ]
  },
  {
   "cell_type": "code",
   "execution_count": null,
   "metadata": {
    "ExecuteTime": {
     "end_time": "2017-11-15T01:27:07.296036",
     "start_time": "2017-11-15T01:27:07.291043"
    },
    "collapsed": false
   },
   "outputs": [],
   "source": [
    "# Ваш код здесь"
   ]
  },
  {
   "cell_type": "markdown",
   "metadata": {
    "ExecuteTime": {
     "end_time": "2017-11-15T01:04:37.820238",
     "start_time": "2017-11-15T01:04:37.803098"
    },
    "collapsed": false
   },
   "source": [
    "<div class=\"panel panel-warning\" style=\"margin: 0 0 0 0\">\n",
    "    <div class=\"panel-heading\">\n",
    "        <h3 class=\"panel-title\">Бонус!</h3> \n",
    "    </div>\n",
    "</div>\n",
    "\n",
    "Удали один какой-нибудь ненужный столбец, если хочешь. Какой-нибудь бесполезный. Но лучше не надо."
   ]
  },
  {
   "cell_type": "code",
   "execution_count": null,
   "metadata": {
    "ExecuteTime": {
     "end_time": "2017-11-15T01:27:07.296036",
     "start_time": "2017-11-15T01:27:07.291043"
    },
    "collapsed": false
   },
   "outputs": [],
   "source": [
    "# Ваш код здесь"
   ]
  },
  {
   "cell_type": "markdown",
   "metadata": {},
   "source": [
    "<div class=\"panel panel-info\" style=\"margin: 50px 0 0 0\">\n",
    "    <div class=\"panel-heading\">\n",
    "        <h3 class=\"panel-title\">Задание 4: Время гуглить</h3> \n",
    "    </div>\n",
    "</div>\n",
    "\n",
    "В `pandas` есть функция под названием __`cut()`__, которая позволяет разбить значения признака на группы (или корзины), и присвоить каждой группе свою метку.\n",
    "\n",
    "Например, будет неплохой идеей разбить возраст на возрастные группы: до 18 лет, до 30 лет, до 50, до 99. И сделать новую колонку с соответствующей меткой. Можно, чтобы она была строкой, да.\n",
    "\n",
    "Как раз и вспомнишь, как новый столбец сделать.\n",
    "\n",
    "А потом посмотри на __`.value_counts()`__ этого столбца и сделай мудрые выводы."
   ]
  },
  {
   "cell_type": "code",
   "execution_count": null,
   "metadata": {
    "ExecuteTime": {
     "end_time": "2017-11-15T01:27:07.296036",
     "start_time": "2017-11-15T01:27:07.291043"
    },
    "collapsed": false
   },
   "outputs": [],
   "source": [
    "# Ваш код здесь"
   ]
  },
  {
   "cell_type": "markdown",
   "metadata": {},
   "source": [
    "<div class=\"panel panel-info\" style=\"margin: 50px 0 0 0\">\n",
    "    <div class=\"panel-heading\">\n",
    "        <h3 class=\"panel-title\">Задание 5: Время приключений</h3> \n",
    "    </div>\n",
    "</div>\n",
    "\n",
    "Кто тут data scientist? Ты data scientist!\n",
    "\n",
    "Докажи это! Исследуй данные вдоль и поперек!\n",
    "\n",
    "Группируй с помощью __`.groupby()`__ строки по полу, семейному статусу и всему другому, что приходит в голову, и считай статистики: средние и медианные доходы, квадратные метры и размеры семей. Не забывай учитывать и нашу целевую переменную - благонадежность - и задавать себе вопросы: _\"Правда ли, что старшее поколение более надежно в деле выплат?\"_, _\"Правда ли, что молодые больше зарабатывают?\"_, - все, что придумаешь.\n",
    "\n",
    "Не разочаруй! Удачи!\n",
    "А я спать, уже полвторого ночи, лол."
   ]
  },
  {
   "cell_type": "code",
   "execution_count": null,
   "metadata": {
    "ExecuteTime": {
     "end_time": "2017-11-15T01:27:07.296036",
     "start_time": "2017-11-15T01:27:07.291043"
    },
    "collapsed": false
   },
   "outputs": [],
   "source": [
    "# Ваш код здесь"
   ]
  }
 ],
 "metadata": {
  "kernelspec": {
   "display_name": "Python 3",
   "language": "python",
   "name": "python3"
  },
  "language_info": {
   "codemirror_mode": {
    "name": "ipython",
    "version": 3
   },
   "file_extension": ".py",
   "mimetype": "text/x-python",
   "name": "python",
   "nbconvert_exporter": "python",
   "pygments_lexer": "ipython3",
   "version": "3.6.0"
  },
  "toc": {
   "colors": {
    "hover_highlight": "#DAA520",
    "running_highlight": "#FF0000",
    "selected_highlight": "#FFD700"
   },
   "moveMenuLeft": true,
   "nav_menu": {
    "height": "138px",
    "width": "252px"
   },
   "navigate_menu": true,
   "number_sections": false,
   "sideBar": true,
   "threshold": 4,
   "toc_cell": false,
   "toc_section_display": "block",
   "toc_window_display": false
  }
 },
 "nbformat": 4,
 "nbformat_minor": 2
}
