{
 "cells": [
  {
   "cell_type": "code",
   "execution_count": null,
   "metadata": {
    "ExecuteTime": {
     "end_time": "2017-12-05T00:25:01.928345",
     "start_time": "2017-12-05T00:25:01.919509"
    },
    "collapsed": true
   },
   "outputs": [],
   "source": [
    "import pandas as pd\n",
    "import numpy as np\n",
    "\n",
    "import matplotlib.pyplot as plt\n",
    "%matplotlib inline\n",
    "\n",
    "from matplotlib import rcParams\n",
    "rcParams['figure.figsize'] = 10, 8\n",
    "rcParams['font.size'] = 16\n",
    "rcParams['axes.labelsize'] = 14\n",
    "rcParams['xtick.labelsize'] = 13\n",
    "rcParams['ytick.labelsize'] = 13\n",
    "rcParams['legend.fontsize'] = 15\n",
    "\n",
    "import seaborn as sns\n",
    "sns.set()"
   ]
  },
  {
   "cell_type": "markdown",
   "metadata": {},
   "source": [
    "<div class=\"panel panel-info\" style=\"margin: 50px 0 0 0\">\n",
    "    <div class=\"panel-heading\">\n",
    "        <h1 class=\"panel-title\">Задача 1. Проблема XOR</h1> \n",
    "    </div>\n",
    "</div>"
   ]
  },
  {
   "cell_type": "markdown",
   "metadata": {},
   "source": [
    "Все просто. У вас есть нижеследующий датафрейм. Тут есть `x` и `y`. XOR - линейно неразделимая функция, а логистическая регрессия, как мы с вами знаем, порождает только линейно разделимые функции.\n",
    "\n",
    "1. Постройте диаграмму рассеяния, покрасив точки с помощью моей функции `paint`: __`plt.scatter(df.x, df.y, c=paint(df['or']))`__\n",
    "2. Ответьте на вопросы: линейно ли разделимы точки для `or` и `and`?\n",
    "3. Вспомните, как вы в школе изобретали `xor` из простецких функций типа __`not`, `and`__ и __`or`__.\n",
    "4. Применение каждого __`nor`, `nand`, `or`__ или __`nor`__ выполните с помощью логрегресии.\n",
    "5. Изобретите __`xor`__ заново!"
   ]
  },
  {
   "cell_type": "code",
   "execution_count": null,
   "metadata": {
    "ExecuteTime": {
     "end_time": "2017-12-05T00:25:05.670901",
     "start_time": "2017-12-05T00:25:05.666782"
    },
    "collapsed": true
   },
   "outputs": [],
   "source": [
    "colors = ['red', 'blue', 'green', 'yellow', 'orange', 'brown', 'coral']\n",
    "paint = lambda s: s.map({ x: colors[i] for i,x in enumerate(s.unique()) })"
   ]
  },
  {
   "cell_type": "code",
   "execution_count": null,
   "metadata": {
    "ExecuteTime": {
     "end_time": "2017-12-05T00:25:06.106185",
     "start_time": "2017-12-05T00:25:06.098995"
    },
    "collapsed": true
   },
   "outputs": [],
   "source": [
    "df = pd.DataFrame({ \n",
    "    'x':   [0,1,0,1], \n",
    "    'y':   [0,0,1,1], \n",
    "    'or':  [0,1,1,1], \n",
    "    'and': [0,0,0,1], \n",
    "    'xor': [0,1,1,0]})"
   ]
  },
  {
   "cell_type": "code",
   "execution_count": null,
   "metadata": {
    "ExecuteTime": {
     "end_time": "2017-12-05T00:25:14.577069",
     "start_time": "2017-12-05T00:25:14.574092"
    },
    "collapsed": true
   },
   "outputs": [],
   "source": [
    "# Ваш код здесь"
   ]
  },
  {
   "cell_type": "markdown",
   "metadata": {},
   "source": [
    "<div class=\"panel panel-info\" style=\"margin: 50px 0 0 0\">\n",
    "    <div class=\"panel-heading\">\n",
    "        <h1 class=\"panel-title\">Задача 2. Нелинейность и упорство</h1> \n",
    "    </div>\n",
    "</div>"
   ]
  },
  {
   "cell_type": "markdown",
   "metadata": {},
   "source": [
    "Обрати внимание на три файла с данными, что я прикрепил:\n",
    "\n",
    "* rings.csv - самый простой\n",
    "* horse_shoes.csv - чуть сложнее\n",
    "* strips.csv или levels.csv - сложные\n",
    "\n",
    "План, значит, таков:\n",
    "\n",
    "1. Ставишь путь к нему в PATH.\n",
    "2. Смотришь на ту визуализацию, что выходит.\n",
    "3. Добавляешь такие признаки, которые помогут LogisticRegression разделить классы."
   ]
  },
  {
   "cell_type": "code",
   "execution_count": null,
   "metadata": {
    "ExecuteTime": {
     "end_time": "2017-12-05T00:26:05.881618",
     "start_time": "2017-12-05T00:26:05.878557"
    },
    "collapsed": true
   },
   "outputs": [],
   "source": [
    "PATH = 'data/LogisticRegressionHW/rings.csv' # путь к rings.csv, horse_shoes.csv, strips.csv или levels.csv "
   ]
  },
  {
   "cell_type": "code",
   "execution_count": null,
   "metadata": {
    "ExecuteTime": {
     "end_time": "2017-12-05T00:26:06.477298",
     "start_time": "2017-12-05T00:26:06.457950"
    },
    "collapsed": false
   },
   "outputs": [],
   "source": [
    "STEPS = 100\n",
    "XX, YY = None, None\n",
    "\n",
    "def read_df(path):\n",
    "    from sklearn.preprocessing import LabelEncoder\n",
    "    df = pd.read_csv(path, index_col=None).drop([0,1]).reset_index(drop=True)\n",
    "    df.x = df.x.astype(np.float64)\n",
    "    df.y = df.y.astype(np.float64)\n",
    "    df.Class = LabelEncoder().fit_transform(df.Class)\n",
    "    return df\n",
    "\n",
    "def prepare_test_df(df):\n",
    "    global XX, YY\n",
    "    x_range = np.linspace(df.x.min(), df.x.max(), STEPS)\n",
    "    y_range = np.linspace(df.y.min(), df.y.max(), STEPS)\n",
    "    XX, YY = np.meshgrid(x_range, y_range)\n",
    "    xy = np.c_[XX.ravel(), YY.ravel()]\n",
    "    return pd.DataFrame(data={ 'x': xy[:, 0], 'y': xy[:, 1] })\n",
    "\n",
    "def draw_decision_regions(Z):\n",
    "    _,ax = plt.subplots(figsize=(7,7))\n",
    "    ax.contourf(XX, YY, Z.reshape(XX.shape), cmap=plt.cm.Blues, alpha=0.8);\n",
    "    ax.scatter(df.x, df.y, c=paint(df.Class), alpha=0.6);"
   ]
  },
  {
   "cell_type": "code",
   "execution_count": null,
   "metadata": {
    "ExecuteTime": {
     "end_time": "2017-12-05T00:26:07.041156",
     "start_time": "2017-12-05T00:26:07.025434"
    },
    "collapsed": false
   },
   "outputs": [],
   "source": [
    "df = read_df(PATH)\n",
    "df_test = prepare_test_df(df)"
   ]
  },
  {
   "cell_type": "code",
   "execution_count": null,
   "metadata": {
    "ExecuteTime": {
     "end_time": "2017-12-05T00:26:08.737813",
     "start_time": "2017-12-05T00:26:08.397358"
    },
    "collapsed": false
   },
   "outputs": [],
   "source": [
    "plt.scatter(df.x, df.y, c=paint(df.Class), alpha=0.6);"
   ]
  },
  {
   "cell_type": "code",
   "execution_count": null,
   "metadata": {
    "ExecuteTime": {
     "end_time": "2017-12-05T00:26:16.397148",
     "start_time": "2017-12-05T00:26:16.243569"
    },
    "collapsed": true
   },
   "outputs": [],
   "source": [
    "from sklearn.linear_model import LogisticRegression"
   ]
  },
  {
   "cell_type": "code",
   "execution_count": null,
   "metadata": {
    "ExecuteTime": {
     "end_time": "2017-12-05T00:26:16.739142",
     "start_time": "2017-12-05T00:26:16.729531"
    },
    "collapsed": true
   },
   "outputs": [],
   "source": [
    "clf = LogisticRegression()\n",
    "clf.fit(df.drop('Class', axis=1), df.Class);\n",
    "Z = clf.predict(df_test)"
   ]
  },
  {
   "cell_type": "code",
   "execution_count": null,
   "metadata": {
    "ExecuteTime": {
     "end_time": "2017-12-05T00:26:17.758336",
     "start_time": "2017-12-05T00:26:17.401664"
    },
    "collapsed": false
   },
   "outputs": [],
   "source": [
    "# разделяющая граница по умолчанию:\n",
    "draw_decision_regions(Z)"
   ]
  },
  {
   "cell_type": "code",
   "execution_count": null,
   "metadata": {
    "ExecuteTime": {
     "end_time": "2017-12-05T00:27:07.463605",
     "start_time": "2017-12-05T00:27:07.459594"
    },
    "collapsed": false
   },
   "outputs": [],
   "source": [
    "def add_features(df):\n",
    "    # добавь здесь признаки в виде df['my_new_feature'] = ...\n",
    "    # из функции ничего возвращать не надо\n",
    "    pass\n",
    "    \n",
    "add_features(df)\n",
    "add_features(df_test)"
   ]
  },
  {
   "cell_type": "code",
   "execution_count": null,
   "metadata": {
    "ExecuteTime": {
     "end_time": "2017-12-05T00:27:08.324594",
     "start_time": "2017-12-05T00:27:08.317690"
    },
    "collapsed": true
   },
   "outputs": [],
   "source": [
    "clf = LogisticRegression()\n",
    "clf.fit(df.drop('Class', axis=1), df.Class);\n",
    "Z = clf.predict(df_test)"
   ]
  },
  {
   "cell_type": "code",
   "execution_count": null,
   "metadata": {
    "ExecuteTime": {
     "end_time": "2017-12-05T00:27:27.820234",
     "start_time": "2017-12-05T00:27:27.447613"
    },
    "collapsed": false
   },
   "outputs": [],
   "source": [
    "# после этого должно быть все ок\n",
    "draw_decision_regions(Z)"
   ]
  },
  {
   "cell_type": "markdown",
   "metadata": {},
   "source": [
    "<div class=\"panel panel-info\" style=\"margin: 50px 0 0 0\">\n",
    "    <div class=\"panel-heading\">\n",
    "        <h1 class=\"panel-title\">Задача 3. Добро пожаловать на Kaggle!</h1> \n",
    "    </div>\n",
    "</div>"
   ]
  },
  {
   "cell_type": "markdown",
   "metadata": {},
   "source": [
    "Зайдите на http://www.kaggle.com и зарегистрируйтесь. \n",
    "\n",
    "Далее вам нужен датасет по этой ссылке: https://www.kaggle.com/c/ghouls-goblins-and-ghosts-boo . И __train__, и __test__, и __sample_submission__. \n",
    "\n",
    "Скачайте его и положите рядом с тетрадью, как вам удобнее."
   ]
  },
  {
   "cell_type": "code",
   "execution_count": null,
   "metadata": {
    "ExecuteTime": {
     "end_time": "2017-12-05T00:28:10.486249",
     "start_time": "2017-12-05T00:28:10.476220"
    },
    "collapsed": false
   },
   "outputs": [],
   "source": [
    "train, test = pd.read_csv(\n",
    "    # путь к вашему train-файлу\n",
    "), pd.read_csv(\n",
    "    # путь к вашему test-файлу\n",
    ")"
   ]
  },
  {
   "cell_type": "code",
   "execution_count": null,
   "metadata": {
    "ExecuteTime": {
     "end_time": "2017-12-05T00:28:11.510625",
     "start_time": "2017-12-05T00:28:11.496691"
    },
    "collapsed": false
   },
   "outputs": [],
   "source": [
    "train.head()"
   ]
  },
  {
   "cell_type": "code",
   "execution_count": null,
   "metadata": {
    "ExecuteTime": {
     "end_time": "2017-12-05T00:28:13.288912",
     "start_time": "2017-12-05T00:28:13.283998"
    },
    "collapsed": false
   },
   "outputs": [],
   "source": [
    "X = train.drop(['id', 'type'], axis=1)\n",
    "y = train['type']"
   ]
  },
  {
   "cell_type": "markdown",
   "metadata": {},
   "source": [
    "# К делу!"
   ]
  },
  {
   "cell_type": "markdown",
   "metadata": {},
   "source": [
    "## Выполним необходимое кодирование\n",
    "\n",
    "В этот раз я помогу немного :)"
   ]
  },
  {
   "cell_type": "markdown",
   "metadata": {},
   "source": [
    "### Метки классов"
   ]
  },
  {
   "cell_type": "code",
   "execution_count": null,
   "metadata": {
    "ExecuteTime": {
     "end_time": "2017-12-05T00:28:16.310485",
     "start_time": "2017-12-05T00:28:16.307921"
    },
    "collapsed": true
   },
   "outputs": [],
   "source": [
    "from sklearn.preprocessing import LabelEncoder"
   ]
  },
  {
   "cell_type": "code",
   "execution_count": null,
   "metadata": {
    "ExecuteTime": {
     "end_time": "2017-12-05T00:28:17.305324",
     "start_time": "2017-12-05T00:28:17.301691"
    },
    "collapsed": true
   },
   "outputs": [],
   "source": [
    "answers_encoder = LabelEncoder()\n",
    "y = answers_encoder.fit_transform(y)"
   ]
  },
  {
   "cell_type": "code",
   "execution_count": null,
   "metadata": {
    "ExecuteTime": {
     "end_time": "2017-12-05T00:28:17.788284",
     "start_time": "2017-12-05T00:28:17.782841"
    },
    "collapsed": false
   },
   "outputs": [],
   "source": [
    "y[:5] # вместо строк получились метки классов"
   ]
  },
  {
   "cell_type": "code",
   "execution_count": null,
   "metadata": {
    "ExecuteTime": {
     "end_time": "2017-12-05T00:28:19.495338",
     "start_time": "2017-12-05T00:28:19.488633"
    },
    "collapsed": false
   },
   "outputs": [],
   "source": [
    "answers_encoder.classes_ # - здесь наши классы все еще лежат"
   ]
  },
  {
   "cell_type": "markdown",
   "metadata": {},
   "source": [
    "Используйте метод __inverse_transform__, чтобы превратить предсказания алгоритмов (числа) обратно в строки:"
   ]
  },
  {
   "cell_type": "code",
   "execution_count": null,
   "metadata": {
    "ExecuteTime": {
     "end_time": "2017-12-04T17:20:05.152756",
     "start_time": "2017-12-04T17:20:05.025244"
    },
    "collapsed": true
   },
   "outputs": [],
   "source": [
    "from sklearn.linear_model import LogisticRegression"
   ]
  },
  {
   "cell_type": "code",
   "execution_count": null,
   "metadata": {
    "ExecuteTime": {
     "end_time": "2017-07-20T15:19:11.872037",
     "start_time": "2017-07-20T15:19:11.868624"
    },
    "collapsed": false
   },
   "outputs": [],
   "source": [
    "answers_encoder.inverse_transform(\n",
    "    # сюда массив с предсказаниями\n",
    ")"
   ]
  },
  {
   "cell_type": "markdown",
   "metadata": {},
   "source": [
    "```python\n",
    "# типа того:\n",
    "clf = LogisticRegression()\n",
    "clf.fit(X_train, y_train);\n",
    "predicts = clf.predict(X_test)\n",
    "strings = answers_encoder.inverse_transform(predicts) # <-- !\n",
    "```"
   ]
  },
  {
   "cell_type": "markdown",
   "metadata": {},
   "source": [
    "### Теперь все признаки"
   ]
  },
  {
   "cell_type": "markdown",
   "metadata": {},
   "source": [
    "У нас встретился признак цвета - __color__ - закодируем его так, как я сделал ниже. В этот раз."
   ]
  },
  {
   "cell_type": "code",
   "execution_count": null,
   "metadata": {
    "ExecuteTime": {
     "end_time": "2017-12-05T00:28:25.152156",
     "start_time": "2017-12-05T00:28:25.138259"
    },
    "code_folding": [],
    "collapsed": true
   },
   "outputs": [],
   "source": [
    "def onehot_encode(df_train, df_test, column):\n",
    "    from sklearn.preprocessing import LabelBinarizer\n",
    "    \n",
    "    cs = df_train.select_dtypes(include=['O']).columns.values\n",
    "    if column not in cs:\n",
    "        return (df_train, df_test, None)\n",
    "\n",
    "    rest = [x for x in df_train.columns.values if x != column]\n",
    "\n",
    "    lb = LabelBinarizer()\n",
    "    train_data = lb.fit_transform(df_train[column])\n",
    "    test_data = lb.transform(df_test[column])\n",
    "    new_col_names = ['%s_%s' % (column, x) for x in lb.classes_]\n",
    "\n",
    "    if len(new_col_names) != train_data.shape[1]:\n",
    "        new_col_names = new_col_names[::-1][:train_data.shape[1]]\n",
    "\n",
    "    new_train = pd.concat((df_train.drop([column], axis=1), pd.DataFrame(data=train_data, columns=new_col_names)), axis=1)\n",
    "    new_test = pd.concat((df_test.drop([column], axis=1), pd.DataFrame(data=test_data, columns=new_col_names)), axis=1)\n",
    "    return (new_train, new_test, lb)"
   ]
  },
  {
   "cell_type": "code",
   "execution_count": null,
   "metadata": {
    "ExecuteTime": {
     "end_time": "2017-12-05T00:28:25.803347",
     "start_time": "2017-12-05T00:28:25.790276"
    },
    "collapsed": false
   },
   "outputs": [],
   "source": [
    "X.head(2)"
   ]
  },
  {
   "cell_type": "code",
   "execution_count": null,
   "metadata": {
    "ExecuteTime": {
     "end_time": "2017-12-05T00:28:26.487310",
     "start_time": "2017-12-05T00:28:26.474446"
    },
    "collapsed": false
   },
   "outputs": [],
   "source": [
    "X, test, lb = onehot_encode(X, test, 'color')"
   ]
  },
  {
   "cell_type": "code",
   "execution_count": null,
   "metadata": {
    "ExecuteTime": {
     "end_time": "2017-12-05T00:28:27.231694",
     "start_time": "2017-12-05T00:28:27.218049"
    },
    "collapsed": false
   },
   "outputs": [],
   "source": [
    "X.head(2)"
   ]
  },
  {
   "cell_type": "code",
   "execution_count": null,
   "metadata": {
    "ExecuteTime": {
     "end_time": "2017-12-05T00:28:29.507004",
     "start_time": "2017-12-05T00:28:29.486519"
    },
    "collapsed": false
   },
   "outputs": [],
   "source": [
    "test.head(2) "
   ]
  },
  {
   "cell_type": "markdown",
   "metadata": {},
   "source": [
    "Мы превратили все признаки в числовой вид, и с этим можно работать!"
   ]
  },
  {
   "cell_type": "markdown",
   "metadata": {},
   "source": [
    "# Классификация"
   ]
  },
  {
   "cell_type": "markdown",
   "metadata": {},
   "source": [
    "Зафиксируем генератор случайных чисел, чтобы у всех вас получались одни и те же значения:"
   ]
  },
  {
   "cell_type": "code",
   "execution_count": null,
   "metadata": {
    "ExecuteTime": {
     "end_time": "2017-12-05T00:28:33.231394",
     "start_time": "2017-12-05T00:28:33.228019"
    },
    "collapsed": true
   },
   "outputs": [],
   "source": [
    "SEED = 1234\n",
    "np.random.seed = SEED"
   ]
  },
  {
   "cell_type": "markdown",
   "metadata": {},
   "source": [
    "<div class=\"panel panel-info\" style=\"margin: 50px 0 0 0\">\n",
    "    <div class=\"panel-heading\">\n",
    "        <h3 class=\"panel-title\">Задача 3.1.</h3> \n",
    "    </div>\n",
    "</div>"
   ]
  },
  {
   "cell_type": "markdown",
   "metadata": {},
   "source": [
    "Обучите <b>LogisticRegression</b> (конечно же, с лучшими найденными параметрами с помощью GridSearch) из пакета <b>sklearn.linear_model</b>. \n",
    "\n",
    "Проверьте его качество."
   ]
  },
  {
   "cell_type": "code",
   "execution_count": null,
   "metadata": {
    "collapsed": true
   },
   "outputs": [],
   "source": [
    "# Ваш код здесь"
   ]
  },
  {
   "cell_type": "markdown",
   "metadata": {},
   "source": [
    "<div class=\"panel panel-info\" style=\"margin: 50px 0 0 0\">\n",
    "    <div class=\"panel-heading\">\n",
    "        <h3 class=\"panel-title\">Задача 3.2.</h3> \n",
    "    </div>\n",
    "</div>"
   ]
  },
  {
   "cell_type": "markdown",
   "metadata": {},
   "source": [
    "Время дать шанс __KNearestNeighbors__ из пакета __sklearn.neighbors__ и __SVC__ из пакета __sklearn.svm__. Сделайте то же, что и сделали выше."
   ]
  },
  {
   "cell_type": "code",
   "execution_count": null,
   "metadata": {
    "collapsed": true
   },
   "outputs": [],
   "source": [
    "# Ваш код здесь"
   ]
  },
  {
   "cell_type": "markdown",
   "metadata": {},
   "source": [
    "<div class=\"panel panel-info\" style=\"margin: 50px 0 0 0\">\n",
    "    <div class=\"panel-heading\">\n",
    "        <h3 class=\"panel-title\">Задача 3.3.</h3> \n",
    "    </div>\n",
    "</div>"
   ]
  },
  {
   "cell_type": "markdown",
   "metadata": {},
   "source": [
    "Постройте матрицу перепутывания классов с помощью __scikit-plot__.\n",
    "\n",
    "Проанализируйте ваши ответы. Посмотрите на графики гистограмм различных признаков (не забудьте раскрасить по принадлежности к классу)."
   ]
  },
  {
   "cell_type": "code",
   "execution_count": null,
   "metadata": {
    "ExecuteTime": {
     "end_time": "2017-12-05T00:35:02.604135",
     "start_time": "2017-12-05T00:35:02.601064"
    },
    "collapsed": true
   },
   "outputs": [],
   "source": [
    "# Ваш код здесь"
   ]
  },
  {
   "cell_type": "markdown",
   "metadata": {},
   "source": [
    "<div class=\"panel panel-info\" style=\"margin: 50px 0 0 0\">\n",
    "    <div class=\"panel-heading\">\n",
    "        <h3 class=\"panel-title\">Задача 3.4.</h3> \n",
    "    </div>\n",
    "</div>"
   ]
  },
  {
   "cell_type": "markdown",
   "metadata": {},
   "source": [
    "Предскажите найденным вами лучшим алгоритмом тестовую (датафрейм __test__) выборку. Обратите внимание на файл __sample_submission__ - формат отправки ответов. Сделайте так же, например.\n",
    "\n",
    "Отошлите результаты на Kaggle в их проверяющую систему.\n",
    "\n",
    "Расскажите о ваших результатах на паре или напишите в нашу беседку в ВК :)"
   ]
  },
  {
   "cell_type": "code",
   "execution_count": null,
   "metadata": {
    "ExecuteTime": {
     "end_time": "2017-12-05T00:35:55.715323",
     "start_time": "2017-12-05T00:35:55.712709"
    },
    "collapsed": true
   },
   "outputs": [],
   "source": [
    "# Ваш код здесь"
   ]
  },
  {
   "cell_type": "markdown",
   "metadata": {},
   "source": [
    "С помощью кода ниже можно записать ваши предсказания в файл:\n",
    "\n",
    "```python\n",
    "answers = pd.DataFrame(data={'id': [1,2,3], 'type': ['Ghost','Goblin','Ghoul']})\n",
    "answers.to_csv('submission.csv', index=False)\n",
    "```"
   ]
  }
 ],
 "metadata": {
  "kernelspec": {
   "display_name": "Python 3",
   "language": "python",
   "name": "python3"
  },
  "language_info": {
   "codemirror_mode": {
    "name": "ipython",
    "version": 3
   },
   "file_extension": ".py",
   "mimetype": "text/x-python",
   "name": "python",
   "nbconvert_exporter": "python",
   "pygments_lexer": "ipython3",
   "version": "3.6.0"
  },
  "toc": {
   "colors": {
    "hover_highlight": "#DAA520",
    "running_highlight": "#FF0000",
    "selected_highlight": "#FFD700"
   },
   "moveMenuLeft": true,
   "nav_menu": {
    "height": "48px",
    "width": "252px"
   },
   "navigate_menu": true,
   "number_sections": true,
   "sideBar": true,
   "threshold": 4,
   "toc_cell": false,
   "toc_section_display": "block",
   "toc_window_display": false
  }
 },
 "nbformat": 4,
 "nbformat_minor": 2
}
