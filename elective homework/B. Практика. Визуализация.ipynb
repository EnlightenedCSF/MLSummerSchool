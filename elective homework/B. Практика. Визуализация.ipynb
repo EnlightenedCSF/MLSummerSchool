{
 "cells": [
  {
   "cell_type": "code",
   "execution_count": 1,
   "metadata": {
    "ExecuteTime": {
     "end_time": "2017-11-21T01:59:48.502815",
     "start_time": "2017-11-21T01:59:48.489136"
    },
    "collapsed": true
   },
   "outputs": [],
   "source": [
    "import pandas as pd\n",
    "pd.options.display.max_columns = 200\n",
    "pd.options.display.max_rows = 400\n",
    "\n",
    "import matplotlib.pyplot as plt\n",
    "%matplotlib inline\n",
    "\n",
    "import seaborn as sns\n",
    "sns.set_style(\"whitegrid\")"
   ]
  },
  {
   "cell_type": "code",
   "execution_count": 2,
   "metadata": {
    "ExecuteTime": {
     "end_time": "2017-11-21T01:59:49.976592",
     "start_time": "2017-11-21T01:59:49.971034"
    },
    "code_folding": [],
    "collapsed": true
   },
   "outputs": [],
   "source": [
    "from matplotlib import rcParams\n",
    "\n",
    "rcParams['figure.figsize'] = 10, 8\n",
    "rcParams['font.size'] = 16\n",
    "rcParams['axes.labelsize'] = 14\n",
    "rcParams['xtick.labelsize'] = 13\n",
    "rcParams['ytick.labelsize'] = 13\n",
    "rcParams['legend.fontsize'] = 15"
   ]
  },
  {
   "cell_type": "code",
   "execution_count": 3,
   "metadata": {
    "ExecuteTime": {
     "end_time": "2017-11-21T01:59:50.500329",
     "start_time": "2017-11-21T01:59:50.497020"
    },
    "collapsed": true
   },
   "outputs": [],
   "source": [
    "from IPython.display import Image"
   ]
  },
  {
   "cell_type": "markdown",
   "metadata": {
    "ExecuteTime": {
     "end_time": "2017-11-21T00:05:55.869564",
     "start_time": "2017-11-21T00:05:55.859151"
    }
   },
   "source": [
    "![](images/pokemonBg.png)"
   ]
  },
  {
   "cell_type": "markdown",
   "metadata": {},
   "source": [
    "# Данные"
   ]
  },
  {
   "cell_type": "code",
   "execution_count": 4,
   "metadata": {
    "ExecuteTime": {
     "end_time": "2017-11-21T01:59:07.593889",
     "start_time": "2017-11-21T01:59:07.583057"
    },
    "collapsed": true
   },
   "outputs": [],
   "source": [
    "df = pd.read_csv(\n",
    "    # путь к вашему файлу pokemon_full\n",
    ")\n",
    "df.drop('Number', axis=1, inplace=True)"
   ]
  },
  {
   "cell_type": "code",
   "execution_count": 5,
   "metadata": {
    "ExecuteTime": {
     "end_time": "2017-11-21T01:59:08.948120",
     "start_time": "2017-11-21T01:59:08.918268"
    },
    "collapsed": false
   },
   "outputs": [
    {
     "name": "stdout",
     "output_type": "stream",
     "text": [
      "(721, 22)\n"
     ]
    },
    {
     "data": {
      "text/html": [
       "<div>\n",
       "<style>\n",
       "    .dataframe thead tr:only-child th {\n",
       "        text-align: right;\n",
       "    }\n",
       "\n",
       "    .dataframe thead th {\n",
       "        text-align: left;\n",
       "    }\n",
       "\n",
       "    .dataframe tbody tr th {\n",
       "        vertical-align: top;\n",
       "    }\n",
       "</style>\n",
       "<table border=\"1\" class=\"dataframe\">\n",
       "  <thead>\n",
       "    <tr style=\"text-align: right;\">\n",
       "      <th></th>\n",
       "      <th>Name</th>\n",
       "      <th>Type_1</th>\n",
       "      <th>Type_2</th>\n",
       "      <th>Total</th>\n",
       "      <th>HP</th>\n",
       "      <th>Attack</th>\n",
       "      <th>Defense</th>\n",
       "      <th>Sp_Atk</th>\n",
       "      <th>Sp_Def</th>\n",
       "      <th>Speed</th>\n",
       "      <th>Generation</th>\n",
       "      <th>isLegendary</th>\n",
       "      <th>Color</th>\n",
       "      <th>hasGender</th>\n",
       "      <th>Pr_Male</th>\n",
       "      <th>Egg_Group_1</th>\n",
       "      <th>Egg_Group_2</th>\n",
       "      <th>hasMegaEvolution</th>\n",
       "      <th>Height_m</th>\n",
       "      <th>Weight_kg</th>\n",
       "      <th>Catch_Rate</th>\n",
       "      <th>Body_Style</th>\n",
       "    </tr>\n",
       "  </thead>\n",
       "  <tbody>\n",
       "    <tr>\n",
       "      <th>0</th>\n",
       "      <td>Bulbasaur</td>\n",
       "      <td>Grass</td>\n",
       "      <td>Poison</td>\n",
       "      <td>318</td>\n",
       "      <td>45</td>\n",
       "      <td>49</td>\n",
       "      <td>49</td>\n",
       "      <td>65</td>\n",
       "      <td>65</td>\n",
       "      <td>45</td>\n",
       "      <td>1</td>\n",
       "      <td>False</td>\n",
       "      <td>Green</td>\n",
       "      <td>True</td>\n",
       "      <td>0.875</td>\n",
       "      <td>Monster</td>\n",
       "      <td>Grass</td>\n",
       "      <td>False</td>\n",
       "      <td>0.71</td>\n",
       "      <td>6.9</td>\n",
       "      <td>45</td>\n",
       "      <td>quadruped</td>\n",
       "    </tr>\n",
       "    <tr>\n",
       "      <th>1</th>\n",
       "      <td>Ivysaur</td>\n",
       "      <td>Grass</td>\n",
       "      <td>Poison</td>\n",
       "      <td>405</td>\n",
       "      <td>60</td>\n",
       "      <td>62</td>\n",
       "      <td>63</td>\n",
       "      <td>80</td>\n",
       "      <td>80</td>\n",
       "      <td>60</td>\n",
       "      <td>1</td>\n",
       "      <td>False</td>\n",
       "      <td>Green</td>\n",
       "      <td>True</td>\n",
       "      <td>0.875</td>\n",
       "      <td>Monster</td>\n",
       "      <td>Grass</td>\n",
       "      <td>False</td>\n",
       "      <td>0.99</td>\n",
       "      <td>13.0</td>\n",
       "      <td>45</td>\n",
       "      <td>quadruped</td>\n",
       "    </tr>\n",
       "    <tr>\n",
       "      <th>2</th>\n",
       "      <td>Venusaur</td>\n",
       "      <td>Grass</td>\n",
       "      <td>Poison</td>\n",
       "      <td>525</td>\n",
       "      <td>80</td>\n",
       "      <td>82</td>\n",
       "      <td>83</td>\n",
       "      <td>100</td>\n",
       "      <td>100</td>\n",
       "      <td>80</td>\n",
       "      <td>1</td>\n",
       "      <td>False</td>\n",
       "      <td>Green</td>\n",
       "      <td>True</td>\n",
       "      <td>0.875</td>\n",
       "      <td>Monster</td>\n",
       "      <td>Grass</td>\n",
       "      <td>True</td>\n",
       "      <td>2.01</td>\n",
       "      <td>100.0</td>\n",
       "      <td>45</td>\n",
       "      <td>quadruped</td>\n",
       "    </tr>\n",
       "    <tr>\n",
       "      <th>3</th>\n",
       "      <td>Charmander</td>\n",
       "      <td>Fire</td>\n",
       "      <td>NaN</td>\n",
       "      <td>309</td>\n",
       "      <td>39</td>\n",
       "      <td>52</td>\n",
       "      <td>43</td>\n",
       "      <td>60</td>\n",
       "      <td>50</td>\n",
       "      <td>65</td>\n",
       "      <td>1</td>\n",
       "      <td>False</td>\n",
       "      <td>Red</td>\n",
       "      <td>True</td>\n",
       "      <td>0.875</td>\n",
       "      <td>Monster</td>\n",
       "      <td>Dragon</td>\n",
       "      <td>False</td>\n",
       "      <td>0.61</td>\n",
       "      <td>8.5</td>\n",
       "      <td>45</td>\n",
       "      <td>bipedal_tailed</td>\n",
       "    </tr>\n",
       "    <tr>\n",
       "      <th>4</th>\n",
       "      <td>Charmeleon</td>\n",
       "      <td>Fire</td>\n",
       "      <td>NaN</td>\n",
       "      <td>405</td>\n",
       "      <td>58</td>\n",
       "      <td>64</td>\n",
       "      <td>58</td>\n",
       "      <td>80</td>\n",
       "      <td>65</td>\n",
       "      <td>80</td>\n",
       "      <td>1</td>\n",
       "      <td>False</td>\n",
       "      <td>Red</td>\n",
       "      <td>True</td>\n",
       "      <td>0.875</td>\n",
       "      <td>Monster</td>\n",
       "      <td>Dragon</td>\n",
       "      <td>False</td>\n",
       "      <td>1.09</td>\n",
       "      <td>19.0</td>\n",
       "      <td>45</td>\n",
       "      <td>bipedal_tailed</td>\n",
       "    </tr>\n",
       "  </tbody>\n",
       "</table>\n",
       "</div>"
      ],
      "text/plain": [
       "         Name Type_1  Type_2  Total  HP  Attack  Defense  Sp_Atk  Sp_Def  \\\n",
       "0   Bulbasaur  Grass  Poison    318  45      49       49      65      65   \n",
       "1     Ivysaur  Grass  Poison    405  60      62       63      80      80   \n",
       "2    Venusaur  Grass  Poison    525  80      82       83     100     100   \n",
       "3  Charmander   Fire     NaN    309  39      52       43      60      50   \n",
       "4  Charmeleon   Fire     NaN    405  58      64       58      80      65   \n",
       "\n",
       "   Speed  Generation  isLegendary  Color  hasGender  Pr_Male Egg_Group_1  \\\n",
       "0     45           1        False  Green       True    0.875     Monster   \n",
       "1     60           1        False  Green       True    0.875     Monster   \n",
       "2     80           1        False  Green       True    0.875     Monster   \n",
       "3     65           1        False    Red       True    0.875     Monster   \n",
       "4     80           1        False    Red       True    0.875     Monster   \n",
       "\n",
       "  Egg_Group_2  hasMegaEvolution  Height_m  Weight_kg  Catch_Rate  \\\n",
       "0       Grass             False      0.71        6.9          45   \n",
       "1       Grass             False      0.99       13.0          45   \n",
       "2       Grass              True      2.01      100.0          45   \n",
       "3      Dragon             False      0.61        8.5          45   \n",
       "4      Dragon             False      1.09       19.0          45   \n",
       "\n",
       "       Body_Style  \n",
       "0       quadruped  \n",
       "1       quadruped  \n",
       "2       quadruped  \n",
       "3  bipedal_tailed  \n",
       "4  bipedal_tailed  "
      ]
     },
     "execution_count": 5,
     "metadata": {},
     "output_type": "execute_result"
    }
   ],
   "source": [
    "print(df.shape)\n",
    "\n",
    "df.head()"
   ]
  },
  {
   "cell_type": "markdown",
   "metadata": {},
   "source": [
    "<div class=\"panel panel-info\" style=\"margin: 50px 0 0 0\">\n",
    "    <div class=\"panel-heading\">\n",
    "        <h3 class=\"panel-title\">Задание 1: Первый взгляд</h3> \n",
    "    </div>\n",
    "</div>\n",
    "\n",
    "Построй 4 гистограммы (__histogram__) на 30 бинов главнхых 4 характеристик покемонов: \n",
    "\n",
    "* `HP` - здоровья\n",
    "* `Attack` - уровня атаки\n",
    "* `Defense` - уровня защиты\n",
    "* `Speed` - скорости\n",
    "\n",
    "Конечно, построить их надо на одном графике с 4 подграфиками (__axes__). Не забудь выделить достаточно места (параметр __figsize__)."
   ]
  },
  {
   "cell_type": "code",
   "execution_count": 4,
   "metadata": {
    "ExecuteTime": {
     "end_time": "2017-11-21T02:00:18.529206",
     "start_time": "2017-11-21T02:00:18.523355"
    },
    "collapsed": false
   },
   "outputs": [],
   "source": [
    "# Ваш код здесь"
   ]
  },
  {
   "cell_type": "markdown",
   "metadata": {},
   "source": [
    "Что видно? Есть странные большие значения?\n",
    "\n",
    "Кажется, в __HP__ точно есть одно. Давай построим __boxplot__ и проверим, что оно там наверняка есть."
   ]
  },
  {
   "cell_type": "code",
   "execution_count": 4,
   "metadata": {
    "ExecuteTime": {
     "end_time": "2017-11-21T02:00:18.529206",
     "start_time": "2017-11-21T02:00:18.523355"
    },
    "collapsed": false
   },
   "outputs": [],
   "source": [
    "# Ваш код здесь"
   ]
  },
  {
   "cell_type": "markdown",
   "metadata": {
    "ExecuteTime": {
     "end_time": "2017-11-21T00:22:37.057784",
     "start_time": "2017-11-21T00:22:37.050929"
    }
   },
   "source": [
    "<div class=\"panel panel-warning\">\n",
    "    <div class=\"panel-heading\">\n",
    "        <h3 class=\"panel-title\">Бонус</h3> \n",
    "    </div>\n",
    "</div>\n",
    "\n",
    "Прежде всего найди этих странных покемонов! У кого это больше __220__ жизней? А кто этот задохлик, у кого меньше __5__ здоровья? Выведи их имена!\n",
    "\n",
    "И покажи им, кто здесь главный, урезав им уровень здоровья с помощью __99% винсоризации__!\n",
    "\n",
    "Не забудь построить снова __boxplot__ и убедиться, что картинка другая. Правда?"
   ]
  },
  {
   "cell_type": "code",
   "execution_count": 4,
   "metadata": {
    "ExecuteTime": {
     "end_time": "2017-11-21T02:00:18.529206",
     "start_time": "2017-11-21T02:00:18.523355"
    },
    "collapsed": false
   },
   "outputs": [],
   "source": [
    "# Ваш код здесь"
   ]
  },
  {
   "cell_type": "markdown",
   "metadata": {},
   "source": [
    "<div class=\"panel panel-info\" style=\"margin: 50px 0 0 0\">\n",
    "    <div class=\"panel-heading\">\n",
    "        <h3 class=\"panel-title\">Задание 2: Красный значит сильный?</h3> \n",
    "    </div>\n",
    "</div>\n",
    "\n",
    "У детей 4 лет и немного старше повелось, что красная машинка быстрее ездит, потому что она красная. Красный самолетик быстрее летит. Но бьются ли красные покемоны сильнее всех? \n",
    "\n",
    "* Сгруппируй всех покемонов по цвету (`Color`), усредни их атаку (`Attack`) в каждой группе.\n",
    "* Построй __bar plot__, не забыв:\n",
    "    * Раскрасить столбцы (каждый в свой цвет) с помощью словаря `colors`.\n",
    "    * Обвести столбцы черной линией толщиной 1, чтобы белый столбец не потерялся."
   ]
  },
  {
   "cell_type": "code",
   "execution_count": 5,
   "metadata": {
    "ExecuteTime": {
     "end_time": "2017-11-21T02:01:08.888290",
     "start_time": "2017-11-21T02:01:08.882792"
    },
    "collapsed": false
   },
   "outputs": [],
   "source": [
    "colors = { \n",
    "    'Red':    '#d80000',\n",
    "    'Grey':   '#777777',\n",
    "    'Brown':  '#8e4204',\n",
    "    'Black':  '#000000',\n",
    "    'Blue':   '#0000ff',\n",
    "    'Green':  '#00b709',\n",
    "    'Purple': '#930091',\n",
    "    'Yellow': '#f2f218',\n",
    "    'White':  '#ffffff',\n",
    "    'Pink':   '#ffaac5'\n",
    "}\n",
    "\n",
    "# Ваше код здесь"
   ]
  },
  {
   "cell_type": "markdown",
   "metadata": {},
   "source": [
    "<div class=\"panel panel-info\" style=\"margin: 50px 0 0 0\">\n",
    "    <div class=\"panel-heading\">\n",
    "        <h3 class=\"panel-title\">Задание 3: Тот самый график</h3> \n",
    "    </div>\n",
    "</div>\n",
    "\n",
    "Саше нужно построить __stacked normalized bar chart__, на котором будет отлично видно, _какова доля легендарных покемонов в каждом поколении_. \n",
    "\n",
    "Помогите Саше  : )\n",
    "\n",
    "_Лайфхак:_ если включить мозги, то с помощью __pivot table__ можно облегчить себе работу."
   ]
  },
  {
   "cell_type": "code",
   "execution_count": 4,
   "metadata": {
    "ExecuteTime": {
     "end_time": "2017-11-21T02:00:18.529206",
     "start_time": "2017-11-21T02:00:18.523355"
    },
    "collapsed": false
   },
   "outputs": [],
   "source": [
    "# Ваш код здесь"
   ]
  },
  {
   "cell_type": "markdown",
   "metadata": {},
   "source": [
    "<div class=\"panel panel-info\" style=\"margin: 50px 0 0 0\">\n",
    "    <div class=\"panel-heading\">\n",
    "        <h3 class=\"panel-title\">Задание 4: I8∑π and it was delicious!</h3> \n",
    "    </div>\n",
    "</div>\n",
    "\n",
    "Сейчас простое задание. Честно. \n",
    "\n",
    "Построй __pie chart__ разных типов покемонов. С тенью!"
   ]
  },
  {
   "cell_type": "code",
   "execution_count": 4,
   "metadata": {
    "ExecuteTime": {
     "end_time": "2017-11-21T02:00:18.529206",
     "start_time": "2017-11-21T02:00:18.523355"
    },
    "collapsed": false
   },
   "outputs": [],
   "source": [
    "# Ваш код здесь"
   ]
  },
  {
   "cell_type": "markdown",
   "metadata": {},
   "source": [
    "<div class=\"panel panel-info\" style=\"margin: 50px 0 0 0\">\n",
    "    <div class=\"panel-heading\">\n",
    "        <h3 class=\"panel-title\">Задание 5: Больше усов</h3> \n",
    "    </div>\n",
    "</div>\n",
    "\n",
    "Постройте разные __box plot__ силы (__Total__) каждого из типа покемонов (__Type_1__), но отсортируйте их расположение на графике по их __медианам__, от самых слабых к самым сильным."
   ]
  },
  {
   "cell_type": "code",
   "execution_count": 4,
   "metadata": {
    "ExecuteTime": {
     "end_time": "2017-11-21T02:00:18.529206",
     "start_time": "2017-11-21T02:00:18.523355"
    },
    "collapsed": false
   },
   "outputs": [],
   "source": [
    "# Ваш код здесь"
   ]
  },
  {
   "cell_type": "markdown",
   "metadata": {},
   "source": [
    "<div class=\"panel panel-info\" style=\"margin: 50px 0 0 0\">\n",
    "    <div class=\"panel-heading\">\n",
    "        <h3 class=\"panel-title\">Задание 6: Так и сяк</h3> \n",
    "    </div>\n",
    "</div>\n",
    "\n",
    "1. Построй __jointplot__ между __Catch Rate__ и __Total__. Обрати внимание, что на нем есть коэффициент корреляции Пирсона и гистограммы величин.\n",
    "2. Построй __lmplot__ между __Catch Rate__ и __Total__. Обрати внимание, что на нем есть линия, выделяющая зависимость, но нет коэффициента корреляции или гистограмм.\n",
    "3. Попробуй построить оба графика на __subplots__ matplotlib'а. Убедись, что у тебя не получилось, так как гистограммы на __jointplot__'е тоже упакованы в разные оси.\n",
    "\n",
    "Разочаруйся."
   ]
  },
  {
   "cell_type": "code",
   "execution_count": 4,
   "metadata": {
    "ExecuteTime": {
     "end_time": "2017-11-21T02:00:18.529206",
     "start_time": "2017-11-21T02:00:18.523355"
    },
    "collapsed": false
   },
   "outputs": [],
   "source": [
    "# Ваш код здесь"
   ]
  },
  {
   "cell_type": "markdown",
   "metadata": {},
   "source": [
    "<div class=\"panel panel-info\" style=\"margin: 50px 0 0 0\">\n",
    "    <div class=\"panel-heading\">\n",
    "        <h3 class=\"panel-title\">Задание 7: На голову выше</h3> \n",
    "    </div>\n",
    "</div>\n",
    "\n",
    "Время проверить, что даже тщедушные легендарные покемоны сильнее даже очень крутых, но простецких, не_легендарных. \n",
    "\n",
    "Я буду описывать тебе, как заказчик, что хочу, а ты так и нарисуешь, окда?\n",
    "\n",
    "* На графике должно быть 4 __violin plot__: для `HP`, `Attack`, `Defense` и `Speed`.\n",
    "* На каждый из которых должен быть нанесены квартили.\n",
    "* Каждый из которых должен быть разделенный (__`split=True`__), как [здесь](http://seaborn.pydata.org/examples/grouped_violinplots.html). Но если в примере разделение по полу, то здесь как раз по __isLegendary__.\n",
    "\n",
    "_Лайфхак:_ если включить мозги, то с помощью __melt__ можно облегчить себе работу."
   ]
  },
  {
   "cell_type": "code",
   "execution_count": 4,
   "metadata": {
    "ExecuteTime": {
     "end_time": "2017-11-21T02:00:18.529206",
     "start_time": "2017-11-21T02:00:18.523355"
    },
    "collapsed": false
   },
   "outputs": [],
   "source": [
    "# Ваш код здесь"
   ]
  },
  {
   "cell_type": "markdown",
   "metadata": {},
   "source": [
    "<div class=\"panel panel-info\" style=\"margin: 50px 0 0 0\">\n",
    "    <div class=\"panel-heading\">\n",
    "        <h3 class=\"panel-title\">Задание 0: Новое начало</h3> \n",
    "    </div>\n",
    "</div>\n",
    "\n",
    "_..ты проснулся на лекции. Рядом стоит Ольферук и говорит: \"Хорош, ты первый, кто у меня вырубился на занятиях!\"_\n",
    "\n",
    "_Ты хлопаешь глазами. \"А эт самое,\" - бормочешь, - \"а покемоны?\"_\n",
    "\n",
    "_\"Че?\" - Ольферук, кажется, в замешательстве. \"Ты, блин, как в том анекдоте\"_"
   ]
  },
  {
   "cell_type": "markdown",
   "metadata": {},
   "source": [
    "Домашка по визуализации, - помнишь?"
   ]
  },
  {
   "cell_type": "code",
   "execution_count": 20,
   "metadata": {
    "ExecuteTime": {
     "end_time": "2017-11-21T01:59:17.363995",
     "start_time": "2017-11-21T01:59:17.352175"
    },
    "collapsed": true
   },
   "outputs": [],
   "source": [
    "df = pd.read_csv(\n",
    "    # путь к твоему файлу data.csv с прошлой домашки\n",
    ")"
   ]
  },
  {
   "cell_type": "code",
   "execution_count": 21,
   "metadata": {
    "ExecuteTime": {
     "end_time": "2017-11-21T01:59:17.508927",
     "start_time": "2017-11-21T01:59:17.485341"
    },
    "collapsed": false
   },
   "outputs": [
    {
     "name": "stdout",
     "output_type": "stream",
     "text": [
      "(999, 13)\n"
     ]
    },
    {
     "data": {
      "text/html": [
       "<div>\n",
       "<style>\n",
       "    .dataframe thead tr:only-child th {\n",
       "        text-align: right;\n",
       "    }\n",
       "\n",
       "    .dataframe thead th {\n",
       "        text-align: left;\n",
       "    }\n",
       "\n",
       "    .dataframe tbody tr th {\n",
       "        vertical-align: top;\n",
       "    }\n",
       "</style>\n",
       "<table border=\"1\" class=\"dataframe\">\n",
       "  <thead>\n",
       "    <tr style=\"text-align: right;\">\n",
       "      <th></th>\n",
       "      <th>Age</th>\n",
       "      <th>Sex</th>\n",
       "      <th>Married</th>\n",
       "      <th>Dependents</th>\n",
       "      <th>Income</th>\n",
       "      <th>Experience</th>\n",
       "      <th>RealEstate</th>\n",
       "      <th>MonthlyPayment</th>\n",
       "      <th>Trustworthy</th>\n",
       "      <th>PaymentFraction</th>\n",
       "      <th>FamilyMembers</th>\n",
       "      <th>RelativeIncome</th>\n",
       "      <th>AgeGroup</th>\n",
       "    </tr>\n",
       "  </thead>\n",
       "  <tbody>\n",
       "    <tr>\n",
       "      <th>0</th>\n",
       "      <td>28.0</td>\n",
       "      <td>0.0</td>\n",
       "      <td>1.0</td>\n",
       "      <td>0.0</td>\n",
       "      <td>9000.0</td>\n",
       "      <td>9.0</td>\n",
       "      <td>0.0</td>\n",
       "      <td>3946.0</td>\n",
       "      <td>0.0</td>\n",
       "      <td>0.438444</td>\n",
       "      <td>1.0</td>\n",
       "      <td>5054.000000</td>\n",
       "      <td>В самом соку</td>\n",
       "    </tr>\n",
       "    <tr>\n",
       "      <th>1</th>\n",
       "      <td>39.0</td>\n",
       "      <td>1.0</td>\n",
       "      <td>1.0</td>\n",
       "      <td>1.0</td>\n",
       "      <td>13500.0</td>\n",
       "      <td>17.0</td>\n",
       "      <td>0.0</td>\n",
       "      <td>2460.0</td>\n",
       "      <td>1.0</td>\n",
       "      <td>0.182222</td>\n",
       "      <td>2.0</td>\n",
       "      <td>5520.000000</td>\n",
       "      <td>Увядающий</td>\n",
       "    </tr>\n",
       "    <tr>\n",
       "      <th>2</th>\n",
       "      <td>31.0</td>\n",
       "      <td>1.0</td>\n",
       "      <td>0.0</td>\n",
       "      <td>2.0</td>\n",
       "      <td>7000.0</td>\n",
       "      <td>11.0</td>\n",
       "      <td>0.0</td>\n",
       "      <td>3126.0</td>\n",
       "      <td>0.0</td>\n",
       "      <td>0.446571</td>\n",
       "      <td>2.0</td>\n",
       "      <td>1937.000000</td>\n",
       "      <td>Увядающий</td>\n",
       "    </tr>\n",
       "    <tr>\n",
       "      <th>3</th>\n",
       "      <td>34.0</td>\n",
       "      <td>1.0</td>\n",
       "      <td>0.0</td>\n",
       "      <td>1.0</td>\n",
       "      <td>10200.0</td>\n",
       "      <td>15.0</td>\n",
       "      <td>41.0</td>\n",
       "      <td>3280.0</td>\n",
       "      <td>1.0</td>\n",
       "      <td>0.321569</td>\n",
       "      <td>1.0</td>\n",
       "      <td>6920.000000</td>\n",
       "      <td>Увядающий</td>\n",
       "    </tr>\n",
       "    <tr>\n",
       "      <th>4</th>\n",
       "      <td>46.0</td>\n",
       "      <td>0.0</td>\n",
       "      <td>1.0</td>\n",
       "      <td>2.0</td>\n",
       "      <td>8500.0</td>\n",
       "      <td>20.0</td>\n",
       "      <td>0.0</td>\n",
       "      <td>3348.0</td>\n",
       "      <td>1.0</td>\n",
       "      <td>0.393882</td>\n",
       "      <td>3.0</td>\n",
       "      <td>1717.333333</td>\n",
       "      <td>Увядающий</td>\n",
       "    </tr>\n",
       "  </tbody>\n",
       "</table>\n",
       "</div>"
      ],
      "text/plain": [
       "    Age  Sex  Married  Dependents   Income  Experience  RealEstate  \\\n",
       "0  28.0  0.0      1.0         0.0   9000.0         9.0         0.0   \n",
       "1  39.0  1.0      1.0         1.0  13500.0        17.0         0.0   \n",
       "2  31.0  1.0      0.0         2.0   7000.0        11.0         0.0   \n",
       "3  34.0  1.0      0.0         1.0  10200.0        15.0        41.0   \n",
       "4  46.0  0.0      1.0         2.0   8500.0        20.0         0.0   \n",
       "\n",
       "   MonthlyPayment  Trustworthy  PaymentFraction  FamilyMembers  \\\n",
       "0          3946.0          0.0         0.438444            1.0   \n",
       "1          2460.0          1.0         0.182222            2.0   \n",
       "2          3126.0          0.0         0.446571            2.0   \n",
       "3          3280.0          1.0         0.321569            1.0   \n",
       "4          3348.0          1.0         0.393882            3.0   \n",
       "\n",
       "   RelativeIncome      AgeGroup  \n",
       "0     5054.000000  В самом соку  \n",
       "1     5520.000000     Увядающий  \n",
       "2     1937.000000     Увядающий  \n",
       "3     6920.000000     Увядающий  \n",
       "4     1717.333333     Увядающий  "
      ]
     },
     "execution_count": 21,
     "metadata": {},
     "output_type": "execute_result"
    }
   ],
   "source": [
    "print(df.shape)\n",
    "df.head()"
   ]
  },
  {
   "cell_type": "markdown",
   "metadata": {},
   "source": [
    "<div class=\"panel panel-info\" style=\"margin: 50px 0 0 0\">\n",
    "    <div class=\"panel-heading\">\n",
    "        <h3 class=\"panel-title\">Задание 1: Разрез общества</h3> \n",
    "    </div>\n",
    "</div>\n",
    "\n",
    "Создай __FacetGrid__ из возрастных групп по столбцам и полу по строкам. В каждом подграфике нарисуй __гистограмму__ ежемесячного платежа."
   ]
  },
  {
   "cell_type": "code",
   "execution_count": 4,
   "metadata": {
    "ExecuteTime": {
     "end_time": "2017-11-21T02:00:18.529206",
     "start_time": "2017-11-21T02:00:18.523355"
    },
    "collapsed": false
   },
   "outputs": [],
   "source": [
    "# Ваш код здесь"
   ]
  },
  {
   "cell_type": "markdown",
   "metadata": {},
   "source": [
    "<div class=\"panel panel-info\" style=\"margin: 50px 0 0 0\">\n",
    "    <div class=\"panel-heading\">\n",
    "        <h3 class=\"panel-title\">Задание 2: Полезный признак</h3> \n",
    "    </div>\n",
    "</div>\n",
    "\n",
    "Нарисуй диаграмму рассеяния (__scatter plot__), где по оси абсцисс отложи _доход_, а по оси ординат - _величина месячного платежа_.\n",
    "\n",
    "Не забудь раскрасить в разные цвета в зависимости от того, благонадежен ли клиент! "
   ]
  },
  {
   "cell_type": "code",
   "execution_count": 4,
   "metadata": {
    "ExecuteTime": {
     "end_time": "2017-11-21T02:00:18.529206",
     "start_time": "2017-11-21T02:00:18.523355"
    },
    "collapsed": false
   },
   "outputs": [],
   "source": [
    "# Ваш код здесь"
   ]
  },
  {
   "cell_type": "markdown",
   "metadata": {},
   "source": [
    "<div class=\"panel panel-info\" style=\"margin: 50px 0 0 0\">\n",
    "    <div class=\"panel-heading\">\n",
    "        <h3 class=\"panel-title\">Задание 3: Ненужный нужный график</h3> \n",
    "    </div>\n",
    "</div>\n",
    "\n",
    "Построй диаграмму рассеяния доли ежемесячого платежа по оси X и благонадежности по Y. Как видишь, множество точек слиплись, и не ясно, где мы можем провести разделяющую границу по признаку доли ежемемячного платежа.\n",
    "\n",
    "Поэтому ниже построй тот самый __stripplot__ с параметром __`jitter=True`__, чтобы посмотреть на тот же по сути график, но оценивая объем данных в каждой из групп. Кроме того, сделай пожалуйста, линию той самой разделяющей границы по признаку доли платежа, - пока что на глаз! А уже через неделю будем делать первые предсказания реальными алгоритмами."
   ]
  },
  {
   "cell_type": "code",
   "execution_count": 4,
   "metadata": {
    "ExecuteTime": {
     "end_time": "2017-11-21T02:00:18.529206",
     "start_time": "2017-11-21T02:00:18.523355"
    },
    "collapsed": false
   },
   "outputs": [],
   "source": [
    "# Ваш код здесь"
   ]
  },
  {
   "cell_type": "markdown",
   "metadata": {},
   "source": [
    "<div class=\"panel panel-success\" style=\"margin: 50px 0 0 0\">\n",
    "    <div class=\"panel-heading\">\n",
    "        <h3 class=\"panel-title\">Финиш!</h3> \n",
    "    </div>\n",
    "</div>\n",
    "\n",
    "Если ты действительно добрался до этого места в тетрадке и честно все нарисовал, - красавчик! Обязательно расскажи мне об этом на следующем занятии."
   ]
  }
 ],
 "metadata": {
  "kernelspec": {
   "display_name": "Python 3",
   "language": "python",
   "name": "python3"
  },
  "language_info": {
   "codemirror_mode": {
    "name": "ipython",
    "version": 3
   },
   "file_extension": ".py",
   "mimetype": "text/x-python",
   "name": "python",
   "nbconvert_exporter": "python",
   "pygments_lexer": "ipython3",
   "version": "3.6.0"
  },
  "toc": {
   "colors": {
    "hover_highlight": "#DAA520",
    "running_highlight": "#FF0000",
    "selected_highlight": "#FFD700"
   },
   "moveMenuLeft": true,
   "nav_menu": {
    "height": "30px",
    "width": "252px"
   },
   "navigate_menu": true,
   "number_sections": true,
   "sideBar": true,
   "threshold": 4,
   "toc_cell": false,
   "toc_section_display": "block",
   "toc_window_display": false
  }
 },
 "nbformat": 4,
 "nbformat_minor": 2
}
