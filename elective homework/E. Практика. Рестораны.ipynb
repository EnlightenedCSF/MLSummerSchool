{
 "cells": [
  {
   "cell_type": "code",
   "execution_count": 1,
   "metadata": {
    "ExecuteTime": {
     "end_time": "2017-12-19T01:03:21.672736",
     "start_time": "2017-12-19T01:03:21.661373"
    },
    "collapsed": true
   },
   "outputs": [],
   "source": [
    "import numpy as np\n",
    "\n",
    "import pandas as pd\n",
    "pd.options.display.max_columns = 200\n",
    "pd.options.display.max_rows = 400\n",
    "\n",
    "import matplotlib.pyplot as plt\n",
    "%matplotlib inline\n",
    "\n",
    "import seaborn as sns\n",
    "sns.set_style(\"whitegrid\")\n",
    "\n",
    "from matplotlib import rcParams\n",
    "\n",
    "rcParams['figure.figsize'] = 10, 8\n",
    "rcParams['font.size'] = 16\n",
    "rcParams['axes.labelsize'] = 14\n",
    "rcParams['xtick.labelsize'] = 13\n",
    "rcParams['ytick.labelsize'] = 13\n",
    "rcParams['legend.fontsize'] = 15"
   ]
  },
  {
   "cell_type": "markdown",
   "metadata": {},
   "source": [
    "---"
   ]
  },
  {
   "cell_type": "markdown",
   "metadata": {},
   "source": [
    "# Recruit Restaurant Visitor Forecasting"
   ]
  },
  {
   "cell_type": "markdown",
   "metadata": {},
   "source": [
    "Проходим по ссылке, скачиваем данные:\n",
    "\n",
    "https://www.kaggle.com/c/recruit-restaurant-visitor-forecasting\n",
    "\n",
    "Ребята просят предсказать, сколько человек к ним заявится в следующие недели, в каждый из дней."
   ]
  },
  {
   "cell_type": "markdown",
   "metadata": {},
   "source": [
    "Положите все ваши данные в папку _\"data\"_ рядом с этой тетрадкой. Дальше просто прогоняйте эту тетрадку и смотрите на то, что я делаю с данными: какую табличку соединяю и почему."
   ]
  },
  {
   "cell_type": "markdown",
   "metadata": {},
   "source": [
    "Готовы? Погнали! Все по-серьёзке, не по синьке : )"
   ]
  },
  {
   "cell_type": "code",
   "execution_count": 2,
   "metadata": {
    "ExecuteTime": {
     "end_time": "2017-12-19T01:04:50.587988",
     "start_time": "2017-12-19T01:04:50.454577"
    },
    "collapsed": false
   },
   "outputs": [
    {
     "name": "stdout",
     "output_type": "stream",
     "text": [
      "air_reserve.csv       date_info.csv         sample_submission.csv\r\n",
      "air_store_info.csv    hpg_reserve.csv       store_id_relation.csv\r\n",
      "air_visit_data.csv    hpg_store_info.csv\r\n"
     ]
    }
   ],
   "source": [
    "!ls data/"
   ]
  },
  {
   "cell_type": "markdown",
   "metadata": {},
   "source": [
    "# Таблички"
   ]
  },
  {
   "cell_type": "markdown",
   "metadata": {},
   "source": [
    "Что имеем на руках? Информацию о заведениях из двух различных источников:\n",
    "\n",
    "* \"Hot Pepper Gourmet\" - сервис по оценке и ревью ресторанов;\n",
    "* \"AirREGI\" - сервис облуживания точек продаж ресторанов (ну вы поняли, всякие оплаты через карты проходях через них, - оттуда и данные).\n",
    "\n",
    "Из-за того, что источника два, информация немного разнится и доставит нам проблем при слиянии таблиц в одну, но что поделать: _c'est la vie_ (_вдали играет грустный аккордеон..._)."
   ]
  },
  {
   "cell_type": "markdown",
   "metadata": {},
   "source": [
    "Данные временные: имеем историю с __1.01.2016__ по __01.04.2017__ года, и в отложенную выборку попадают следующие пара недель апреля-мая.\n",
    "\n",
    "Авторы также предупреждают, что в отложенную выборку попадает [\"Золотая неделя\"](https://ru.wikipedia.org/wiki/%D0%97%D0%BE%D0%BB%D0%BE%D1%82%D0%B0%D1%8F_%D0%BD%D0%B5%D0%B4%D0%B5%D0%BB%D1%8F), так что это наверняка скажется на характере посещений ресторанов."
   ]
  },
  {
   "cell_type": "markdown",
   "metadata": {},
   "source": [
    "Давайте посмотрим повнимательнее на таблички и начнем их сишвать в одну матрицу \"объекты-признаки\". В этот раз я помогу прям до конца, но это в последний раз!"
   ]
  },
  {
   "cell_type": "markdown",
   "metadata": {},
   "source": [
    "## Air Visit Data и ...sample submission?"
   ]
  },
  {
   "cell_type": "markdown",
   "metadata": {},
   "source": [
    "__air_visit_data.csv__\n",
    "\n",
    "This file contains historical visit data for the air restaurants.\n",
    "\n",
    "* `air_store_id`\n",
    "* `visit_date` - the date\n",
    "* `visitors` - the number of visitors to the restaurant on the date"
   ]
  },
  {
   "cell_type": "code",
   "execution_count": 3,
   "metadata": {
    "ExecuteTime": {
     "end_time": "2017-12-19T01:14:25.054371",
     "start_time": "2017-12-19T01:14:24.817846"
    },
    "collapsed": true
   },
   "outputs": [],
   "source": [
    "# по сути sample_submission - и есть test set, если его причесать...\n",
    "test = pd.read_csv('data/sample_submission.csv')\n",
    " \n",
    "# ... и привести к виду air_visit_data, который, по сути, train.\n",
    "train = pd.read_csv('data/air_visit_data.csv')"
   ]
  },
  {
   "cell_type": "code",
   "execution_count": 4,
   "metadata": {
    "ExecuteTime": {
     "end_time": "2017-12-19T01:14:25.588169",
     "start_time": "2017-12-19T01:14:25.309291"
    },
    "collapsed": false
   },
   "outputs": [],
   "source": [
    "test['air_store_id'] = test.id.str.split('_').str.get(0) + '_' + test.id.str.split('_').str.get(1)\n",
    "test['visit_date'] = test.id.str.split('_').str.get(2)\n",
    "test['vis'] = test['visitors']\n",
    "test.drop(['id', 'visitors'],axis=1, inplace=True)\n",
    "test['visitors'] = test['vis']\n",
    "test.drop(['vis'],axis=1, inplace=True)"
   ]
  },
  {
   "cell_type": "markdown",
   "metadata": {},
   "source": [
    "---"
   ]
  },
  {
   "cell_type": "code",
   "execution_count": 5,
   "metadata": {
    "ExecuteTime": {
     "end_time": "2017-12-19T01:14:27.327279",
     "start_time": "2017-12-19T01:14:27.316043"
    },
    "collapsed": false
   },
   "outputs": [
    {
     "data": {
      "text/html": [
       "<div>\n",
       "<style>\n",
       "    .dataframe thead tr:only-child th {\n",
       "        text-align: right;\n",
       "    }\n",
       "\n",
       "    .dataframe thead th {\n",
       "        text-align: left;\n",
       "    }\n",
       "\n",
       "    .dataframe tbody tr th {\n",
       "        vertical-align: top;\n",
       "    }\n",
       "</style>\n",
       "<table border=\"1\" class=\"dataframe\">\n",
       "  <thead>\n",
       "    <tr style=\"text-align: right;\">\n",
       "      <th></th>\n",
       "      <th>air_store_id</th>\n",
       "      <th>visit_date</th>\n",
       "      <th>visitors</th>\n",
       "    </tr>\n",
       "  </thead>\n",
       "  <tbody>\n",
       "    <tr>\n",
       "      <th>0</th>\n",
       "      <td>air_ba937bf13d40fb24</td>\n",
       "      <td>2016-01-13</td>\n",
       "      <td>25</td>\n",
       "    </tr>\n",
       "  </tbody>\n",
       "</table>\n",
       "</div>"
      ],
      "text/plain": [
       "           air_store_id  visit_date  visitors\n",
       "0  air_ba937bf13d40fb24  2016-01-13        25"
      ]
     },
     "execution_count": 5,
     "metadata": {},
     "output_type": "execute_result"
    }
   ],
   "source": [
    "train.head(1)"
   ]
  },
  {
   "cell_type": "code",
   "execution_count": 6,
   "metadata": {
    "ExecuteTime": {
     "end_time": "2017-12-19T00:51:59.918505",
     "start_time": "2017-12-19T00:51:59.904498"
    },
    "collapsed": false
   },
   "outputs": [
    {
     "data": {
      "text/html": [
       "<div>\n",
       "<style>\n",
       "    .dataframe thead tr:only-child th {\n",
       "        text-align: right;\n",
       "    }\n",
       "\n",
       "    .dataframe thead th {\n",
       "        text-align: left;\n",
       "    }\n",
       "\n",
       "    .dataframe tbody tr th {\n",
       "        vertical-align: top;\n",
       "    }\n",
       "</style>\n",
       "<table border=\"1\" class=\"dataframe\">\n",
       "  <thead>\n",
       "    <tr style=\"text-align: right;\">\n",
       "      <th></th>\n",
       "      <th>air_store_id</th>\n",
       "      <th>visit_date</th>\n",
       "      <th>visitors</th>\n",
       "    </tr>\n",
       "  </thead>\n",
       "  <tbody>\n",
       "    <tr>\n",
       "      <th>0</th>\n",
       "      <td>air_00a91d42b08b08d9</td>\n",
       "      <td>2017-04-23</td>\n",
       "      <td>0</td>\n",
       "    </tr>\n",
       "  </tbody>\n",
       "</table>\n",
       "</div>"
      ],
      "text/plain": [
       "           air_store_id  visit_date  visitors\n",
       "0  air_00a91d42b08b08d9  2017-04-23         0"
      ]
     },
     "execution_count": 6,
     "metadata": {},
     "output_type": "execute_result"
    }
   ],
   "source": [
    "test.head(1)"
   ]
  },
  {
   "cell_type": "markdown",
   "metadata": {},
   "source": [
    "Отлично, понятно, теперь у нас формат в train и test-выборках тот же, надо лишь предсказать __visitors__ - нашу целевую переменную."
   ]
  },
  {
   "cell_type": "markdown",
   "metadata": {},
   "source": [
    "---"
   ]
  },
  {
   "cell_type": "markdown",
   "metadata": {},
   "source": [
    "## Air Store Info"
   ]
  },
  {
   "cell_type": "markdown",
   "metadata": {},
   "source": [
    "__air_store_info.csv__\n",
    "\n",
    "This file contains information about select air restaurants. Column names and contents are self-explanatory.\n",
    "\n",
    "* `air_store_id`\n",
    "* `air_genre_name`\n",
    "* `air_area_name`\n",
    "* `latitude`\n",
    "* `longitude`\n",
    "\n",
    "_Note:_ latitude and longitude are the latitude and longitude of the area to which the store belongs"
   ]
  },
  {
   "cell_type": "code",
   "execution_count": 6,
   "metadata": {
    "ExecuteTime": {
     "end_time": "2017-12-19T01:15:08.639657",
     "start_time": "2017-12-19T01:15:08.632171"
    },
    "collapsed": true
   },
   "outputs": [],
   "source": [
    "air_store_info = pd.read_csv('data/air_store_info.csv')"
   ]
  },
  {
   "cell_type": "code",
   "execution_count": 12,
   "metadata": {
    "ExecuteTime": {
     "end_time": "2017-12-19T01:15:38.532159",
     "start_time": "2017-12-19T01:15:38.519454"
    },
    "collapsed": false
   },
   "outputs": [
    {
     "data": {
      "text/html": [
       "<div>\n",
       "<style>\n",
       "    .dataframe thead tr:only-child th {\n",
       "        text-align: right;\n",
       "    }\n",
       "\n",
       "    .dataframe thead th {\n",
       "        text-align: left;\n",
       "    }\n",
       "\n",
       "    .dataframe tbody tr th {\n",
       "        vertical-align: top;\n",
       "    }\n",
       "</style>\n",
       "<table border=\"1\" class=\"dataframe\">\n",
       "  <thead>\n",
       "    <tr style=\"text-align: right;\">\n",
       "      <th></th>\n",
       "      <th>air_store_id</th>\n",
       "      <th>air_genre_name</th>\n",
       "      <th>air_area_name</th>\n",
       "      <th>latitude</th>\n",
       "      <th>longitude</th>\n",
       "    </tr>\n",
       "  </thead>\n",
       "  <tbody>\n",
       "    <tr>\n",
       "      <th>0</th>\n",
       "      <td>air_0f0cdeee6c9bf3d7</td>\n",
       "      <td>Italian/French</td>\n",
       "      <td>Hyōgo-ken Kōbe-shi Kumoidōri</td>\n",
       "      <td>34.695124</td>\n",
       "      <td>135.197852</td>\n",
       "    </tr>\n",
       "  </tbody>\n",
       "</table>\n",
       "</div>"
      ],
      "text/plain": [
       "           air_store_id  air_genre_name                 air_area_name  \\\n",
       "0  air_0f0cdeee6c9bf3d7  Italian/French  Hyōgo-ken Kōbe-shi Kumoidōri   \n",
       "\n",
       "    latitude   longitude  \n",
       "0  34.695124  135.197852  "
      ]
     },
     "execution_count": 12,
     "metadata": {},
     "output_type": "execute_result"
    }
   ],
   "source": [
    "air_store_info.head(1)"
   ]
  },
  {
   "cell_type": "markdown",
   "metadata": {},
   "source": [
    "Это по сути новые фичи, берем и пристыковываем:"
   ]
  },
  {
   "cell_type": "code",
   "execution_count": 13,
   "metadata": {
    "ExecuteTime": {
     "end_time": "2017-12-19T01:15:39.205692",
     "start_time": "2017-12-19T01:15:38.928050"
    },
    "collapsed": true
   },
   "outputs": [],
   "source": [
    "train = pd.merge(train, air_store_info) \n",
    "test  = pd.merge(test,  air_store_info) "
   ]
  },
  {
   "cell_type": "markdown",
   "metadata": {},
   "source": [
    "### ID"
   ]
  },
  {
   "cell_type": "markdown",
   "metadata": {},
   "source": [
    "Сделаем __`id`__ в виде склеивания __`air_store_id`__ и дня посещения заведения __`visit_date`__. \n",
    "\n",
    "Он пригодится нам впоследствии для слияния таблиц: каждое его уникальное значение - как составной ключ в SQL - __отражает данные в данном ресторане в определенный день года__."
   ]
  },
  {
   "cell_type": "code",
   "execution_count": 14,
   "metadata": {
    "ExecuteTime": {
     "end_time": "2017-12-19T01:15:39.595683",
     "start_time": "2017-12-19T01:15:39.482692"
    },
    "collapsed": true
   },
   "outputs": [],
   "source": [
    "train['id'] = train['air_store_id'] + '_' + train['visit_date']\n",
    "test['id']  = test['air_store_id']  + '_' + test['visit_date']"
   ]
  },
  {
   "cell_type": "markdown",
   "metadata": {},
   "source": [
    "---"
   ]
  },
  {
   "cell_type": "markdown",
   "metadata": {},
   "source": [
    "## Air Reserve"
   ]
  },
  {
   "cell_type": "markdown",
   "metadata": {},
   "source": [
    "__air_reserve.csv__\n",
    "\n",
    "This file contains reservations made in the air system. Note that the reserve_datetime indicates the time when the reservation was created, whereas the visit_datetime is the time in the future where the visit will occur.\n",
    "\n",
    "* `air_store_id` - the restaurant's id in the air system\n",
    "* `visit_datetime` - the time of the reservation\n",
    "* `reserve_datetime` - the time the reservation was made\n",
    "* `reserve_visitors` - the number of visitors for that reservation"
   ]
  },
  {
   "cell_type": "code",
   "execution_count": 15,
   "metadata": {
    "ExecuteTime": {
     "end_time": "2017-12-19T01:15:40.755234",
     "start_time": "2017-12-19T01:15:40.645664"
    },
    "collapsed": true
   },
   "outputs": [],
   "source": [
    "air_reserve = pd.read_csv('data/air_reserve.csv')"
   ]
  },
  {
   "cell_type": "code",
   "execution_count": 16,
   "metadata": {
    "ExecuteTime": {
     "end_time": "2017-12-19T01:15:40.988555",
     "start_time": "2017-12-19T01:15:40.976217"
    },
    "collapsed": false
   },
   "outputs": [
    {
     "data": {
      "text/html": [
       "<div>\n",
       "<style>\n",
       "    .dataframe thead tr:only-child th {\n",
       "        text-align: right;\n",
       "    }\n",
       "\n",
       "    .dataframe thead th {\n",
       "        text-align: left;\n",
       "    }\n",
       "\n",
       "    .dataframe tbody tr th {\n",
       "        vertical-align: top;\n",
       "    }\n",
       "</style>\n",
       "<table border=\"1\" class=\"dataframe\">\n",
       "  <thead>\n",
       "    <tr style=\"text-align: right;\">\n",
       "      <th></th>\n",
       "      <th>air_store_id</th>\n",
       "      <th>visit_datetime</th>\n",
       "      <th>reserve_datetime</th>\n",
       "      <th>reserve_visitors</th>\n",
       "    </tr>\n",
       "  </thead>\n",
       "  <tbody>\n",
       "    <tr>\n",
       "      <th>0</th>\n",
       "      <td>air_877f79706adbfb06</td>\n",
       "      <td>2016-01-01 19:00:00</td>\n",
       "      <td>2016-01-01 16:00:00</td>\n",
       "      <td>1</td>\n",
       "    </tr>\n",
       "  </tbody>\n",
       "</table>\n",
       "</div>"
      ],
      "text/plain": [
       "           air_store_id       visit_datetime     reserve_datetime  \\\n",
       "0  air_877f79706adbfb06  2016-01-01 19:00:00  2016-01-01 16:00:00   \n",
       "\n",
       "   reserve_visitors  \n",
       "0                 1  "
      ]
     },
     "execution_count": 16,
     "metadata": {},
     "output_type": "execute_result"
    }
   ],
   "source": [
    "air_reserve.head(1)"
   ]
  },
  {
   "cell_type": "markdown",
   "metadata": {},
   "source": [
    "### ID"
   ]
  },
  {
   "cell_type": "markdown",
   "metadata": {},
   "source": [
    "Вот отсюда как раз __`visit_date`__ и может быть выделен. А заодно - и __`id`__ по логике, описанной выше, чтобы merge состоялся :)"
   ]
  },
  {
   "cell_type": "code",
   "execution_count": 17,
   "metadata": {
    "ExecuteTime": {
     "end_time": "2017-12-19T01:15:42.380147",
     "start_time": "2017-12-19T01:15:42.161015"
    },
    "collapsed": true
   },
   "outputs": [],
   "source": [
    "air_reserve['visit_date'] =  air_reserve.visit_datetime.str.split(' ').str.get(0)\n",
    "air_reserve['id'] = air_reserve['air_store_id'] + '_' + air_reserve['visit_date']"
   ]
  },
  {
   "cell_type": "markdown",
   "metadata": {},
   "source": [
    "### Feature Engineering"
   ]
  },
  {
   "cell_type": "code",
   "execution_count": 18,
   "metadata": {
    "ExecuteTime": {
     "end_time": "2017-12-19T01:15:45.518336",
     "start_time": "2017-12-19T01:15:45.444691"
    },
    "collapsed": true
   },
   "outputs": [],
   "source": [
    "# to datetime conversion\n",
    "air_reserve['visit_datetime']   = pd.to_datetime(air_reserve['visit_datetime'])\n",
    "air_reserve['reserve_datetime'] = pd.to_datetime(air_reserve['reserve_datetime'])"
   ]
  },
  {
   "cell_type": "markdown",
   "metadata": {},
   "source": [
    "* За сколько часов был заказан стол?"
   ]
  },
  {
   "cell_type": "code",
   "execution_count": 19,
   "metadata": {
    "ExecuteTime": {
     "end_time": "2017-12-19T01:15:48.424506",
     "start_time": "2017-12-19T01:15:48.409209"
    },
    "collapsed": true
   },
   "outputs": [],
   "source": [
    "air_reserve['period'] = air_reserve['visit_datetime'] - air_reserve['reserve_datetime']\n",
    "air_reserve['period'] = air_reserve['period'] / np.timedelta64(1, 'h')"
   ]
  },
  {
   "cell_type": "markdown",
   "metadata": {},
   "source": [
    "* В день пятницы? Или выходного дня?"
   ]
  },
  {
   "cell_type": "code",
   "execution_count": 20,
   "metadata": {
    "ExecuteTime": {
     "end_time": "2017-12-19T01:15:49.921489",
     "start_time": "2017-12-19T01:15:49.899555"
    },
    "collapsed": true
   },
   "outputs": [],
   "source": [
    "air_reserve['is_visit_on_friday'] = (air_reserve.visit_datetime.dt.dayofweek == 4).astype(np.int64)\n",
    "air_reserve['is_visit_on_weeknd'] = (air_reserve.visit_datetime.dt.dayofweek > 4).astype(np.int64)"
   ]
  },
  {
   "cell_type": "markdown",
   "metadata": {},
   "source": [
    "<div class=\"panel panel-info\">\n",
    "    <div class=\"panel-heading\">\n",
    "        <h4 class=\"panel-title\">Как насчет подумать?</h4> \n",
    "    </div>\n",
    "    Здесь ты, очевидно, можешь добавить своих новых признаков, если что-нибудь придумаешь:\n",
    "</div>"
   ]
  },
  {
   "cell_type": "code",
   "execution_count": null,
   "metadata": {
    "collapsed": true
   },
   "outputs": [],
   "source": [
    "# Ваш код здесь"
   ]
  },
  {
   "cell_type": "code",
   "execution_count": 22,
   "metadata": {
    "ExecuteTime": {
     "end_time": "2017-12-19T01:17:38.264025",
     "start_time": "2017-12-19T01:17:38.247647"
    },
    "collapsed": false
   },
   "outputs": [
    {
     "data": {
      "text/html": [
       "<div>\n",
       "<style>\n",
       "    .dataframe thead tr:only-child th {\n",
       "        text-align: right;\n",
       "    }\n",
       "\n",
       "    .dataframe thead th {\n",
       "        text-align: left;\n",
       "    }\n",
       "\n",
       "    .dataframe tbody tr th {\n",
       "        vertical-align: top;\n",
       "    }\n",
       "</style>\n",
       "<table border=\"1\" class=\"dataframe\">\n",
       "  <thead>\n",
       "    <tr style=\"text-align: right;\">\n",
       "      <th></th>\n",
       "      <th>air_store_id</th>\n",
       "      <th>visit_datetime</th>\n",
       "      <th>reserve_datetime</th>\n",
       "      <th>reserve_visitors</th>\n",
       "      <th>visit_date</th>\n",
       "      <th>id</th>\n",
       "      <th>period</th>\n",
       "      <th>is_visit_on_friday</th>\n",
       "      <th>is_visit_on_weeknd</th>\n",
       "    </tr>\n",
       "  </thead>\n",
       "  <tbody>\n",
       "    <tr>\n",
       "      <th>0</th>\n",
       "      <td>air_877f79706adbfb06</td>\n",
       "      <td>2016-01-01 19:00:00</td>\n",
       "      <td>2016-01-01 16:00:00</td>\n",
       "      <td>1</td>\n",
       "      <td>2016-01-01</td>\n",
       "      <td>air_877f79706adbfb06_2016-01-01</td>\n",
       "      <td>3.0</td>\n",
       "      <td>1</td>\n",
       "      <td>0</td>\n",
       "    </tr>\n",
       "    <tr>\n",
       "      <th>1</th>\n",
       "      <td>air_db4b38ebe7a7ceff</td>\n",
       "      <td>2016-01-01 19:00:00</td>\n",
       "      <td>2016-01-01 19:00:00</td>\n",
       "      <td>3</td>\n",
       "      <td>2016-01-01</td>\n",
       "      <td>air_db4b38ebe7a7ceff_2016-01-01</td>\n",
       "      <td>0.0</td>\n",
       "      <td>1</td>\n",
       "      <td>0</td>\n",
       "    </tr>\n",
       "    <tr>\n",
       "      <th>2</th>\n",
       "      <td>air_db4b38ebe7a7ceff</td>\n",
       "      <td>2016-01-01 19:00:00</td>\n",
       "      <td>2016-01-01 19:00:00</td>\n",
       "      <td>6</td>\n",
       "      <td>2016-01-01</td>\n",
       "      <td>air_db4b38ebe7a7ceff_2016-01-01</td>\n",
       "      <td>0.0</td>\n",
       "      <td>1</td>\n",
       "      <td>0</td>\n",
       "    </tr>\n",
       "    <tr>\n",
       "      <th>3</th>\n",
       "      <td>air_877f79706adbfb06</td>\n",
       "      <td>2016-01-01 20:00:00</td>\n",
       "      <td>2016-01-01 16:00:00</td>\n",
       "      <td>2</td>\n",
       "      <td>2016-01-01</td>\n",
       "      <td>air_877f79706adbfb06_2016-01-01</td>\n",
       "      <td>4.0</td>\n",
       "      <td>1</td>\n",
       "      <td>0</td>\n",
       "    </tr>\n",
       "    <tr>\n",
       "      <th>4</th>\n",
       "      <td>air_db80363d35f10926</td>\n",
       "      <td>2016-01-01 20:00:00</td>\n",
       "      <td>2016-01-01 01:00:00</td>\n",
       "      <td>5</td>\n",
       "      <td>2016-01-01</td>\n",
       "      <td>air_db80363d35f10926_2016-01-01</td>\n",
       "      <td>19.0</td>\n",
       "      <td>1</td>\n",
       "      <td>0</td>\n",
       "    </tr>\n",
       "  </tbody>\n",
       "</table>\n",
       "</div>"
      ],
      "text/plain": [
       "           air_store_id      visit_datetime    reserve_datetime  \\\n",
       "0  air_877f79706adbfb06 2016-01-01 19:00:00 2016-01-01 16:00:00   \n",
       "1  air_db4b38ebe7a7ceff 2016-01-01 19:00:00 2016-01-01 19:00:00   \n",
       "2  air_db4b38ebe7a7ceff 2016-01-01 19:00:00 2016-01-01 19:00:00   \n",
       "3  air_877f79706adbfb06 2016-01-01 20:00:00 2016-01-01 16:00:00   \n",
       "4  air_db80363d35f10926 2016-01-01 20:00:00 2016-01-01 01:00:00   \n",
       "\n",
       "   reserve_visitors  visit_date                               id  period  \\\n",
       "0                 1  2016-01-01  air_877f79706adbfb06_2016-01-01     3.0   \n",
       "1                 3  2016-01-01  air_db4b38ebe7a7ceff_2016-01-01     0.0   \n",
       "2                 6  2016-01-01  air_db4b38ebe7a7ceff_2016-01-01     0.0   \n",
       "3                 2  2016-01-01  air_877f79706adbfb06_2016-01-01     4.0   \n",
       "4                 5  2016-01-01  air_db80363d35f10926_2016-01-01    19.0   \n",
       "\n",
       "   is_visit_on_friday  is_visit_on_weeknd  \n",
       "0                   1                   0  \n",
       "1                   1                   0  \n",
       "2                   1                   0  \n",
       "3                   1                   0  \n",
       "4                   1                   0  "
      ]
     },
     "execution_count": 22,
     "metadata": {},
     "output_type": "execute_result"
    }
   ],
   "source": [
    "air_reserve.head()"
   ]
  },
  {
   "cell_type": "markdown",
   "metadata": {},
   "source": [
    "### Аггрегация по дням"
   ]
  },
  {
   "cell_type": "code",
   "execution_count": 23,
   "metadata": {
    "ExecuteTime": {
     "end_time": "2017-12-19T01:17:40.908926",
     "start_time": "2017-12-19T01:17:40.768870"
    },
    "collapsed": false
   },
   "outputs": [],
   "source": [
    "air_reserve_agg = air_reserve.pivot_table(index=['id'], \n",
    "                                          values=['reserve_visitors', \n",
    "                                                  'period',\n",
    "                                                  'is_visit_on_friday',\n",
    "                                                  'is_visit_on_weeknd',\n",
    "                                                 ],\n",
    "                                          aggfunc={\n",
    "                                              'reserve_visitors': 'sum', \n",
    "                                              'period': 'mean',\n",
    "                                              'is_visit_on_friday': 'mean',\n",
    "                                              'is_visit_on_weeknd': 'mean',\n",
    "                                          }, fill_value=0)\n",
    "\n",
    "air_reserve_agg.reset_index(inplace=True)"
   ]
  },
  {
   "cell_type": "code",
   "execution_count": 24,
   "metadata": {
    "ExecuteTime": {
     "end_time": "2017-12-19T01:17:50.283185",
     "start_time": "2017-12-19T01:17:50.272668"
    },
    "collapsed": false
   },
   "outputs": [
    {
     "data": {
      "text/html": [
       "<div>\n",
       "<style>\n",
       "    .dataframe thead tr:only-child th {\n",
       "        text-align: right;\n",
       "    }\n",
       "\n",
       "    .dataframe thead th {\n",
       "        text-align: left;\n",
       "    }\n",
       "\n",
       "    .dataframe tbody tr th {\n",
       "        vertical-align: top;\n",
       "    }\n",
       "</style>\n",
       "<table border=\"1\" class=\"dataframe\">\n",
       "  <thead>\n",
       "    <tr style=\"text-align: right;\">\n",
       "      <th></th>\n",
       "      <th>id</th>\n",
       "      <th>is_visit_on_friday</th>\n",
       "      <th>is_visit_on_weeknd</th>\n",
       "      <th>period</th>\n",
       "      <th>reserve_visitors</th>\n",
       "    </tr>\n",
       "  </thead>\n",
       "  <tbody>\n",
       "    <tr>\n",
       "      <th>0</th>\n",
       "      <td>air_00a91d42b08b08d9_2016-10-31</td>\n",
       "      <td>0</td>\n",
       "      <td>0</td>\n",
       "      <td>4.0</td>\n",
       "      <td>2</td>\n",
       "    </tr>\n",
       "    <tr>\n",
       "      <th>1</th>\n",
       "      <td>air_00a91d42b08b08d9_2016-12-05</td>\n",
       "      <td>0</td>\n",
       "      <td>0</td>\n",
       "      <td>100.0</td>\n",
       "      <td>9</td>\n",
       "    </tr>\n",
       "    <tr>\n",
       "      <th>2</th>\n",
       "      <td>air_00a91d42b08b08d9_2016-12-14</td>\n",
       "      <td>0</td>\n",
       "      <td>0</td>\n",
       "      <td>153.0</td>\n",
       "      <td>18</td>\n",
       "    </tr>\n",
       "    <tr>\n",
       "      <th>3</th>\n",
       "      <td>air_00a91d42b08b08d9_2016-12-17</td>\n",
       "      <td>0</td>\n",
       "      <td>1</td>\n",
       "      <td>147.0</td>\n",
       "      <td>2</td>\n",
       "    </tr>\n",
       "    <tr>\n",
       "      <th>4</th>\n",
       "      <td>air_00a91d42b08b08d9_2016-12-20</td>\n",
       "      <td>0</td>\n",
       "      <td>0</td>\n",
       "      <td>51.0</td>\n",
       "      <td>4</td>\n",
       "    </tr>\n",
       "  </tbody>\n",
       "</table>\n",
       "</div>"
      ],
      "text/plain": [
       "                                id  is_visit_on_friday  is_visit_on_weeknd  \\\n",
       "0  air_00a91d42b08b08d9_2016-10-31                   0                   0   \n",
       "1  air_00a91d42b08b08d9_2016-12-05                   0                   0   \n",
       "2  air_00a91d42b08b08d9_2016-12-14                   0                   0   \n",
       "3  air_00a91d42b08b08d9_2016-12-17                   0                   1   \n",
       "4  air_00a91d42b08b08d9_2016-12-20                   0                   0   \n",
       "\n",
       "   period  reserve_visitors  \n",
       "0     4.0                 2  \n",
       "1   100.0                 9  \n",
       "2   153.0                18  \n",
       "3   147.0                 2  \n",
       "4    51.0                 4  "
      ]
     },
     "execution_count": 24,
     "metadata": {},
     "output_type": "execute_result"
    }
   ],
   "source": [
    "air_reserve_agg.head()"
   ]
  },
  {
   "cell_type": "code",
   "execution_count": 25,
   "metadata": {
    "ExecuteTime": {
     "end_time": "2017-12-19T01:17:52.512443",
     "start_time": "2017-12-19T01:17:52.222002"
    },
    "collapsed": true
   },
   "outputs": [],
   "source": [
    "train = train.merge(air_reserve_agg, how='left')\n",
    "test  = test.merge(air_reserve_agg,  how='left')"
   ]
  },
  {
   "cell_type": "markdown",
   "metadata": {},
   "source": [
    "---"
   ]
  },
  {
   "cell_type": "markdown",
   "metadata": {},
   "source": [
    "## Store ID Relation"
   ]
  },
  {
   "cell_type": "markdown",
   "metadata": {},
   "source": [
    "__store_id_relation.csv__\n",
    "\n",
    "This file allows you to join select restaurants that have both the air and hpg system.\n",
    "\n",
    "* `hpg_store_id`\n",
    "* `air_store_id`"
   ]
  },
  {
   "cell_type": "markdown",
   "metadata": {},
   "source": [
    "Вот тут надо быть внимательным, начинается геморрой: об одном и том же заведении может быть информация и у air, и у hpg. \n",
    "\n",
    "Авторы красавчики, и максимально совместики формат. Однако могут встречаться заведения, которые есть только у одних и которых нет у других."
   ]
  },
  {
   "cell_type": "code",
   "execution_count": 27,
   "metadata": {
    "ExecuteTime": {
     "end_time": "2017-12-19T01:19:43.079298",
     "start_time": "2017-12-19T01:19:43.073255"
    },
    "collapsed": true
   },
   "outputs": [],
   "source": [
    "store_id_relation = pd.read_csv('data/store_id_relation.csv')"
   ]
  },
  {
   "cell_type": "markdown",
   "metadata": {},
   "source": [
    "---"
   ]
  },
  {
   "cell_type": "markdown",
   "metadata": {},
   "source": [
    "## HPG Reserve"
   ]
  },
  {
   "cell_type": "markdown",
   "metadata": {},
   "source": [
    "__hpg_reserve.csv__\n",
    "\n",
    "This file contains reservations made in the hpg system.\n",
    "\n",
    "* `hpg_store_id` - the restaurant's id in the hpg system\n",
    "* `visit_datetime` - the time of the reservation\n",
    "* `reserve_datetime` - the time the reservation was made\n",
    "* `reserve_visitors` - the number of visitors for that reservation"
   ]
  },
  {
   "cell_type": "code",
   "execution_count": 28,
   "metadata": {
    "ExecuteTime": {
     "end_time": "2017-12-19T01:20:19.990269",
     "start_time": "2017-12-19T01:20:18.000203"
    },
    "collapsed": true
   },
   "outputs": [],
   "source": [
    "hpg_reserve = pd.read_csv('data/hpg_reserve.csv')"
   ]
  },
  {
   "cell_type": "code",
   "execution_count": 29,
   "metadata": {
    "ExecuteTime": {
     "end_time": "2017-12-19T01:20:20.005014",
     "start_time": "2017-12-19T01:20:19.991797"
    },
    "collapsed": false
   },
   "outputs": [
    {
     "data": {
      "text/html": [
       "<div>\n",
       "<style>\n",
       "    .dataframe thead tr:only-child th {\n",
       "        text-align: right;\n",
       "    }\n",
       "\n",
       "    .dataframe thead th {\n",
       "        text-align: left;\n",
       "    }\n",
       "\n",
       "    .dataframe tbody tr th {\n",
       "        vertical-align: top;\n",
       "    }\n",
       "</style>\n",
       "<table border=\"1\" class=\"dataframe\">\n",
       "  <thead>\n",
       "    <tr style=\"text-align: right;\">\n",
       "      <th></th>\n",
       "      <th>hpg_store_id</th>\n",
       "      <th>visit_datetime</th>\n",
       "      <th>reserve_datetime</th>\n",
       "      <th>reserve_visitors</th>\n",
       "    </tr>\n",
       "  </thead>\n",
       "  <tbody>\n",
       "    <tr>\n",
       "      <th>0</th>\n",
       "      <td>hpg_c63f6f42e088e50f</td>\n",
       "      <td>2016-01-01 11:00:00</td>\n",
       "      <td>2016-01-01 09:00:00</td>\n",
       "      <td>1</td>\n",
       "    </tr>\n",
       "  </tbody>\n",
       "</table>\n",
       "</div>"
      ],
      "text/plain": [
       "           hpg_store_id       visit_datetime     reserve_datetime  \\\n",
       "0  hpg_c63f6f42e088e50f  2016-01-01 11:00:00  2016-01-01 09:00:00   \n",
       "\n",
       "   reserve_visitors  \n",
       "0                 1  "
      ]
     },
     "execution_count": 29,
     "metadata": {},
     "output_type": "execute_result"
    }
   ],
   "source": [
    "hpg_reserve.head(1)"
   ]
  },
  {
   "cell_type": "markdown",
   "metadata": {},
   "source": [
    "__NB__: Табличка, казалось бы, такая же, как и Air Reserve. Правильно. Но если мы будем проводить те же операции, то при слиянии возникнут проблемы, потому что, например, __`reserve_visitors`__ у нас уже есть. Поэтому будем добавлять префикс __hpg__."
   ]
  },
  {
   "cell_type": "code",
   "execution_count": 30,
   "metadata": {
    "ExecuteTime": {
     "end_time": "2017-12-19T01:20:20.863686",
     "start_time": "2017-12-19T01:20:20.789271"
    },
    "collapsed": true
   },
   "outputs": [],
   "source": [
    "hpg_reserve.rename(columns={'reserve_visitors': 'hpg_reserve_visitors'}, inplace=True)"
   ]
  },
  {
   "cell_type": "markdown",
   "metadata": {},
   "source": [
    "---"
   ]
  },
  {
   "cell_type": "markdown",
   "metadata": {},
   "source": [
    "Весь __`hpg_reserve`__ нам не нужен: только те, у кого есть пара с air-id:"
   ]
  },
  {
   "cell_type": "code",
   "execution_count": 31,
   "metadata": {
    "ExecuteTime": {
     "end_time": "2017-12-19T01:20:26.854616",
     "start_time": "2017-12-19T01:20:25.365069"
    },
    "collapsed": true
   },
   "outputs": [],
   "source": [
    "hpg_air_reserve = hpg_reserve.merge(store_id_relation, how='left').dropna()"
   ]
  },
  {
   "cell_type": "markdown",
   "metadata": {},
   "source": [
    "### ID"
   ]
  },
  {
   "cell_type": "code",
   "execution_count": 32,
   "metadata": {
    "ExecuteTime": {
     "end_time": "2017-12-19T01:20:26.987642",
     "start_time": "2017-12-19T01:20:26.856275"
    },
    "collapsed": false
   },
   "outputs": [],
   "source": [
    "hpg_air_reserve['visit_date'] = hpg_air_reserve['visit_datetime'].str.split(' ').str.get(0)\n",
    "hpg_air_reserve['id'] = hpg_air_reserve['air_store_id'] + '_' + hpg_air_reserve['visit_date']"
   ]
  },
  {
   "cell_type": "markdown",
   "metadata": {},
   "source": [
    "### Feature engineering"
   ]
  },
  {
   "cell_type": "code",
   "execution_count": 33,
   "metadata": {
    "ExecuteTime": {
     "end_time": "2017-12-19T01:20:27.227295",
     "start_time": "2017-12-19T01:20:27.197367"
    },
    "collapsed": true
   },
   "outputs": [],
   "source": [
    "# to datetime conversion\n",
    "hpg_air_reserve['visit_datetime']   = pd.to_datetime(hpg_air_reserve['visit_datetime'])\n",
    "hpg_air_reserve['reserve_datetime'] = pd.to_datetime(hpg_air_reserve['reserve_datetime'])"
   ]
  },
  {
   "cell_type": "markdown",
   "metadata": {},
   "source": [
    "* За сколько часов был заказан стол?"
   ]
  },
  {
   "cell_type": "code",
   "execution_count": 34,
   "metadata": {
    "ExecuteTime": {
     "end_time": "2017-12-19T01:20:28.041172",
     "start_time": "2017-12-19T01:20:28.030813"
    },
    "collapsed": true
   },
   "outputs": [],
   "source": [
    "hpg_air_reserve['hpg_period'] = hpg_air_reserve['visit_datetime'] - hpg_air_reserve['reserve_datetime']\n",
    "hpg_air_reserve['hpg_period'] = hpg_air_reserve['hpg_period'] / np.timedelta64(1, 'h')"
   ]
  },
  {
   "cell_type": "markdown",
   "metadata": {},
   "source": [
    "* В день пятницы? Или выходного дня?"
   ]
  },
  {
   "cell_type": "code",
   "execution_count": 35,
   "metadata": {
    "ExecuteTime": {
     "end_time": "2017-12-19T01:20:28.737723",
     "start_time": "2017-12-19T01:20:28.725759"
    },
    "collapsed": true
   },
   "outputs": [],
   "source": [
    "hpg_air_reserve['hpg_is_visit_on_friday'] = (hpg_air_reserve.visit_datetime.dt.dayofweek == 4).astype(np.int64)\n",
    "hpg_air_reserve['hpg_is_visit_on_weeknd'] = (hpg_air_reserve.visit_datetime.dt.dayofweek > 4).astype(np.int64)"
   ]
  },
  {
   "cell_type": "markdown",
   "metadata": {},
   "source": [
    "### Аггрегация по дням"
   ]
  },
  {
   "cell_type": "code",
   "execution_count": 36,
   "metadata": {
    "ExecuteTime": {
     "end_time": "2017-12-19T01:20:29.621495",
     "start_time": "2017-12-19T01:20:29.550777"
    },
    "collapsed": false
   },
   "outputs": [],
   "source": [
    "hpg_air_reserve_agg = hpg_air_reserve.pivot_table(index=['id'], \n",
    "                                                  values=[\n",
    "                                                      'hpg_reserve_visitors',  \n",
    "                                                      'hpg_period',\n",
    "                                                      'hpg_is_visit_on_friday',\n",
    "                                                      'hpg_is_visit_on_weeknd',\n",
    "                                                  ],\n",
    "                                                  aggfunc={\n",
    "                                                      'hpg_reserve_visitors': 'sum', \n",
    "                                                      'hpg_period': 'mean',\n",
    "                                                      'hpg_is_visit_on_friday': 'mean',\n",
    "                                                      'hpg_is_visit_on_weeknd': 'mean',\n",
    "                                                  }, fill_value=0)\n",
    "\n",
    "hpg_air_reserve_agg.reset_index(inplace=True)"
   ]
  },
  {
   "cell_type": "code",
   "execution_count": 37,
   "metadata": {
    "ExecuteTime": {
     "end_time": "2017-12-19T01:20:30.722990",
     "start_time": "2017-12-19T01:20:30.712037"
    },
    "collapsed": false
   },
   "outputs": [
    {
     "data": {
      "text/html": [
       "<div>\n",
       "<style>\n",
       "    .dataframe thead tr:only-child th {\n",
       "        text-align: right;\n",
       "    }\n",
       "\n",
       "    .dataframe thead th {\n",
       "        text-align: left;\n",
       "    }\n",
       "\n",
       "    .dataframe tbody tr th {\n",
       "        vertical-align: top;\n",
       "    }\n",
       "</style>\n",
       "<table border=\"1\" class=\"dataframe\">\n",
       "  <thead>\n",
       "    <tr style=\"text-align: right;\">\n",
       "      <th></th>\n",
       "      <th>id</th>\n",
       "      <th>hpg_is_visit_on_friday</th>\n",
       "      <th>hpg_is_visit_on_weeknd</th>\n",
       "      <th>hpg_period</th>\n",
       "      <th>hpg_reserve_visitors</th>\n",
       "    </tr>\n",
       "  </thead>\n",
       "  <tbody>\n",
       "    <tr>\n",
       "      <th>0</th>\n",
       "      <td>air_00a91d42b08b08d9_2016-01-14</td>\n",
       "      <td>0</td>\n",
       "      <td>0</td>\n",
       "      <td>77.0</td>\n",
       "      <td>2</td>\n",
       "    </tr>\n",
       "    <tr>\n",
       "      <th>1</th>\n",
       "      <td>air_00a91d42b08b08d9_2016-01-15</td>\n",
       "      <td>1</td>\n",
       "      <td>0</td>\n",
       "      <td>142.0</td>\n",
       "      <td>4</td>\n",
       "    </tr>\n",
       "    <tr>\n",
       "      <th>2</th>\n",
       "      <td>air_00a91d42b08b08d9_2016-01-16</td>\n",
       "      <td>0</td>\n",
       "      <td>1</td>\n",
       "      <td>70.0</td>\n",
       "      <td>2</td>\n",
       "    </tr>\n",
       "    <tr>\n",
       "      <th>3</th>\n",
       "      <td>air_00a91d42b08b08d9_2016-01-22</td>\n",
       "      <td>1</td>\n",
       "      <td>0</td>\n",
       "      <td>82.0</td>\n",
       "      <td>2</td>\n",
       "    </tr>\n",
       "    <tr>\n",
       "      <th>4</th>\n",
       "      <td>air_00a91d42b08b08d9_2016-01-29</td>\n",
       "      <td>1</td>\n",
       "      <td>0</td>\n",
       "      <td>144.0</td>\n",
       "      <td>5</td>\n",
       "    </tr>\n",
       "  </tbody>\n",
       "</table>\n",
       "</div>"
      ],
      "text/plain": [
       "                                id  hpg_is_visit_on_friday  \\\n",
       "0  air_00a91d42b08b08d9_2016-01-14                       0   \n",
       "1  air_00a91d42b08b08d9_2016-01-15                       1   \n",
       "2  air_00a91d42b08b08d9_2016-01-16                       0   \n",
       "3  air_00a91d42b08b08d9_2016-01-22                       1   \n",
       "4  air_00a91d42b08b08d9_2016-01-29                       1   \n",
       "\n",
       "   hpg_is_visit_on_weeknd  hpg_period  hpg_reserve_visitors  \n",
       "0                       0        77.0                     2  \n",
       "1                       0       142.0                     4  \n",
       "2                       1        70.0                     2  \n",
       "3                       0        82.0                     2  \n",
       "4                       0       144.0                     5  "
      ]
     },
     "execution_count": 37,
     "metadata": {},
     "output_type": "execute_result"
    }
   ],
   "source": [
    "hpg_air_reserve_agg.head()"
   ]
  },
  {
   "cell_type": "code",
   "execution_count": 38,
   "metadata": {
    "ExecuteTime": {
     "end_time": "2017-12-19T01:20:31.672319",
     "start_time": "2017-12-19T01:20:31.395277"
    },
    "collapsed": false
   },
   "outputs": [],
   "source": [
    "train = train.merge(hpg_air_reserve_agg, how='left')\n",
    "test  = test.merge(hpg_air_reserve_agg,  how='left')"
   ]
  },
  {
   "cell_type": "markdown",
   "metadata": {},
   "source": [
    "---"
   ]
  },
  {
   "cell_type": "markdown",
   "metadata": {},
   "source": [
    "## Date Info"
   ]
  },
  {
   "cell_type": "markdown",
   "metadata": {},
   "source": [
    "__date_info.csv__\n",
    "\n",
    "This file gives basic information about the calendar dates in the dataset.\n",
    "\n",
    "* `calendar_date`\n",
    "* `day_of_week`\n",
    "* `holiday_flg` - is the day a holiday in Japan"
   ]
  },
  {
   "cell_type": "code",
   "execution_count": 39,
   "metadata": {
    "ExecuteTime": {
     "end_time": "2017-12-19T01:20:47.429293",
     "start_time": "2017-12-19T01:20:47.421022"
    },
    "collapsed": true
   },
   "outputs": [],
   "source": [
    "date_info = pd.read_csv('data/date_info.csv')\n",
    "date_info.rename(columns={'calendar_date': 'visit_date'}, inplace=True)"
   ]
  },
  {
   "cell_type": "code",
   "execution_count": 40,
   "metadata": {
    "ExecuteTime": {
     "end_time": "2017-12-19T01:20:47.777034",
     "start_time": "2017-12-19T01:20:47.760989"
    },
    "collapsed": false
   },
   "outputs": [
    {
     "data": {
      "text/html": [
       "<div>\n",
       "<style>\n",
       "    .dataframe thead tr:only-child th {\n",
       "        text-align: right;\n",
       "    }\n",
       "\n",
       "    .dataframe thead th {\n",
       "        text-align: left;\n",
       "    }\n",
       "\n",
       "    .dataframe tbody tr th {\n",
       "        vertical-align: top;\n",
       "    }\n",
       "</style>\n",
       "<table border=\"1\" class=\"dataframe\">\n",
       "  <thead>\n",
       "    <tr style=\"text-align: right;\">\n",
       "      <th></th>\n",
       "      <th>visit_date</th>\n",
       "      <th>day_of_week</th>\n",
       "      <th>holiday_flg</th>\n",
       "    </tr>\n",
       "  </thead>\n",
       "  <tbody>\n",
       "    <tr>\n",
       "      <th>0</th>\n",
       "      <td>2016-01-01</td>\n",
       "      <td>Friday</td>\n",
       "      <td>1</td>\n",
       "    </tr>\n",
       "    <tr>\n",
       "      <th>1</th>\n",
       "      <td>2016-01-02</td>\n",
       "      <td>Saturday</td>\n",
       "      <td>1</td>\n",
       "    </tr>\n",
       "    <tr>\n",
       "      <th>2</th>\n",
       "      <td>2016-01-03</td>\n",
       "      <td>Sunday</td>\n",
       "      <td>1</td>\n",
       "    </tr>\n",
       "    <tr>\n",
       "      <th>3</th>\n",
       "      <td>2016-01-04</td>\n",
       "      <td>Monday</td>\n",
       "      <td>0</td>\n",
       "    </tr>\n",
       "    <tr>\n",
       "      <th>4</th>\n",
       "      <td>2016-01-05</td>\n",
       "      <td>Tuesday</td>\n",
       "      <td>0</td>\n",
       "    </tr>\n",
       "  </tbody>\n",
       "</table>\n",
       "</div>"
      ],
      "text/plain": [
       "   visit_date day_of_week  holiday_flg\n",
       "0  2016-01-01      Friday            1\n",
       "1  2016-01-02    Saturday            1\n",
       "2  2016-01-03      Sunday            1\n",
       "3  2016-01-04      Monday            0\n",
       "4  2016-01-05     Tuesday            0"
      ]
     },
     "execution_count": 40,
     "metadata": {},
     "output_type": "execute_result"
    }
   ],
   "source": [
    "date_info.head()"
   ]
  },
  {
   "cell_type": "code",
   "execution_count": 41,
   "metadata": {
    "ExecuteTime": {
     "end_time": "2017-12-19T01:20:48.723516",
     "start_time": "2017-12-19T01:20:48.562541"
    },
    "collapsed": true
   },
   "outputs": [],
   "source": [
    "train = train.merge(date_info, how='left')\n",
    "test  = test.merge(date_info,  how='left')"
   ]
  },
  {
   "cell_type": "markdown",
   "metadata": {},
   "source": [
    "---"
   ]
  },
  {
   "cell_type": "markdown",
   "metadata": {},
   "source": [
    "Итого:"
   ]
  },
  {
   "cell_type": "code",
   "execution_count": 42,
   "metadata": {
    "ExecuteTime": {
     "end_time": "2017-12-19T01:20:50.784480",
     "start_time": "2017-12-19T01:20:50.779532"
    },
    "collapsed": false
   },
   "outputs": [
    {
     "data": {
      "text/plain": [
       "((252108, 18), (32019, 18))"
      ]
     },
     "execution_count": 42,
     "metadata": {},
     "output_type": "execute_result"
    }
   ],
   "source": [
    "train.shape, test.shape"
   ]
  },
  {
   "cell_type": "markdown",
   "metadata": {},
   "source": [
    "# Feature Engineering"
   ]
  },
  {
   "cell_type": "markdown",
   "metadata": {},
   "source": [
    "<div class=\"panel panel-info\" style=\"margin: 20px 0 0 0\">\n",
    "    <div class=\"panel-heading\">\n",
    "        <h3 class=\"panel-title\">Задание 1. Новые признаки</h3> \n",
    "    </div>\n",
    "</div>\n",
    "\n",
    "Добавляй! Помни, чему тебя учил Ольферук!"
   ]
  },
  {
   "cell_type": "code",
   "execution_count": null,
   "metadata": {
    "collapsed": true
   },
   "outputs": [],
   "source": [
    "# Ваш код здесь"
   ]
  },
  {
   "cell_type": "markdown",
   "metadata": {},
   "source": [
    "# Визуализация"
   ]
  },
  {
   "cell_type": "markdown",
   "metadata": {},
   "source": [
    "<div class=\"panel panel-info\" style=\"margin: 20px 0 0 0\">\n",
    "    <div class=\"panel-heading\">\n",
    "        <h3 class=\"panel-title\">Задание 2. Давно не рисовали?</h3> \n",
    "    </div>\n",
    "</div>\n",
    "\n",
    "Время рисовать! Не недооценивай важность графиков. Хорошая картинка показательнее многих команд и статистических тестов. Думай, исследуй, набивай руку, РАБОТАЙ, СУКА, одним словом."
   ]
  },
  {
   "cell_type": "code",
   "execution_count": null,
   "metadata": {
    "collapsed": true
   },
   "outputs": [],
   "source": [
    "# Ваш код здесь"
   ]
  },
  {
   "cell_type": "markdown",
   "metadata": {},
   "source": [
    "# Кодирование и подготовка выборки"
   ]
  },
  {
   "cell_type": "markdown",
   "metadata": {},
   "source": [
    "<div class=\"panel panel-info\" style=\"margin: 20px 0 0 0\">\n",
    "    <div class=\"panel-heading\">\n",
    "        <h3 class=\"panel-title\">Задание 3. Че там дальше?</h3> \n",
    "    </div>\n",
    "</div>\n",
    "\n",
    "Признаки кодировать можно, как ты помнишь, по-разному:\n",
    "\n",
    "1. `LabelEncoder` - парень, который превращает значения в циферки по порядку.\n",
    "2. `LabelBinarizer` - one-hot-кодирование, ты помнишь? Единичка где-то в векторе, размером со все уникальные значения признака.\n",
    "3. `CountVectorizer` - мешок слов. Как one-hot, но единичек может быть много. Возможно, пойдет для кодирования региона в нашем случае. Хз.\n",
    "\n",
    "И сформируй выборку. __visitors__ предсказываем, - помнишь?"
   ]
  },
  {
   "cell_type": "code",
   "execution_count": null,
   "metadata": {
    "collapsed": true
   },
   "outputs": [],
   "source": [
    "# Ваш код здесь"
   ]
  },
  {
   "cell_type": "markdown",
   "metadata": {},
   "source": [
    "# Модель"
   ]
  },
  {
   "cell_type": "markdown",
   "metadata": {},
   "source": [
    "## Train & Evaluate"
   ]
  },
  {
   "cell_type": "markdown",
   "metadata": {},
   "source": [
    "<div class=\"panel panel-info\" style=\"margin: 20px 0 0 0\">\n",
    "    <div class=\"panel-heading\">\n",
    "        <h3 class=\"panel-title\">Задание 4. Я у мамы дата-сайентист</h3> \n",
    "    </div>\n",
    "</div>\n",
    "\n",
    "Ну ты понял. Самая безмозглая часть работы настала. \n",
    "\n",
    "1. Импортируешь свой любимый классификатор.\n",
    "2. fit.\n",
    "3. predict.\n",
    "\n",
    "На трейне можешь измерять качество, как хочешь.\n",
    "\n",
    "Когда наиграешься, выкинь из `test` столбец __`visitors`__, и предскажи его с помощью модели. Можешь как-то так:"
   ]
  },
  {
   "cell_type": "markdown",
   "metadata": {},
   "source": [
    "```python\n",
    "    answers = clf.predict(X_test)\n",
    "    submission = pd.read_csv('data/sample_submission.csv')\n",
    "    submission.visitors = answers\n",
    "    submission['visitors'] = submission['visitors'].apply(lambda x: 0 if x < 0 else x) # ага, не забудь перестраховаться\n",
    "    submission.to_csv('../output/first_pred.csv', index=False)\n",
    "```"
   ]
  },
  {
   "cell_type": "markdown",
   "metadata": {},
   "source": [
    "<div class=\"panel panel-success\" style=\"margin: 50px 0 0 0\">\n",
    "    <div class=\"panel-heading\">\n",
    "        <h3 class=\"panel-title\">Финиш?</h3> \n",
    "    </div>\n",
    "</div>\n",
    "\n",
    "Добрался до финиша? Здорово! Но еще далеко не конец.\n",
    "\n",
    "Отправляй результаты на kaggle. Наверняка будет не топовый результат. Почему? Стоит вернуться и проанализировать. Стоит обсудить. Стоит посмотреть, что у других. Обязательно делись находками, графиками, новыми мыслями в чат. \n",
    "\n",
    "Вместе мы точно осилим!"
   ]
  }
 ],
 "metadata": {
  "kernelspec": {
   "display_name": "Python 3",
   "language": "python",
   "name": "python3"
  },
  "language_info": {
   "codemirror_mode": {
    "name": "ipython",
    "version": 3
   },
   "file_extension": ".py",
   "mimetype": "text/x-python",
   "name": "python",
   "nbconvert_exporter": "python",
   "pygments_lexer": "ipython3",
   "version": "3.6.0"
  },
  "toc": {
   "colors": {
    "hover_highlight": "#DAA520",
    "running_highlight": "#FF0000",
    "selected_highlight": "#FFD700"
   },
   "moveMenuLeft": true,
   "nav_menu": {
    "height": "12px",
    "width": "252px"
   },
   "navigate_menu": true,
   "number_sections": false,
   "sideBar": true,
   "threshold": 4,
   "toc_cell": false,
   "toc_position": {
    "height": "597px",
    "left": "0px",
    "right": "1067px",
    "top": "107px",
    "width": "212px"
   },
   "toc_section_display": "block",
   "toc_window_display": false
  }
 },
 "nbformat": 4,
 "nbformat_minor": 2
}
