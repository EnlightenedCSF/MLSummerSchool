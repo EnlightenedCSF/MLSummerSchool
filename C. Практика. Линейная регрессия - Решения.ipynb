{
 "cells": [
  {
   "cell_type": "code",
   "execution_count": 1,
   "metadata": {
    "ExecuteTime": {
     "end_time": "2017-11-30T23:24:38.180829",
     "start_time": "2017-11-30T23:24:38.173134"
    },
    "collapsed": true
   },
   "outputs": [],
   "source": [
    "import pandas as pd\n",
    "import numpy as np"
   ]
  },
  {
   "cell_type": "code",
   "execution_count": 2,
   "metadata": {
    "ExecuteTime": {
     "end_time": "2017-11-30T23:24:38.191947",
     "start_time": "2017-11-30T23:24:38.183841"
    },
    "collapsed": false
   },
   "outputs": [],
   "source": [
    "from matplotlib import rcParams\n",
    "rcParams['figure.figsize'] = 10, 8\n",
    "rcParams['font.size'] = 16\n",
    "rcParams['axes.labelsize'] = 16\n",
    "rcParams['axes.titlesize'] = 20\n",
    "rcParams['xtick.labelsize'] = 13\n",
    "rcParams['ytick.labelsize'] = 13\n",
    "rcParams['legend.fontsize'] = 15"
   ]
  },
  {
   "cell_type": "code",
   "execution_count": 3,
   "metadata": {
    "ExecuteTime": {
     "end_time": "2017-11-30T23:24:38.199339",
     "start_time": "2017-11-30T23:24:38.195087"
    },
    "collapsed": true
   },
   "outputs": [],
   "source": [
    "import seaborn as sns\n",
    "sns.set_style(\"whitegrid\")"
   ]
  },
  {
   "cell_type": "markdown",
   "metadata": {},
   "source": [
    "<div class=\"panel panel-info\" style=\"margin: 50px 0 0 0\">\n",
    "    <div class=\"panel-heading\">\n",
    "        <h1 class=\"panel-title\">Задание 1: Разминка</h1> \n",
    "    </div>\n",
    "</div>"
   ]
  },
  {
   "cell_type": "markdown",
   "metadata": {},
   "source": [
    "Нельзя приступать к сложным упражнениям, не размявшись. Поэтому сначала все будет очень просто.\n",
    "\n",
    "1. __Прочитай данные.__ В этой задаче предлагается находить общую сумму платежа страховой компании (`TotalPayment`) по количеству поданых исков (`NumberOfClaims`).\n",
    "\n",
    "2. __Построй диаграмму рассеяния__ (scatter plot) и убедись по графику, что со стоящей перед тобой задачей справится даже хорошо выдрессированный пёс.\n",
    "\n",
    "3. __Расчехляй `LinearRegression`__ и нарусуй на той же диаграмме рассеяния ее предсказания в виде красной линии.\n",
    "\n",
    "4. __Измерь ошибку__ предсказаний с помощью метрики __RMSE__ - _\"корень из среднеквадратической ошибки\"_. Все метрики лежат в `sklearn.metrics`. Если ты все сделал правильно, она будет равна примерно 35. "
   ]
  },
  {
   "cell_type": "code",
   "execution_count": 4,
   "metadata": {
    "ExecuteTime": {
     "end_time": "2017-11-30T23:24:38.222740",
     "start_time": "2017-11-30T23:24:38.211552"
    },
    "collapsed": true
   },
   "outputs": [],
   "source": [
    "df = pd.read_csv('data/LinearRegressionHW/AutoInsuranceSweden.csv')\n",
    "df.sort_values(by=['NumberOfClaims'], inplace=True)"
   ]
  },
  {
   "cell_type": "code",
   "execution_count": 5,
   "metadata": {
    "ExecuteTime": {
     "end_time": "2017-11-30T23:24:38.967886",
     "start_time": "2017-11-30T23:24:38.951882"
    },
    "collapsed": false
   },
   "outputs": [
    {
     "data": {
      "text/html": [
       "<div>\n",
       "<style>\n",
       "    .dataframe thead tr:only-child th {\n",
       "        text-align: right;\n",
       "    }\n",
       "\n",
       "    .dataframe thead th {\n",
       "        text-align: left;\n",
       "    }\n",
       "\n",
       "    .dataframe tbody tr th {\n",
       "        vertical-align: top;\n",
       "    }\n",
       "</style>\n",
       "<table border=\"1\" class=\"dataframe\">\n",
       "  <thead>\n",
       "    <tr style=\"text-align: right;\">\n",
       "      <th></th>\n",
       "      <th>NumberOfClaims</th>\n",
       "      <th>TotalPayment</th>\n",
       "    </tr>\n",
       "  </thead>\n",
       "  <tbody>\n",
       "    <tr>\n",
       "      <th>30</th>\n",
       "      <td>0</td>\n",
       "      <td>0.0</td>\n",
       "    </tr>\n",
       "    <tr>\n",
       "      <th>15</th>\n",
       "      <td>2</td>\n",
       "      <td>6.6</td>\n",
       "    </tr>\n",
       "    <tr>\n",
       "      <th>49</th>\n",
       "      <td>3</td>\n",
       "      <td>39.9</td>\n",
       "    </tr>\n",
       "    <tr>\n",
       "      <th>23</th>\n",
       "      <td>3</td>\n",
       "      <td>13.2</td>\n",
       "    </tr>\n",
       "    <tr>\n",
       "      <th>18</th>\n",
       "      <td>3</td>\n",
       "      <td>4.4</td>\n",
       "    </tr>\n",
       "  </tbody>\n",
       "</table>\n",
       "</div>"
      ],
      "text/plain": [
       "    NumberOfClaims  TotalPayment\n",
       "30               0           0.0\n",
       "15               2           6.6\n",
       "49               3          39.9\n",
       "23               3          13.2\n",
       "18               3           4.4"
      ]
     },
     "execution_count": 5,
     "metadata": {},
     "output_type": "execute_result"
    }
   ],
   "source": [
    "df.head()"
   ]
  },
  {
   "cell_type": "code",
   "execution_count": 6,
   "metadata": {
    "ExecuteTime": {
     "end_time": "2017-11-30T23:24:40.410510",
     "start_time": "2017-11-30T23:24:39.676474"
    },
    "collapsed": false
   },
   "outputs": [
    {
     "data": {
      "image/png": "[encoded data removed]",
      "text/plain": [
       "<matplotlib.figure.Figure at 0x10f71aef0>"
      ]
     },
     "metadata": {},
     "output_type": "display_data"
    }
   ],
   "source": [
    "plt.scatter(df.NumberOfClaims, df.TotalPayment);"
   ]
  },
  {
   "cell_type": "code",
   "execution_count": 7,
   "metadata": {
    "ExecuteTime": {
     "end_time": "2017-11-30T23:24:41.136250",
     "start_time": "2017-11-30T23:24:40.911758"
    },
    "collapsed": true
   },
   "outputs": [],
   "source": [
    "from sklearn.linear_model import LinearRegression\n",
    "from sklearn.metrics import mean_squared_error"
   ]
  },
  {
   "cell_type": "code",
   "execution_count": 8,
   "metadata": {
    "ExecuteTime": {
     "end_time": "2017-11-30T23:24:41.973461",
     "start_time": "2017-11-30T23:24:41.969585"
    },
    "collapsed": true
   },
   "outputs": [],
   "source": [
    "rmse = lambda y_true, y_pred: np.sqrt(mean_squared_error(y_true, y_pred))"
   ]
  },
  {
   "cell_type": "code",
   "execution_count": 9,
   "metadata": {
    "ExecuteTime": {
     "end_time": "2017-11-30T23:24:43.047726",
     "start_time": "2017-11-30T23:24:43.042357"
    },
    "collapsed": true
   },
   "outputs": [],
   "source": [
    "X, y = df[['NumberOfClaims']], df.TotalPayment"
   ]
  },
  {
   "cell_type": "code",
   "execution_count": 10,
   "metadata": {
    "ExecuteTime": {
     "end_time": "2017-11-30T23:24:43.821824",
     "start_time": "2017-11-30T23:24:43.815590"
    },
    "collapsed": false
   },
   "outputs": [],
   "source": [
    "clf = LinearRegression()\n",
    "clf.fit(X, y);\n",
    "\n",
    "y_hat = clf.predict(X)"
   ]
  },
  {
   "cell_type": "code",
   "execution_count": 12,
   "metadata": {
    "ExecuteTime": {
     "end_time": "2017-11-30T23:24:54.279005",
     "start_time": "2017-11-30T23:24:53.585130"
    },
    "collapsed": false,
    "scrolled": false
   },
   "outputs": [
    {
     "data": {
      "image/png": "[encoded data removed]",
      "text/plain": [
       "<matplotlib.figure.Figure at 0x110489048>"
      ]
     },
     "metadata": {},
     "output_type": "display_data"
    }
   ],
   "source": [
    "plt.scatter(df.NumberOfClaims, df.TotalPayment);\n",
    "plt.plot(X, y_hat, c='r');\n",
    "plt.title('RMSE: %.3f' % rmse(y, y_hat));"
   ]
  },
  {
   "cell_type": "markdown",
   "metadata": {},
   "source": [
    "<div class=\"panel panel-info\" style=\"margin: 50px 0 0 0\">\n",
    "    <div class=\"panel-heading\">\n",
    "        <h1 class=\"panel-title\">Задание 2: Странная китайская еда</h1> \n",
    "    </div>\n",
    "</div>"
   ]
  },
  {
   "cell_type": "markdown",
   "metadata": {},
   "source": [
    "Добро пожаловать на кухню! И сегодня в шоу Джейми Оливера мы будем готовить морские ушки! \n",
    "\n",
    "...в смысле вы не знаете, что это? А ну бегом читать [википедию](https://ru.wikipedia.org/wiki/%D0%9C%D0%BE%D1%80%D1%81%D0%BA%D0%B8%D0%B5_%D1%83%D1%88%D0%BA%D0%B8)!"
   ]
  },
  {
   "cell_type": "markdown",
   "metadata": {},
   "source": [
    "<table>\n",
    "    <tr>\n",
    "        <td width=\"53%\"><img src=\"https://upload.wikimedia.org/wikipedia/commons/c/c1/Pinkabalone_300.jpg\"></td>\n",
    "        <td width=\"47%\"><img src=\"https://upload.wikimedia.org/wikipedia/commons/thumb/3/33/LivingAbalone.JPG/1920px-LivingAbalone.JPG\"></td>\n",
    "    </tr>\n",
    "</table>"
   ]
  },
  {
   "cell_type": "markdown",
   "metadata": {},
   "source": [
    "Так вот.\n",
    "\n",
    "Конечно, для того, чтобы приготовить лучший в мире [чонбукчук](https://ru.wikipedia.org/wiki/%D0%A7%D0%BE%D0%BD%D0%B1%D0%BE%D0%BA%D1%87%D1%83%D0%BA), нужны только самые молодые ушки, у которых самое нежное мясо. Вообще, как я понял, возраст определяется по кольцам на раковине, но для нормального подсчета ее надо вскрыть, а не хотелось бы.\n",
    "\n",
    "Нужно пользоваться косвенными признаками и угадать возраст с помощью машинного обучения!"
   ]
  },
  {
   "cell_type": "code",
   "execution_count": 13,
   "metadata": {
    "ExecuteTime": {
     "end_time": "2017-11-30T23:24:58.299985",
     "start_time": "2017-11-30T23:24:58.281220"
    },
    "collapsed": true
   },
   "outputs": [],
   "source": [
    "df = pd.read_csv('data/LinearRegressionHW/AbaloneAge.csv')"
   ]
  },
  {
   "cell_type": "code",
   "execution_count": 14,
   "metadata": {
    "ExecuteTime": {
     "end_time": "2017-11-30T23:24:58.833302",
     "start_time": "2017-11-30T23:24:58.827434"
    },
    "collapsed": false
   },
   "outputs": [
    {
     "data": {
      "text/plain": [
       "(4177, 9)"
      ]
     },
     "execution_count": 14,
     "metadata": {},
     "output_type": "execute_result"
    }
   ],
   "source": [
    "df.shape"
   ]
  },
  {
   "cell_type": "code",
   "execution_count": 15,
   "metadata": {
    "ExecuteTime": {
     "end_time": "2017-11-30T23:24:59.425763",
     "start_time": "2017-11-30T23:24:59.402088"
    },
    "collapsed": false
   },
   "outputs": [
    {
     "data": {
      "text/html": [
       "<div>\n",
       "<style>\n",
       "    .dataframe thead tr:only-child th {\n",
       "        text-align: right;\n",
       "    }\n",
       "\n",
       "    .dataframe thead th {\n",
       "        text-align: left;\n",
       "    }\n",
       "\n",
       "    .dataframe tbody tr th {\n",
       "        vertical-align: top;\n",
       "    }\n",
       "</style>\n",
       "<table border=\"1\" class=\"dataframe\">\n",
       "  <thead>\n",
       "    <tr style=\"text-align: right;\">\n",
       "      <th></th>\n",
       "      <th>Sex</th>\n",
       "      <th>Length</th>\n",
       "      <th>Diameter</th>\n",
       "      <th>Height</th>\n",
       "      <th>WholeWeight</th>\n",
       "      <th>ShuckedWeight</th>\n",
       "      <th>VisceraWeight</th>\n",
       "      <th>ShellWeight</th>\n",
       "      <th>Rings</th>\n",
       "    </tr>\n",
       "  </thead>\n",
       "  <tbody>\n",
       "    <tr>\n",
       "      <th>0</th>\n",
       "      <td>M</td>\n",
       "      <td>0.455</td>\n",
       "      <td>0.365</td>\n",
       "      <td>0.095</td>\n",
       "      <td>0.5140</td>\n",
       "      <td>0.2245</td>\n",
       "      <td>0.1010</td>\n",
       "      <td>0.150</td>\n",
       "      <td>15</td>\n",
       "    </tr>\n",
       "    <tr>\n",
       "      <th>1</th>\n",
       "      <td>M</td>\n",
       "      <td>0.350</td>\n",
       "      <td>0.265</td>\n",
       "      <td>0.090</td>\n",
       "      <td>0.2255</td>\n",
       "      <td>0.0995</td>\n",
       "      <td>0.0485</td>\n",
       "      <td>0.070</td>\n",
       "      <td>7</td>\n",
       "    </tr>\n",
       "    <tr>\n",
       "      <th>2</th>\n",
       "      <td>F</td>\n",
       "      <td>0.530</td>\n",
       "      <td>0.420</td>\n",
       "      <td>0.135</td>\n",
       "      <td>0.6770</td>\n",
       "      <td>0.2565</td>\n",
       "      <td>0.1415</td>\n",
       "      <td>0.210</td>\n",
       "      <td>9</td>\n",
       "    </tr>\n",
       "    <tr>\n",
       "      <th>3</th>\n",
       "      <td>M</td>\n",
       "      <td>0.440</td>\n",
       "      <td>0.365</td>\n",
       "      <td>0.125</td>\n",
       "      <td>0.5160</td>\n",
       "      <td>0.2155</td>\n",
       "      <td>0.1140</td>\n",
       "      <td>0.155</td>\n",
       "      <td>10</td>\n",
       "    </tr>\n",
       "    <tr>\n",
       "      <th>4</th>\n",
       "      <td>I</td>\n",
       "      <td>0.330</td>\n",
       "      <td>0.255</td>\n",
       "      <td>0.080</td>\n",
       "      <td>0.2050</td>\n",
       "      <td>0.0895</td>\n",
       "      <td>0.0395</td>\n",
       "      <td>0.055</td>\n",
       "      <td>7</td>\n",
       "    </tr>\n",
       "  </tbody>\n",
       "</table>\n",
       "</div>"
      ],
      "text/plain": [
       "  Sex  Length  Diameter  Height  WholeWeight  ShuckedWeight  VisceraWeight  \\\n",
       "0   M   0.455     0.365   0.095       0.5140         0.2245         0.1010   \n",
       "1   M   0.350     0.265   0.090       0.2255         0.0995         0.0485   \n",
       "2   F   0.530     0.420   0.135       0.6770         0.2565         0.1415   \n",
       "3   M   0.440     0.365   0.125       0.5160         0.2155         0.1140   \n",
       "4   I   0.330     0.255   0.080       0.2050         0.0895         0.0395   \n",
       "\n",
       "   ShellWeight  Rings  \n",
       "0        0.150     15  \n",
       "1        0.070      7  \n",
       "2        0.210      9  \n",
       "3        0.155     10  \n",
       "4        0.055      7  "
      ]
     },
     "execution_count": 15,
     "metadata": {},
     "output_type": "execute_result"
    }
   ],
   "source": [
    "df.head()"
   ]
  },
  {
   "cell_type": "markdown",
   "metadata": {},
   "source": [
    "Итак.\n",
    "\n",
    "* `Sex` - пол. Их три! Есть мужские особи (`M`), женские (`F`) и ..остальные (`I`);\n",
    "* `Length` - длина раковины;\n",
    "* `Diameter` - диаметр раковины;\n",
    "* `Height` - толщина раковины;\n",
    "* `WholeWeight` - весь вес;\n",
    "* `ShuckedWeight` - вес без раковины;\n",
    "* `VisceraWeight` - вес внутренностей;\n",
    "* `ShellWeight` - вес только раковины;\n",
    "* `Rings` - наша __целевая переменная__.\n",
    "\n",
    "Ага. И теперь разумный вопрос: как мы измерили вес частей моллюска, не вскрывая его?... Ой, все!"
   ]
  },
  {
   "cell_type": "markdown",
   "metadata": {},
   "source": [
    "<div class=\"panel panel-info\">\n",
    "    <div class=\"panel-heading\">\n",
    "        <h3 class=\"panel-title\">Задание 2.1: Визуализация</h3> \n",
    "    </div>\n",
    "</div>"
   ]
  },
  {
   "cell_type": "markdown",
   "metadata": {},
   "source": [
    "Это опциональный блок, в котором ты можешь построить те графики, которые сам посчитаешь нужным построить. Исследуй данные, найди, может, что-то интересное в них, что поможет в дальнейшем сформировать новые признаки."
   ]
  },
  {
   "cell_type": "code",
   "execution_count": 16,
   "metadata": {
    "ExecuteTime": {
     "end_time": "2017-11-30T23:25:04.155091",
     "start_time": "2017-11-30T23:25:04.149220"
    },
    "collapsed": true
   },
   "outputs": [],
   "source": [
    "df.Sex = pd.factorize(df.Sex)[0]"
   ]
  },
  {
   "cell_type": "code",
   "execution_count": 17,
   "metadata": {
    "ExecuteTime": {
     "end_time": "2017-11-30T23:25:05.612873",
     "start_time": "2017-11-30T23:25:04.657095"
    },
    "collapsed": false,
    "scrolled": false
   },
   "outputs": [
    {
     "data": {
      "image/png": "[encoded data removed]",
      "text/plain": [
       "<matplotlib.figure.Figure at 0x11052a2e8>"
      ]
     },
     "metadata": {},
     "output_type": "display_data"
    }
   ],
   "source": [
    "sns.boxplot(df.drop('Rings', axis=1));"
   ]
  },
  {
   "cell_type": "markdown",
   "metadata": {},
   "source": [
    "<div class=\"panel panel-info\">\n",
    "    <div class=\"panel-heading\">\n",
    "        <h3 class=\"panel-title\">Задание 2.2: Новые признаки</h3> \n",
    "    </div>\n",
    "</div>"
   ]
  },
  {
   "cell_type": "markdown",
   "metadata": {},
   "source": [
    "1. Для начала импортируй __`train_test_split`__ из пакета `sklearn.model_selection`.\n",
    "2. С помощью него разбей выборку, и измерь качество твоего алгоритма той же метрикой __RMSE__.\n",
    "3. Добавь в данные новый признак: __объем моллюска__, равный произведению признаков `Length`, `Diameter` и `Height`.\n",
    "4. Повтори пункт 2, сравни результат. Стало ли лучше? \n",
    "\n",
    "Не забудь, кстати, во второй раз (п.4) разбить выборку абсолютно точно так же, как и в первый (п.2). Для этого зафиксируй параметр `random_state`."
   ]
  },
  {
   "cell_type": "code",
   "execution_count": 19,
   "metadata": {
    "ExecuteTime": {
     "end_time": "2017-11-30T23:25:34.233795",
     "start_time": "2017-11-30T23:25:34.228489"
    },
    "collapsed": true
   },
   "outputs": [],
   "source": [
    "X, y = df.drop('Rings', axis=1), df.Rings"
   ]
  },
  {
   "cell_type": "code",
   "execution_count": 20,
   "metadata": {
    "ExecuteTime": {
     "end_time": "2017-11-30T23:25:42.156948",
     "start_time": "2017-11-30T23:25:42.152842"
    },
    "collapsed": true
   },
   "outputs": [],
   "source": [
    "from sklearn.model_selection import train_test_split"
   ]
  },
  {
   "cell_type": "code",
   "execution_count": 21,
   "metadata": {
    "ExecuteTime": {
     "end_time": "2017-11-30T23:25:42.998408",
     "start_time": "2017-11-30T23:25:42.990058"
    },
    "collapsed": true
   },
   "outputs": [],
   "source": [
    "X_train, X_test, y_train, y_test = train_test_split(X, y, test_size=0.2, random_state=0)"
   ]
  },
  {
   "cell_type": "code",
   "execution_count": 22,
   "metadata": {
    "ExecuteTime": {
     "end_time": "2017-11-30T23:25:44.569319",
     "start_time": "2017-11-30T23:25:44.559422"
    },
    "collapsed": false
   },
   "outputs": [
    {
     "data": {
      "text/plain": [
       "2.2441968111220492"
      ]
     },
     "execution_count": 22,
     "metadata": {},
     "output_type": "execute_result"
    }
   ],
   "source": [
    "clf = LinearRegression()\n",
    "clf.fit(X_train, y_train);\n",
    "rmse(y_test, clf.predict(X_test))"
   ]
  },
  {
   "cell_type": "code",
   "execution_count": 23,
   "metadata": {
    "ExecuteTime": {
     "end_time": "2017-11-30T23:25:47.454151",
     "start_time": "2017-11-30T23:25:47.447837"
    },
    "collapsed": false
   },
   "outputs": [],
   "source": [
    "df['Volume'] = df.Length * df.Diameter * df.Height"
   ]
  },
  {
   "cell_type": "code",
   "execution_count": 24,
   "metadata": {
    "ExecuteTime": {
     "end_time": "2017-11-30T23:25:48.068330",
     "start_time": "2017-11-30T23:25:48.061394"
    },
    "collapsed": false
   },
   "outputs": [],
   "source": [
    "X, y = df.drop('Rings', axis=1), df.Rings"
   ]
  },
  {
   "cell_type": "code",
   "execution_count": 25,
   "metadata": {
    "ExecuteTime": {
     "end_time": "2017-11-30T23:25:48.607167",
     "start_time": "2017-11-30T23:25:48.599833"
    },
    "collapsed": true
   },
   "outputs": [],
   "source": [
    "X_train, X_test, y_train, y_test = train_test_split(X, y, test_size=0.2, random_state=0)"
   ]
  },
  {
   "cell_type": "code",
   "execution_count": 26,
   "metadata": {
    "ExecuteTime": {
     "end_time": "2017-11-30T23:25:49.584080",
     "start_time": "2017-11-30T23:25:49.572979"
    },
    "collapsed": false
   },
   "outputs": [
    {
     "data": {
      "text/plain": [
       "2.2162557825419933"
      ]
     },
     "execution_count": 26,
     "metadata": {},
     "output_type": "execute_result"
    }
   ],
   "source": [
    "clf = LinearRegression()\n",
    "clf.fit(X_train, y_train);\n",
    "np.sqrt(mean_squared_error(y_test, clf.predict(X_test)))"
   ]
  },
  {
   "cell_type": "markdown",
   "metadata": {},
   "source": [
    "<div class=\"panel panel-info\">\n",
    "    <div class=\"panel-heading\">\n",
    "        <h3 class=\"panel-title\">Задание 2.4: Поиск лучшего</h3> \n",
    "    </div>\n",
    "</div>"
   ]
  },
  {
   "cell_type": "markdown",
   "metadata": {},
   "source": [
    "Настало время найти лучший регрессор!\n",
    "\n",
    "* `PolynomialFeatures` лежит в `sklearn.preprocessing`\n",
    "* `Pipeline` лежит в `sklearn.pipeline`\n",
    "* `GridSearchCV`, `StratifiedKFold`, `cross_val_score` лежат в `sklearn.model_selection`\n",
    "\n",
    "Ты знаешь, что делать."
   ]
  },
  {
   "cell_type": "code",
   "execution_count": 27,
   "metadata": {
    "ExecuteTime": {
     "end_time": "2017-11-30T23:25:57.712468",
     "start_time": "2017-11-30T23:25:57.704659"
    },
    "collapsed": true
   },
   "outputs": [],
   "source": [
    "from sklearn.preprocessing import PolynomialFeatures\n",
    "from sklearn.pipeline import Pipeline\n",
    "from sklearn.model_selection import GridSearchCV, StratifiedKFold, cross_val_score"
   ]
  },
  {
   "cell_type": "code",
   "execution_count": 28,
   "metadata": {
    "ExecuteTime": {
     "end_time": "2017-11-30T23:25:59.656020",
     "start_time": "2017-11-30T23:25:59.651165"
    },
    "collapsed": true
   },
   "outputs": [],
   "source": [
    "clf = Pipeline([\n",
    "    ('poly', PolynomialFeatures(include_bias=False)),\n",
    "    ('clf', LinearRegression())\n",
    "])"
   ]
  },
  {
   "cell_type": "code",
   "execution_count": 29,
   "metadata": {
    "ExecuteTime": {
     "end_time": "2017-11-30T23:26:00.521666",
     "start_time": "2017-11-30T23:26:00.517188"
    },
    "collapsed": true
   },
   "outputs": [],
   "source": [
    "params = {\n",
    "    'poly__degree': [1,2,3,4],\n",
    "    'poly__interaction_only': [True, False],\n",
    "    'poly__include_bias': [True, False]\n",
    "}"
   ]
  },
  {
   "cell_type": "code",
   "execution_count": 30,
   "metadata": {
    "ExecuteTime": {
     "end_time": "2017-11-30T23:27:35.556090",
     "start_time": "2017-11-30T23:26:05.160021"
    },
    "collapsed": false
   },
   "outputs": [],
   "source": [
    "gs = GridSearchCV(clf, params, scoring='neg_mean_squared_error', \n",
    "                  cv=StratifiedKFold(n_splits=10, shuffle=True, random_state=69),\n",
    "                  return_train_score=False)\n",
    "gs.fit(X, y);"
   ]
  },
  {
   "cell_type": "code",
   "execution_count": 31,
   "metadata": {
    "ExecuteTime": {
     "end_time": "2017-11-30T23:27:35.581542",
     "start_time": "2017-11-30T23:27:35.558671"
    },
    "collapsed": false
   },
   "outputs": [
    {
     "data": {
      "text/plain": [
       "{'poly__degree': 2,\n",
       " 'poly__include_bias': True,\n",
       " 'poly__interaction_only': False}"
      ]
     },
     "execution_count": 31,
     "metadata": {},
     "output_type": "execute_result"
    }
   ],
   "source": [
    "gs.best_params_"
   ]
  },
  {
   "cell_type": "code",
   "execution_count": 32,
   "metadata": {
    "ExecuteTime": {
     "end_time": "2017-11-30T23:27:35.653409",
     "start_time": "2017-11-30T23:27:35.587250"
    },
    "collapsed": false
   },
   "outputs": [
    {
     "data": {
      "text/plain": [
       "2.1740948463262426"
      ]
     },
     "execution_count": 32,
     "metadata": {},
     "output_type": "execute_result"
    }
   ],
   "source": [
    "np.sqrt(-gs.best_score_)"
   ]
  },
  {
   "cell_type": "markdown",
   "metadata": {},
   "source": [
    "<div class=\"panel panel-info\" style=\"margin: 50px 0 0 0\">\n",
    "    <div class=\"panel-heading\">\n",
    "        <h1 class=\"panel-title\">Задание 3: Бостонская застройка</h1> \n",
    "    </div>\n",
    "</div>"
   ]
  },
  {
   "cell_type": "markdown",
   "metadata": {},
   "source": [
    "Давайте теперь взглянем с вами на классический датасет \"Boston house prices\":"
   ]
  },
  {
   "cell_type": "code",
   "execution_count": 65,
   "metadata": {
    "ExecuteTime": {
     "end_time": "2017-12-01T00:12:05.002310",
     "start_time": "2017-12-01T00:12:04.981485"
    },
    "collapsed": true
   },
   "outputs": [],
   "source": [
    "from sklearn.datasets import load_boston\n",
    "\n",
    "bunch = load_boston()\n",
    "\n",
    "target = 'MEDV'\n",
    "\n",
    "df = pd.DataFrame(data=bunch.data, columns=bunch.feature_names)\n",
    "df[target] = bunch.target"
   ]
  },
  {
   "cell_type": "code",
   "execution_count": 66,
   "metadata": {
    "ExecuteTime": {
     "end_time": "2017-12-01T00:12:05.387831",
     "start_time": "2017-12-01T00:12:05.373763"
    },
    "collapsed": false
   },
   "outputs": [
    {
     "name": "stdout",
     "output_type": "stream",
     "text": [
      "Boston House Prices dataset\n",
      "===========================\n",
      "\n",
      "Notes\n",
      "------\n",
      "Data Set Characteristics:  \n",
      "\n",
      "    :Number of Instances: 506 \n",
      "\n",
      "    :Number of Attributes: 13 numeric/categorical predictive\n",
      "    \n",
      "    :Median Value (attribute 14) is usually the target\n",
      "\n",
      "    :Attribute Information (in order):\n",
      "        - CRIM     per capita crime rate by town\n",
      "        - ZN       proportion of residential land zoned for lots over 25,000 sq.ft.\n",
      "        - INDUS    proportion of non-retail business acres per town\n",
      "        - CHAS     Charles River dummy variable (= 1 if tract bounds river; 0 otherwise)\n",
      "        - NOX      nitric oxides concentration (parts per 10 million)\n",
      "        - RM       average number of rooms per dwelling\n",
      "        - AGE      proportion of owner-occupied units built prior to 1940\n",
      "        - DIS      weighted distances to five Boston employment centres\n",
      "        - RAD      index of accessibility to radial highways\n",
      "        - TAX      full-value property-tax rate per $10,000\n",
      "        - PTRATIO  pupil-teacher ratio by town\n",
      "        - B        1000(Bk - 0.63)^2 where Bk is the proportion of blacks by town\n",
      "        - LSTAT    % lower status of the population\n",
      "        - MEDV     Median value of owner-occupied homes in $1000's\n",
      "\n",
      "    :Missing Attribute Values: None\n",
      "\n",
      "    :Creator: Harrison, D. and Rubinfeld, D.L.\n",
      "\n",
      "This is a copy of UCI ML housing dataset.\n",
      "http://archive.ics.uci.edu/ml/datasets/Housing\n",
      "\n",
      "\n",
      "This dataset was taken from the StatLib library which is maintained at Carnegie Mellon University.\n",
      "\n",
      "The Boston house-price data of Harrison, D. and Rubinfeld, D.L. 'Hedonic\n",
      "prices and the demand for clean air', J. Environ. Economics & Management,\n",
      "vol.5, 81-102, 1978.   Used in Belsley, Kuh & Welsch, 'Regression diagnostics\n",
      "...', Wiley, 1980.   N.B. Various transformations are used in the table on\n",
      "pages 244-261 of the latter.\n",
      "\n",
      "The Boston house-price data has been used in many machine learning papers that address regression\n",
      "problems.   \n",
      "     \n",
      "**References**\n",
      "\n",
      "   - Belsley, Kuh & Welsch, 'Regression diagnostics: Identifying Influential Data and Sources of Collinearity', Wiley, 1980. 244-261.\n",
      "   - Quinlan,R. (1993). Combining Instance-Based and Model-Based Learning. In Proceedings on the Tenth International Conference of Machine Learning, 236-243, University of Massachusetts, Amherst. Morgan Kaufmann.\n",
      "   - many more! (see http://archive.ics.uci.edu/ml/datasets/Housing)\n",
      "\n"
     ]
    }
   ],
   "source": [
    "print(bunch.DESCR)"
   ]
  },
  {
   "cell_type": "markdown",
   "metadata": {},
   "source": [
    "<div class=\"panel panel-info\">\n",
    "    <div class=\"panel-heading\">\n",
    "        <h3 class=\"panel-title\">Задание 3.1: Easy-breezy</h3> \n",
    "    </div>\n",
    "</div>"
   ]
  },
  {
   "cell_type": "markdown",
   "metadata": {},
   "source": [
    "Не забудь заскейлить исходные данные и зафить-ка теперь `SGDRegressor` на 1000 итерациях (параметр `n_iter`). Поэкспериментируй с `alpha`, то есть скоростью обучения.\n",
    "\n",
    "Че, вышло че? RMSE на кросс-валидации (давай на 10 фолдах) в студию!"
   ]
  },
  {
   "cell_type": "code",
   "execution_count": 67,
   "metadata": {
    "ExecuteTime": {
     "end_time": "2017-12-01T00:12:06.732509",
     "start_time": "2017-12-01T00:12:06.729232"
    },
    "collapsed": true
   },
   "outputs": [],
   "source": [
    "from sklearn.preprocessing import StandardScaler"
   ]
  },
  {
   "cell_type": "code",
   "execution_count": 68,
   "metadata": {
    "ExecuteTime": {
     "end_time": "2017-12-01T00:12:07.026674",
     "start_time": "2017-12-01T00:12:07.017046"
    },
    "collapsed": false
   },
   "outputs": [],
   "source": [
    "ss = StandardScaler()\n",
    "X = ss.fit_transform(df.drop('MEDV', axis=1).values)\n",
    "\n",
    "y = df['MEDV']"
   ]
  },
  {
   "cell_type": "code",
   "execution_count": 69,
   "metadata": {
    "ExecuteTime": {
     "end_time": "2017-12-01T00:12:07.499446",
     "start_time": "2017-12-01T00:12:07.496684"
    },
    "collapsed": true
   },
   "outputs": [],
   "source": [
    "from sklearn.linear_model import SGDRegressor"
   ]
  },
  {
   "cell_type": "code",
   "execution_count": 70,
   "metadata": {
    "ExecuteTime": {
     "end_time": "2017-12-01T00:12:08.007512",
     "start_time": "2017-12-01T00:12:08.003370"
    },
    "collapsed": true
   },
   "outputs": [],
   "source": [
    "skf = StratifiedKFold(n_splits=10, shuffle=True, random_state=0)\n",
    "NMSE = 'neg_mean_squared_error'"
   ]
  },
  {
   "cell_type": "code",
   "execution_count": 71,
   "metadata": {
    "ExecuteTime": {
     "end_time": "2017-12-01T00:12:08.881950",
     "start_time": "2017-12-01T00:12:08.790219"
    },
    "collapsed": false
   },
   "outputs": [
    {
     "data": {
      "text/plain": [
       "(24.578995875902535, 7.05133959180902)"
      ]
     },
     "execution_count": 71,
     "metadata": {},
     "output_type": "execute_result"
    }
   ],
   "source": [
    "ss = cross_val_score(LinearRegression(), X, y, scoring=NMSE, cv=skf)\n",
    "-np.mean(ss), np.std(ss)"
   ]
  },
  {
   "cell_type": "code",
   "execution_count": 72,
   "metadata": {
    "ExecuteTime": {
     "end_time": "2017-12-01T00:12:10.366355",
     "start_time": "2017-12-01T00:12:09.803177"
    },
    "collapsed": false
   },
   "outputs": [
    {
     "data": {
      "text/plain": [
       "(24.599945160496542, 7.0400511785907334)"
      ]
     },
     "execution_count": 72,
     "metadata": {},
     "output_type": "execute_result"
    }
   ],
   "source": [
    "ss = cross_val_score(SGDRegressor(n_iter=1000), X, y, scoring=NMSE, cv=skf)\n",
    "-np.mean(ss), np.std(ss)"
   ]
  },
  {
   "cell_type": "code",
   "execution_count": 73,
   "metadata": {
    "ExecuteTime": {
     "end_time": "2017-12-01T00:12:13.562119",
     "start_time": "2017-12-01T00:12:10.367853"
    },
    "collapsed": false
   },
   "outputs": [],
   "source": [
    "gs = GridSearchCV(SGDRegressor(n_iter=1000, random_state=0), { 'alpha': [10**(x-4) for x in range(6)] }, \n",
    "                  scoring=NMSE, cv=skf)\n",
    "gs.fit(X, y);"
   ]
  },
  {
   "cell_type": "code",
   "execution_count": 74,
   "metadata": {
    "ExecuteTime": {
     "end_time": "2017-12-01T00:12:13.576105",
     "start_time": "2017-12-01T00:12:13.564037"
    },
    "collapsed": false
   },
   "outputs": [
    {
     "data": {
      "text/plain": [
       "-24.124296436801565"
      ]
     },
     "execution_count": 74,
     "metadata": {},
     "output_type": "execute_result"
    }
   ],
   "source": [
    "gs.best_score_"
   ]
  },
  {
   "cell_type": "code",
   "execution_count": 75,
   "metadata": {
    "ExecuteTime": {
     "end_time": "2017-12-01T00:12:13.586409",
     "start_time": "2017-12-01T00:12:13.578769"
    },
    "collapsed": false
   },
   "outputs": [
    {
     "data": {
      "text/plain": [
       "{'alpha': 0.01}"
      ]
     },
     "execution_count": 75,
     "metadata": {},
     "output_type": "execute_result"
    }
   ],
   "source": [
    "gs.best_params_"
   ]
  },
  {
   "cell_type": "markdown",
   "metadata": {},
   "source": [
    "<div class=\"panel panel-info\">\n",
    "    <div class=\"panel-heading\">\n",
    "        <h3 class=\"panel-title\">Задание 3.2: Расследование</h3> \n",
    "    </div>\n",
    "</div>"
   ]
  },
  {
   "cell_type": "markdown",
   "metadata": {},
   "source": [
    "Давайте-ка построим очень важный тип графиков: график предсказанных остатков. \n",
    "\n",
    "1. Возьмите LinearReression, выучитесь на всех данных, и предскажите их.\n",
    "2. Постройте диаграмму рассеяния, где по оси `x` откладывайте __значения целевой переменной__, а по `y` - __разницу между оригинальными и предсказанными значениями целевой переменной__.\n",
    "\n",
    "Что вы видите? Вот вам различные случаи вида полученного графика:\n",
    "\n",
    "<img src=\"https://www.analyticsvidhya.com/wp-content/uploads/2016/07/residual.png\">\n",
    "\n",
    "<img src=\"https://www.analyticsvidhya.com/wp-content/uploads/2016/07/heterosk.png\">\n",
    "\n",
    "* Очевидно, если по `y` мы рисуем отклонение от верного значения, то если точки кучкуются около __`y=0`__, то все прям классно-классно!\n",
    "* Случай, когда ничего особенного не происходит, изображен на верхнем-левом графике. Это в целом та же ситуация, что и с точками около __`y=0`__, только мы ошибаемся чуть больше. Обратите внимание, что нет ни каких-то __особенных форм__ облака точек, просто облачко.\n",
    "* Если есть __паттерн__ (график справа вверху), как тут - парабола, то, значит, именно такая, квадратичная зависимость, не была захвачена моделью, и проявилась в остатках. Это - хороший знак того, что время добавлять признаки вроде __`log(X)`__,  __`√X`__ или __`X²`__. \n",
    "* Если проявляется __форма воронки__, как на третьем графике внизу, где масса точек становится толще с возрастанием значений оси `x`, то все не очень хорошо: диагностируется __гетероскедастичность__ остатков, то есть неравномерность отклонений (дисперсии)."
   ]
  },
  {
   "cell_type": "markdown",
   "metadata": {},
   "source": [
    "Не забывай, в конце-концов, можно обаращать просто свое внимание на странно расположенные точки. Построй такую диаграмму и посмотри. \n",
    "\n",
    "Нашелся ли кто странный? :)"
   ]
  },
  {
   "cell_type": "code",
   "execution_count": 76,
   "metadata": {
    "ExecuteTime": {
     "end_time": "2017-12-01T00:12:14.389373",
     "start_time": "2017-12-01T00:12:14.085775"
    },
    "collapsed": false
   },
   "outputs": [
    {
     "data": {
      "image/png": "[encoded data removed]",
      "text/plain": [
       "<matplotlib.figure.Figure at 0x1111baf60>"
      ]
     },
     "metadata": {},
     "output_type": "display_data"
    }
   ],
   "source": [
    "clf = LinearRegression()\n",
    "clf.fit(X, y)\n",
    "y_hat = clf.predict(X)\n",
    "\n",
    "plt.scatter(y, (y - y_hat));\n",
    "plt.axhline(y=0, c='k');"
   ]
  },
  {
   "cell_type": "markdown",
   "metadata": {},
   "source": [
    "<div class=\"panel panel-info\">\n",
    "    <div class=\"panel-heading\">\n",
    "        <h3 class=\"panel-title\">Задание 3.3: Stranger things</h3> \n",
    "    </div>\n",
    "</div>"
   ]
  },
  {
   "cell_type": "markdown",
   "metadata": {},
   "source": [
    "Если ты ничего не нашел любопытного на графике выше, то просто пропускай это задание: data science не для тебя.\n",
    "\n",
    "Если же ты все еще здесь...\n",
    "\n",
    "1. Построй гистограмму таргета. То же странное явление из 3.2 видно?\n",
    "2. Как думаешь, почему такое возникло? \n",
    "3. Что бы ты сделал для устранения такой аномалии? Для этого порассуждай, как такие вещи могли оказаться в данных."
   ]
  },
  {
   "cell_type": "code",
   "execution_count": 77,
   "metadata": {
    "ExecuteTime": {
     "end_time": "2017-12-01T00:12:25.482551",
     "start_time": "2017-12-01T00:12:25.076295"
    },
    "collapsed": false
   },
   "outputs": [
    {
     "data": {
      "image/png": "[encoded data removed]",
      "text/plain": [
       "<matplotlib.figure.Figure at 0x11090a198>"
      ]
     },
     "metadata": {},
     "output_type": "display_data"
    }
   ],
   "source": [
    "sns.distplot(df.MEDV);"
   ]
  },
  {
   "cell_type": "code",
   "execution_count": 78,
   "metadata": {
    "ExecuteTime": {
     "end_time": "2017-12-01T00:12:30.497277",
     "start_time": "2017-12-01T00:12:30.488942"
    },
    "collapsed": true
   },
   "outputs": [],
   "source": [
    "df.loc[df.MEDV == 50, 'MEDV'] = np.nan\n",
    "\n",
    "rnds = np.random.choice(df.MEDV[df.MEDV.notnull()], size=df.MEDV.isnull().sum(), replace=True)\n",
    "\n",
    "df.loc[df.MEDV.isnull(), 'MEDV'] = rnds"
   ]
  },
  {
   "cell_type": "code",
   "execution_count": 79,
   "metadata": {
    "ExecuteTime": {
     "end_time": "2017-12-01T00:12:31.119869",
     "start_time": "2017-12-01T00:12:30.659647"
    },
    "collapsed": false,
    "scrolled": false
   },
   "outputs": [
    {
     "data": {
      "image/png": "[encoded data removed]",
      "text/plain": [
       "<matplotlib.figure.Figure at 0x110e39160>"
      ]
     },
     "metadata": {},
     "output_type": "display_data"
    }
   ],
   "source": [
    "sns.distplot(np.log(df.MEDV));"
   ]
  },
  {
   "cell_type": "markdown",
   "metadata": {
    "ExecuteTime": {
     "end_time": "2017-11-27T01:06:03.887165",
     "start_time": "2017-11-27T01:06:03.882501"
    },
    "collapsed": true
   },
   "source": [
    "<div class=\"panel panel-success\" style=\"margin: 50px 0 0 0\">\n",
    "    <div class=\"panel-heading\">\n",
    "        <h3 class=\"panel-title\">Финиш!</h3> \n",
    "    </div>\n",
    "</div>\n",
    "\n",
    "Ееее! Ты умничка, если все сделал ^^"
   ]
  }
 ],
 "metadata": {
  "kernelspec": {
   "display_name": "Python 3",
   "language": "python",
   "name": "python3"
  },
  "language_info": {
   "codemirror_mode": {
    "name": "ipython",
    "version": 3
   },
   "file_extension": ".py",
   "mimetype": "text/x-python",
   "name": "python",
   "nbconvert_exporter": "python",
   "pygments_lexer": "ipython3",
   "version": "3.6.0"
  },
  "toc": {
   "colors": {
    "hover_highlight": "#DAA520",
    "running_highlight": "#FF0000",
    "selected_highlight": "#FFD700"
   },
   "moveMenuLeft": true,
   "nav_menu": {
    "height": "120px",
    "width": "252px"
   },
   "navigate_menu": true,
   "number_sections": true,
   "sideBar": true,
   "threshold": 4,
   "toc_cell": false,
   "toc_section_display": "block",
   "toc_window_display": false
  }
 },
 "nbformat": 4,
 "nbformat_minor": 2
}
