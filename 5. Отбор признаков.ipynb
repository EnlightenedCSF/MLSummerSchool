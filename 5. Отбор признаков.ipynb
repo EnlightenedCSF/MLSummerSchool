{
 "cells": [
  {
   "cell_type": "markdown",
   "metadata": {},
   "source": [
    "Зачем избавляться от лишних признаков?\n",
    "\n",
    "<ol>\n",
    "    <li> Чем больше данных, тем выше вычислительная сложность. Пока мы балуемся с игрушечными датасетами, размер данных – это не проблема, а для реального нагруженного продакшена лишние сотни признаков могут быть ощутимы. \n",
    "    <li> Некоторые алгоритмы принимают шум (неинформативные признаки) за сигнал, переобучаясь.\n",
    "</ol>"
   ]
  },
  {
   "cell_type": "markdown",
   "metadata": {},
   "source": [
    "# Статистические подходы"
   ]
  },
  {
   "cell_type": "markdown",
   "metadata": {},
   "source": [
    "## Удаление низковариативных признаков"
   ]
  },
  {
   "cell_type": "markdown",
   "metadata": {},
   "source": [
    "Очевидно, что признак, принимающий на всей выборке одно и то же значение, бесполезен: он не несет никакой информативности. "
   ]
  },
  {
   "cell_type": "code",
   "execution_count": 1,
   "metadata": {
    "ExecuteTime": {
     "end_time": "2017-07-21T10:19:33.976977",
     "start_time": "2017-07-21T10:19:33.839240"
    },
    "collapsed": true
   },
   "outputs": [],
   "source": [
    "from sklearn.feature_selection import VarianceThreshold"
   ]
  },
  {
   "cell_type": "code",
   "execution_count": 2,
   "metadata": {
    "ExecuteTime": {
     "end_time": "2017-07-21T10:19:34.045928",
     "start_time": "2017-07-21T10:19:33.979257"
    },
    "collapsed": true
   },
   "outputs": [],
   "source": [
    "from sklearn.datasets import make_classification\n",
    "\n",
    "x_data_generated, y_data_generated = make_classification()"
   ]
  },
  {
   "cell_type": "code",
   "execution_count": 3,
   "metadata": {
    "ExecuteTime": {
     "end_time": "2017-07-21T10:19:34.074264",
     "start_time": "2017-07-21T10:19:34.047949"
    },
    "collapsed": false
   },
   "outputs": [
    {
     "data": {
      "text/plain": [
       "(100, 20)"
      ]
     },
     "execution_count": 3,
     "metadata": {},
     "output_type": "execute_result"
    }
   ],
   "source": [
    "x_data_generated.shape"
   ]
  },
  {
   "cell_type": "code",
   "execution_count": 4,
   "metadata": {
    "ExecuteTime": {
     "end_time": "2017-07-21T10:19:34.098069",
     "start_time": "2017-07-21T10:19:34.083177"
    },
    "collapsed": false
   },
   "outputs": [
    {
     "data": {
      "text/plain": [
       "(100, 8)"
      ]
     },
     "execution_count": 4,
     "metadata": {},
     "output_type": "execute_result"
    }
   ],
   "source": [
    "VarianceThreshold(.94).fit_transform(x_data_generated).shape"
   ]
  },
  {
   "cell_type": "code",
   "execution_count": 5,
   "metadata": {
    "ExecuteTime": {
     "end_time": "2017-07-21T10:19:34.130850",
     "start_time": "2017-07-21T10:19:34.120846"
    },
    "collapsed": false
   },
   "outputs": [
    {
     "data": {
      "text/plain": [
       "(100, 17)"
      ]
     },
     "execution_count": 5,
     "metadata": {},
     "output_type": "execute_result"
    }
   ],
   "source": [
    "VarianceThreshold(.8).fit_transform(x_data_generated).shape"
   ]
  },
  {
   "cell_type": "code",
   "execution_count": 6,
   "metadata": {
    "ExecuteTime": {
     "end_time": "2017-07-21T10:19:34.142277",
     "start_time": "2017-07-21T10:19:34.133352"
    },
    "collapsed": false
   },
   "outputs": [
    {
     "data": {
      "text/plain": [
       "(100, 18)"
      ]
     },
     "execution_count": 6,
     "metadata": {},
     "output_type": "execute_result"
    }
   ],
   "source": [
    "VarianceThreshold(.7).fit_transform(x_data_generated).shape"
   ]
  },
  {
   "cell_type": "markdown",
   "metadata": {},
   "source": [
    "## Статистические тесты"
   ]
  },
  {
   "cell_type": "code",
   "execution_count": 7,
   "metadata": {
    "ExecuteTime": {
     "end_time": "2017-07-21T10:19:34.148794",
     "start_time": "2017-07-21T10:19:34.144884"
    },
    "collapsed": true
   },
   "outputs": [],
   "source": [
    "from sklearn.feature_selection import SelectKBest"
   ]
  },
  {
   "cell_type": "markdown",
   "metadata": {},
   "source": [
    "Для задач регрессии: \n",
    "* __f_regression__ \n",
    "* __mutual_info_regression__\n",
    "\n",
    "Для задач классификации: \n",
    "* __chi2__ \n",
    "* __f_classif__ \n",
    "* __mutual_info_classif__\n",
    "\n",
    "Все они могут быть импортированы из __`sklearn.feature_selection`__."
   ]
  },
  {
   "cell_type": "markdown",
   "metadata": {},
   "source": [
    "<img src=\"images/filter_tests.png\">"
   ]
  },
  {
   "cell_type": "markdown",
   "metadata": {},
   "source": [
    "Filter methods are generally used as a preprocessing step. The selection of features is independent of any machine learning algorithms. Instead, features are selected on the basis of their scores in various statistical tests for their correlation with the outcome variable. The correlation is a subjective term here. For basic guidance, you can refer to the following table for defining correlation co-efficients.\n",
    "\n",
    "* Pearson’s Correlation: It is used as a measure for quantifying linear dependence between two continuous variables X and Y. Its value varies from -1 to +1. Pearson’s correlation is given as:\n",
    "\n",
    "* LDA: Linear discriminant analysis is used to find a linear combination of features that characterizes or separates two or more classes (or levels) of a categorical variable.\n",
    "\n",
    "* ANOVA: ANOVA stands for Analysis of variance. It is similar to LDA except for the fact that it is operated using one or more categorical independent features and one continuous dependent feature. It provides a statistical test of whether the means of several groups are equal or not.\n",
    "\n",
    "* Chi-Square: It is a is a statistical test applied to the groups of categorical features to evaluate the likelihood of correlation or association between them using their frequency distribution.\n",
    "\n",
    "One thing that should be kept in mind is that filter methods do not remove multicollinearity. So, you must deal with multicollinearity of features as well before training models for your data."
   ]
  },
  {
   "cell_type": "markdown",
   "metadata": {},
   "source": [
    "Называются фильтрацией или фильтр-методами"
   ]
  },
  {
   "cell_type": "code",
   "execution_count": 8,
   "metadata": {
    "ExecuteTime": {
     "end_time": "2017-07-21T10:19:36.744920",
     "start_time": "2017-07-21T10:19:36.741973"
    },
    "collapsed": true
   },
   "outputs": [],
   "source": [
    "from sklearn.feature_selection import chi2, f_classif, mutual_info_classif"
   ]
  },
  {
   "cell_type": "code",
   "execution_count": 9,
   "metadata": {
    "ExecuteTime": {
     "end_time": "2017-07-21T10:19:37.063615",
     "start_time": "2017-07-21T10:19:37.060185"
    },
    "collapsed": true
   },
   "outputs": [],
   "source": [
    "skb = SelectKBest(mutual_info_classif, k=10)"
   ]
  },
  {
   "cell_type": "code",
   "execution_count": 10,
   "metadata": {
    "ExecuteTime": {
     "end_time": "2017-07-21T10:19:37.471026",
     "start_time": "2017-07-21T10:19:37.383399"
    },
    "collapsed": false
   },
   "outputs": [],
   "source": [
    "x_new = skb.fit_transform(x_data_generated, y_data_generated)"
   ]
  },
  {
   "cell_type": "markdown",
   "metadata": {},
   "source": [
    "__Домашка__: проверить, влияют ли `Scaler`'ы (`MinMaxScaler`, `StandardScaler`) на работу статистических тестов."
   ]
  },
  {
   "cell_type": "markdown",
   "metadata": {},
   "source": [
    "# Wrapper methods"
   ]
  },
  {
   "cell_type": "markdown",
   "metadata": {},
   "source": [
    "* Forward Selection: Forward selection is an iterative method in which we start with having no feature in the model. In each iteration, we keep adding the feature which best improves our model till an addition of a new variable does not improve the performance of the model.\n",
    "* Backward Elimination: In backward elimination, we start with all the features and removes the least significant feature at each iteration which improves the performance of the model. We repeat this until no improvement is observed on removal of features.\n",
    "* Recursive Feature elimination: It is a greedy optimization algorithm which aims to find the best performing feature subset. It repeatedly creates models and keeps aside the best or the worst performing feature at each iteration. It constructs the next model with the left features until all the features are exhausted. It then ranks the features based on the order of their elimination."
   ]
  },
  {
   "cell_type": "markdown",
   "metadata": {},
   "source": [
    "__RFE__ - Recursive Feature Elimination, или рекурсивное уничтожение признаков.\n",
    "\n",
    "Построено на идее постоянного построения некоторой модели и выбора наиболее значимого или бесполезного признака (например, по коэффициентам линейной регрессии), отбрасывании этого признака и повторении такого процесса с остальными признаками до тех пор, пока признаки не закончатся.\n",
    "\n",
    "После чего признаки ранжируются по количеству \"раундов\", которые они продержались, - считай, по полезности, информативности, важности."
   ]
  },
  {
   "cell_type": "code",
   "execution_count": 39,
   "metadata": {
    "ExecuteTime": {
     "end_time": "2017-07-21T10:26:24.311259",
     "start_time": "2017-07-21T10:26:24.307912"
    },
    "collapsed": true
   },
   "outputs": [],
   "source": [
    "from sklearn.feature_selection import RFE\n",
    "from sklearn.linear_model import LinearRegression"
   ]
  },
  {
   "cell_type": "code",
   "execution_count": 40,
   "metadata": {
    "ExecuteTime": {
     "end_time": "2017-07-21T10:26:24.694664",
     "start_time": "2017-07-21T10:26:24.676730"
    },
    "collapsed": true
   },
   "outputs": [],
   "source": [
    "boston = load_boston()\n",
    "X = boston[\"data\"]\n",
    "y = boston[\"target\"]\n",
    "names = boston[\"feature_names\"]"
   ]
  },
  {
   "cell_type": "code",
   "execution_count": 41,
   "metadata": {
    "ExecuteTime": {
     "end_time": "2017-07-21T10:26:25.089870",
     "start_time": "2017-07-21T10:26:25.086274"
    },
    "collapsed": true
   },
   "outputs": [],
   "source": [
    "lr = LinearRegression()"
   ]
  },
  {
   "cell_type": "code",
   "execution_count": 42,
   "metadata": {
    "ExecuteTime": {
     "end_time": "2017-07-21T10:26:25.519607",
     "start_time": "2017-07-21T10:26:25.495200"
    },
    "collapsed": true
   },
   "outputs": [],
   "source": [
    "rfe = RFE(lr, n_features_to_select=1)\n",
    "rfe.fit(X,y);"
   ]
  },
  {
   "cell_type": "code",
   "execution_count": 43,
   "metadata": {
    "ExecuteTime": {
     "end_time": "2017-07-21T10:26:25.930722",
     "start_time": "2017-07-21T10:26:25.921316"
    },
    "collapsed": false
   },
   "outputs": [
    {
     "name": "stdout",
     "output_type": "stream",
     "text": [
      "Features sorted by their rank:\n",
      "[(1, 'NOX'), (2, 'RM'), (3, 'CHAS'), (4, 'PTRATIO'), (5, 'DIS'), (6, 'LSTAT'), (7, 'RAD'), (8, 'CRIM'), (9, 'INDUS'), (10, 'ZN'), (11, 'TAX'), (12, 'B'), (13, 'AGE')]\n"
     ]
    }
   ],
   "source": [
    "print(\"Features sorted by their rank:\")\n",
    "print(sorted(zip(map(lambda x: round(x, 4), rfe.ranking_), names)))"
   ]
  },
  {
   "cell_type": "markdown",
   "metadata": {},
   "source": [
    "# Отбор при помощи моделей"
   ]
  },
  {
   "cell_type": "markdown",
   "metadata": {},
   "source": [
    "## Lasso"
   ]
  },
  {
   "cell_type": "code",
   "execution_count": 11,
   "metadata": {
    "ExecuteTime": {
     "end_time": "2017-07-21T10:19:38.604648",
     "start_time": "2017-07-21T10:19:38.566040"
    },
    "collapsed": true
   },
   "outputs": [],
   "source": [
    "from sklearn.linear_model import Lasso"
   ]
  },
  {
   "cell_type": "code",
   "execution_count": 12,
   "metadata": {
    "ExecuteTime": {
     "end_time": "2017-07-21T10:19:38.758150",
     "start_time": "2017-07-21T10:19:38.752973"
    },
    "collapsed": true
   },
   "outputs": [],
   "source": [
    "from sklearn.datasets import load_boston"
   ]
  },
  {
   "cell_type": "code",
   "execution_count": 13,
   "metadata": {
    "ExecuteTime": {
     "end_time": "2017-07-21T10:19:38.983797",
     "start_time": "2017-07-21T10:19:38.969158"
    },
    "collapsed": true
   },
   "outputs": [],
   "source": [
    "bunch = load_boston()"
   ]
  },
  {
   "cell_type": "code",
   "execution_count": 14,
   "metadata": {
    "ExecuteTime": {
     "end_time": "2017-07-21T10:19:39.196428",
     "start_time": "2017-07-21T10:19:39.190029"
    },
    "collapsed": true
   },
   "outputs": [],
   "source": [
    "features = bunch.feature_names"
   ]
  },
  {
   "cell_type": "code",
   "execution_count": 15,
   "metadata": {
    "ExecuteTime": {
     "end_time": "2017-07-21T10:19:39.421324",
     "start_time": "2017-07-21T10:19:39.417748"
    },
    "collapsed": false
   },
   "outputs": [],
   "source": [
    "X, y = bunch.data, bunch.target"
   ]
  },
  {
   "cell_type": "code",
   "execution_count": 16,
   "metadata": {
    "ExecuteTime": {
     "end_time": "2017-07-21T10:19:39.720369",
     "start_time": "2017-07-21T10:19:39.715835"
    },
    "collapsed": true
   },
   "outputs": [],
   "source": [
    "clf = Lasso()\n",
    "clf.fit(X, y);"
   ]
  },
  {
   "cell_type": "code",
   "execution_count": 17,
   "metadata": {
    "ExecuteTime": {
     "end_time": "2017-07-21T10:19:39.933582",
     "start_time": "2017-07-21T10:19:39.924585"
    },
    "collapsed": false
   },
   "outputs": [
    {
     "data": {
      "text/plain": [
       "array([-0.06342255,  0.04916867, -0.        ,  0.        , -0.        ,\n",
       "        0.94678567,  0.02092737, -0.66900864,  0.26417501, -0.01520915,\n",
       "       -0.72319901,  0.00829117, -0.76143296])"
      ]
     },
     "execution_count": 17,
     "metadata": {},
     "output_type": "execute_result"
    }
   ],
   "source": [
    "clf.coef_"
   ]
  },
  {
   "cell_type": "code",
   "execution_count": 18,
   "metadata": {
    "ExecuteTime": {
     "end_time": "2017-07-21T10:19:40.201751",
     "start_time": "2017-07-21T10:19:40.196625"
    },
    "collapsed": false
   },
   "outputs": [
    {
     "name": "stdout",
     "output_type": "stream",
     "text": [
      "Всего Lasso выкинуло 3 переменных\n"
     ]
    }
   ],
   "source": [
    "print('Всего Lasso выкинуло %s переменных' % (clf.coef_ == 0).sum())"
   ]
  },
  {
   "cell_type": "code",
   "execution_count": 19,
   "metadata": {
    "ExecuteTime": {
     "end_time": "2017-07-21T10:19:40.447667",
     "start_time": "2017-07-21T10:19:40.437731"
    },
    "collapsed": false
   },
   "outputs": [
    {
     "name": "stdout",
     "output_type": "stream",
     "text": [
      "Это признаки:\n",
      " *  INDUS\n",
      " *  CHAS\n",
      " *  NOX\n"
     ]
    }
   ],
   "source": [
    "print('Это признаки:')\n",
    "for s in features[np.where(clf.coef_ == 0)[0]]:\n",
    "    print(' * ', s)"
   ]
  },
  {
   "cell_type": "markdown",
   "metadata": {},
   "source": [
    "## RandomizedLasso"
   ]
  },
  {
   "cell_type": "markdown",
   "metadata": {},
   "source": [
    "Stability selection is a relatively novel method for feature selection, based on subsampling in combination with selection algorithms (which could be regression, SVMs or other similar method). The high level idea is to apply a feature selection algorithm on different subsets of data and with different subsets of features. After repeating the process a number of times, the selection results can be aggregated, for example by checking how many times a feature ended up being selected as important when it was in an inspected feature subset. We can expect strong features to have scores close to 100%, since they are always selected when possible. Weaker, but still relevant features will also have non-zero scores, since they would be selected when stronger features are not present in the currently selected subset, while irrelevant features would have scores (close to) zero, since they would never be among selected features."
   ]
  },
  {
   "cell_type": "code",
   "execution_count": 20,
   "metadata": {
    "ExecuteTime": {
     "end_time": "2017-07-21T10:19:41.780767",
     "start_time": "2017-07-21T10:19:41.777829"
    },
    "collapsed": true
   },
   "outputs": [],
   "source": [
    "from sklearn.linear_model import RandomizedLasso"
   ]
  },
  {
   "cell_type": "code",
   "execution_count": 21,
   "metadata": {
    "ExecuteTime": {
     "end_time": "2017-07-21T10:19:42.884245",
     "start_time": "2017-07-21T10:19:42.311788"
    },
    "collapsed": true
   },
   "outputs": [],
   "source": [
    "rlss = RandomizedLasso(selection_threshold=0.9, sample_fraction=0.5)\n",
    "rlss.fit(X,y);"
   ]
  },
  {
   "cell_type": "code",
   "execution_count": 22,
   "metadata": {
    "ExecuteTime": {
     "end_time": "2017-07-21T10:19:42.893005",
     "start_time": "2017-07-21T10:19:42.886973"
    },
    "collapsed": false
   },
   "outputs": [
    {
     "data": {
      "text/plain": [
       "(13, 13)"
      ]
     },
     "execution_count": 22,
     "metadata": {},
     "output_type": "execute_result"
    }
   ],
   "source": [
    "np.sum(rlss.scores_ > 0), X.shape[1]"
   ]
  },
  {
   "cell_type": "code",
   "execution_count": 23,
   "metadata": {
    "ExecuteTime": {
     "end_time": "2017-07-21T10:19:42.899339",
     "start_time": "2017-07-21T10:19:42.895508"
    },
    "collapsed": false
   },
   "outputs": [],
   "source": [
    "imp_feature_idx = rlss.scores_.argsort()"
   ]
  },
  {
   "cell_type": "code",
   "execution_count": 24,
   "metadata": {
    "ExecuteTime": {
     "end_time": "2017-07-21T10:19:42.988390",
     "start_time": "2017-07-21T10:19:42.982144"
    },
    "collapsed": false
   },
   "outputs": [
    {
     "data": {
      "text/plain": [
       "array([ 0.98 ,  1.   ,  0.775,  0.99 ,  1.   ,  1.   ,  0.875,  1.   ,\n",
       "        1.   ,  1.   ,  1.   ,  1.   ,  1.   ])"
      ]
     },
     "execution_count": 24,
     "metadata": {},
     "output_type": "execute_result"
    }
   ],
   "source": [
    "rlss.scores_"
   ]
  },
  {
   "cell_type": "code",
   "execution_count": 25,
   "metadata": {
    "ExecuteTime": {
     "end_time": "2017-07-21T10:19:43.330347",
     "start_time": "2017-07-21T10:19:43.321176"
    },
    "collapsed": false
   },
   "outputs": [
    {
     "data": {
      "text/plain": [
       "array([ 2,  6,  0,  3,  1,  4,  5,  7,  8,  9, 10, 11, 12])"
      ]
     },
     "execution_count": 25,
     "metadata": {},
     "output_type": "execute_result"
    }
   ],
   "source": [
    "imp_feature_idx"
   ]
  },
  {
   "cell_type": "code",
   "execution_count": 26,
   "metadata": {
    "ExecuteTime": {
     "end_time": "2017-07-21T10:19:43.781057",
     "start_time": "2017-07-21T10:19:43.774852"
    },
    "collapsed": true
   },
   "outputs": [],
   "source": [
    "from sklearn.linear_model import LassoCV\n",
    "from sklearn.metrics import r2_score"
   ]
  },
  {
   "cell_type": "code",
   "execution_count": 27,
   "metadata": {
    "ExecuteTime": {
     "end_time": "2017-07-21T10:19:44.905081",
     "start_time": "2017-07-21T10:19:44.337650"
    },
    "collapsed": false
   },
   "outputs": [
    {
     "data": {
      "image/png": "[encoded data removed]",
      "text/plain": [
       "<matplotlib.figure.Figure at 0x1165b8b00>"
      ]
     },
     "metadata": {},
     "output_type": "display_data"
    }
   ],
   "source": [
    "quals = []\n",
    "for i in range(X.shape[1]):\n",
    "    clf = LassoCV()\n",
    "    clf.fit(X[:, imp_feature_idx[i:]], y)\n",
    "    q = r2_score(y, clf.predict(X[:, imp_feature_idx[i:]]))\n",
    "    quals.append(q)\n",
    "plt.plot(quals);"
   ]
  },
  {
   "cell_type": "code",
   "execution_count": 28,
   "metadata": {
    "ExecuteTime": {
     "end_time": "2017-07-21T10:19:45.453807",
     "start_time": "2017-07-21T10:19:45.446039"
    },
    "collapsed": false
   },
   "outputs": [
    {
     "data": {
      "text/plain": [
       "0.70384777681793176"
      ]
     },
     "execution_count": 28,
     "metadata": {},
     "output_type": "execute_result"
    }
   ],
   "source": [
    "max(quals)"
   ]
  },
  {
   "cell_type": "markdown",
   "metadata": {
    "ExecuteTime": {
     "end_time": "2017-07-07T13:43:01.994115",
     "start_time": "2017-07-07T13:43:01.982864"
    }
   },
   "source": [
    "## RandomForest"
   ]
  },
  {
   "cell_type": "code",
   "execution_count": 29,
   "metadata": {
    "ExecuteTime": {
     "end_time": "2017-07-21T10:19:46.351518",
     "start_time": "2017-07-21T10:19:46.334169"
    },
    "collapsed": true
   },
   "outputs": [],
   "source": [
    "from sklearn.ensemble import RandomForestRegressor"
   ]
  },
  {
   "cell_type": "code",
   "execution_count": 30,
   "metadata": {
    "ExecuteTime": {
     "end_time": "2017-07-21T10:19:46.751091",
     "start_time": "2017-07-21T10:19:46.714007"
    },
    "collapsed": true
   },
   "outputs": [],
   "source": [
    "clf = RandomForestRegressor()\n",
    "clf.fit(X, y);"
   ]
  },
  {
   "cell_type": "code",
   "execution_count": 31,
   "metadata": {
    "ExecuteTime": {
     "end_time": "2017-07-21T10:19:46.958419",
     "start_time": "2017-07-21T10:19:46.953208"
    },
    "collapsed": true
   },
   "outputs": [],
   "source": [
    "imp_feature_idx = clf.feature_importances_.argsort()"
   ]
  },
  {
   "cell_type": "code",
   "execution_count": 32,
   "metadata": {
    "ExecuteTime": {
     "end_time": "2017-07-21T10:19:47.866220",
     "start_time": "2017-07-21T10:19:47.189089"
    },
    "collapsed": false
   },
   "outputs": [
    {
     "data": {
      "image/png": "[encoded data removed]",
      "text/plain": [
       "<matplotlib.figure.Figure at 0x11709f550>"
      ]
     },
     "metadata": {},
     "output_type": "display_data"
    }
   ],
   "source": [
    "quals = []\n",
    "for i in range(X.shape[1]):\n",
    "    clf = RandomForestRegressor()\n",
    "    clf.fit(X[:, imp_feature_idx[i:]], y)\n",
    "    q = r2_score(y, clf.predict(X[:, imp_feature_idx[i:]]))\n",
    "    quals.append(q)\n",
    "plt.plot(quals);"
   ]
  },
  {
   "cell_type": "code",
   "execution_count": 33,
   "metadata": {
    "ExecuteTime": {
     "end_time": "2017-07-21T10:19:48.562771",
     "start_time": "2017-07-21T10:19:48.557989"
    },
    "collapsed": false
   },
   "outputs": [
    {
     "data": {
      "text/plain": [
       "0.97871038695738033"
      ]
     },
     "execution_count": 33,
     "metadata": {},
     "output_type": "execute_result"
    }
   ],
   "source": [
    "max(quals)"
   ]
  },
  {
   "cell_type": "markdown",
   "metadata": {},
   "source": [
    "## SelectFromModel"
   ]
  },
  {
   "cell_type": "code",
   "execution_count": 34,
   "metadata": {
    "ExecuteTime": {
     "end_time": "2017-07-21T10:19:50.011858",
     "start_time": "2017-07-21T10:19:50.009083"
    },
    "collapsed": true
   },
   "outputs": [],
   "source": [
    "from sklearn.feature_selection import SelectFromModel"
   ]
  },
  {
   "cell_type": "code",
   "execution_count": 35,
   "metadata": {
    "ExecuteTime": {
     "end_time": "2017-07-21T10:19:50.657019",
     "start_time": "2017-07-21T10:19:50.644852"
    },
    "collapsed": true
   },
   "outputs": [],
   "source": [
    "# Load the boston dataset.\n",
    "boston = load_boston()\n",
    "X, y = boston['data'], boston['target']"
   ]
  },
  {
   "cell_type": "code",
   "execution_count": 36,
   "metadata": {
    "ExecuteTime": {
     "end_time": "2017-07-21T10:19:51.255631",
     "start_time": "2017-07-21T10:19:51.224655"
    },
    "collapsed": false
   },
   "outputs": [],
   "source": [
    "# We use the base estimator LassoCV since the L1 norm promotes sparsity of features.\n",
    "clf = LassoCV()\n",
    "\n",
    "# Set a minimum threshold of 0.25\n",
    "sfm = SelectFromModel(clf, threshold=0.25)\n",
    "sfm.fit(X, y)\n",
    "n_features = sfm.transform(X).shape[1]"
   ]
  },
  {
   "cell_type": "code",
   "execution_count": 37,
   "metadata": {
    "ExecuteTime": {
     "end_time": "2017-07-21T10:19:52.041118",
     "start_time": "2017-07-21T10:19:51.746343"
    },
    "collapsed": false
   },
   "outputs": [
    {
     "data": {
      "image/png": "[encoded data removed]",
      "text/plain": [
       "<matplotlib.figure.Figure at 0x1170e1fd0>"
      ]
     },
     "metadata": {},
     "output_type": "display_data"
    }
   ],
   "source": [
    "# Reset the threshold till the number of features equals two.\n",
    "# Note that the attribute can be set directly instead of repeatedly\n",
    "# fitting the metatransformer.\n",
    "while n_features > 2:\n",
    "    sfm.threshold += 0.1\n",
    "    X_transform = sfm.transform(X)\n",
    "    n_features = X_transform.shape[1]\n",
    "\n",
    "# Plot the selected two features from X.\n",
    "plt.title(\n",
    "    \"Features selected from Boston using SelectFromModel with \"\n",
    "    \"threshold %0.3f.\" % sfm.threshold)\n",
    "feature1 = X_transform[:, 0]\n",
    "feature2 = X_transform[:, 1]\n",
    "plt.plot(feature1, feature2, 'r.')\n",
    "plt.xlabel(\"Feature number 1\")\n",
    "plt.ylabel(\"Feature number 2\")\n",
    "plt.ylim([np.min(feature2), np.max(feature2)])\n",
    "plt.show()"
   ]
  },
  {
   "cell_type": "markdown",
   "metadata": {},
   "source": [
    "# Перебор"
   ]
  },
  {
   "cell_type": "markdown",
   "metadata": {},
   "source": [
    "## Exhaustive Feature Selector"
   ]
  },
  {
   "cell_type": "code",
   "execution_count": 383,
   "metadata": {
    "ExecuteTime": {
     "end_time": "2017-07-07T16:24:09.744065",
     "start_time": "2017-07-07T16:24:09.740929"
    },
    "collapsed": true
   },
   "outputs": [],
   "source": [
    "from mlxtend.feature_selection import ExhaustiveFeatureSelector"
   ]
  },
  {
   "cell_type": "code",
   "execution_count": 384,
   "metadata": {
    "ExecuteTime": {
     "end_time": "2017-07-07T16:24:16.300030",
     "start_time": "2017-07-07T16:24:16.296975"
    },
    "collapsed": true
   },
   "outputs": [],
   "source": [
    "import warnings"
   ]
  },
  {
   "cell_type": "code",
   "execution_count": 386,
   "metadata": {
    "ExecuteTime": {
     "end_time": "2017-07-07T16:25:24.894735",
     "start_time": "2017-07-07T16:25:24.890679"
    },
    "collapsed": true
   },
   "outputs": [],
   "source": [
    "efs = ExhaustiveFeatureSelector(Lasso(), \n",
    "           min_features=1,\n",
    "           max_features=10,\n",
    "           scoring='neg_mean_squared_error',\n",
    "           print_progress=True,\n",
    "           cv=5)"
   ]
  },
  {
   "cell_type": "code",
   "execution_count": 387,
   "metadata": {
    "ExecuteTime": {
     "end_time": "2017-07-07T16:26:49.693957",
     "start_time": "2017-07-07T16:25:25.569481"
    },
    "collapsed": false
   },
   "outputs": [
    {
     "name": "stderr",
     "output_type": "stream",
     "text": [
      "Features: 8099/8099"
     ]
    }
   ],
   "source": [
    "warnings.filterwarnings('ignore');\n",
    "efs.fit(X, y);"
   ]
  },
  {
   "cell_type": "code",
   "execution_count": 388,
   "metadata": {
    "ExecuteTime": {
     "end_time": "2017-07-07T16:27:10.455221",
     "start_time": "2017-07-07T16:27:10.449851"
    },
    "collapsed": false
   },
   "outputs": [
    {
     "name": "stdout",
     "output_type": "stream",
     "text": [
      "Best accuracy score: -33.13\n",
      "Best subset: (0, 1, 7, 8, 9, 10, 11, 12)\n"
     ]
    }
   ],
   "source": [
    "print('Best accuracy score: %.2f' % efs.best_score_)\n",
    "print('Best subset:', efs.best_idx_)"
   ]
  },
  {
   "cell_type": "markdown",
   "metadata": {},
   "source": [
    "## Sequential Feature Selector"
   ]
  },
  {
   "cell_type": "code",
   "execution_count": 292,
   "metadata": {
    "ExecuteTime": {
     "end_time": "2017-07-07T16:13:17.661674",
     "start_time": "2017-07-07T16:13:17.658655"
    },
    "collapsed": true
   },
   "outputs": [],
   "source": [
    "from mlxtend.feature_selection import SequentialFeatureSelector"
   ]
  },
  {
   "cell_type": "code",
   "execution_count": null,
   "metadata": {
    "collapsed": true
   },
   "outputs": [],
   "source": [
    "sfs = SequentialFeatureSelector(Lasso(), \n",
    "           min_features=1,\n",
    "           max_features=10,\n",
    "           scoring='neg_mean_squared_error',\n",
    "           print_progress=True,\n",
    "           cv=5)"
   ]
  },
  {
   "cell_type": "code",
   "execution_count": null,
   "metadata": {
    "collapsed": true
   },
   "outputs": [],
   "source": [
    "warnings.filterwarnings('ignore');\n",
    "sfs.fit(X, y);"
   ]
  },
  {
   "cell_type": "markdown",
   "metadata": {},
   "source": [
    "# Что использовать?"
   ]
  },
  {
   "cell_type": "markdown",
   "metadata": {},
   "source": [
    "* Методы фильтрации измеряют полезность признака, измеряя его корреляцию с целевой переменной, в то время как методы-обертки измеряют ценность определенного подмножества признаков, тренируя полноценную модель. В том числе это и значит, что будут учтены и взаимодействия признаков.\n",
    "* Методы фильтрации работают намного быстрее, и на больших датасетах могут оказаться полезнее.\n",
    "* Выводы в методах фильтрации делаются по статистическим тестам, в модельных методах - по результатам кросс-валидации.\n",
    "* Модельные методы намного надежнее.\n",
    "* Взятие меньшего подмножества признаков через модельный отбор защищает от переобучения. Подобного результата фильтрация не гарантирует."
   ]
  },
  {
   "cell_type": "markdown",
   "metadata": {},
   "source": [
    "# Ультра анализ"
   ]
  },
  {
   "cell_type": "markdown",
   "metadata": {},
   "source": [
    "$$ y = 10\\sin(\\pi x_1x_2) + 20(x_3 – 0.5)^2+10x_4 + 5x_5 + \\epsilon $$ "
   ]
  },
  {
   "cell_type": "code",
   "execution_count": 258,
   "metadata": {
    "ExecuteTime": {
     "end_time": "2017-07-07T14:12:05.894853",
     "start_time": "2017-07-07T14:12:05.889229"
    },
    "collapsed": true
   },
   "outputs": [],
   "source": [
    "from sklearn.linear_model import LinearRegression, Ridge, Lasso, RandomizedLasso\n",
    "from sklearn.feature_selection import RFE, f_regression\n",
    "from sklearn.preprocessing import MinMaxScaler\n",
    "from sklearn.ensemble import RandomForestRegressor\n",
    "\n",
    "from minepy import MINE"
   ]
  },
  {
   "cell_type": "code",
   "execution_count": null,
   "metadata": {
    "collapsed": true
   },
   "outputs": [],
   "source": [
    "size = 750\n",
    "X = np.random.uniform(0, 1, (size, 14))\n",
    " \n",
    "#\"Friedamn #1” regression problem\n",
    "Y = (10 * np.sin(np.pi*X[:,0]*X[:,1]) + 20*(X[:,2] - .5)**2 +\n",
    "     10*X[:,3] + 5*X[:,4] + np.random.normal(0,1))\n",
    "\n",
    "#Add 3 additional correlated variables (correlated with X1-X3)\n",
    "X[:,10:] = X[:,:4] + np.random.normal(0, .025, (size,4))\n",
    "names = [\"x%s\" % i for i in range(1,15)]"
   ]
  },
  {
   "cell_type": "code",
   "execution_count": 272,
   "metadata": {
    "ExecuteTime": {
     "end_time": "2017-07-07T14:12:21.488242",
     "start_time": "2017-07-07T14:12:21.474416"
    },
    "collapsed": true
   },
   "outputs": [],
   "source": [
    "ranks = {}\n",
    "\n",
    "def rank_to_dict(ranks, names, order=1):\n",
    "    minmax = MinMaxScaler()\n",
    "    ranks = minmax.fit_transform(order*np.array([ranks]).T).T[0]\n",
    "    ranks = map(lambda x: round(x, 2), ranks)\n",
    "    return dict(zip(names, ranks ))"
   ]
  },
  {
   "cell_type": "code",
   "execution_count": 274,
   "metadata": {
    "ExecuteTime": {
     "end_time": "2017-07-07T14:12:21.804682",
     "start_time": "2017-07-07T14:12:21.797751"
    },
    "collapsed": true
   },
   "outputs": [],
   "source": [
    "lr = LinearRegression(normalize=True)\n",
    "lr.fit(X, Y)\n",
    "ranks[\"LinReg\"] = rank_to_dict(np.abs(lr.coef_), names)"
   ]
  },
  {
   "cell_type": "code",
   "execution_count": 275,
   "metadata": {
    "ExecuteTime": {
     "end_time": "2017-07-07T14:12:21.963995",
     "start_time": "2017-07-07T14:12:21.955657"
    },
    "collapsed": true
   },
   "outputs": [],
   "source": [
    "ridge = Ridge(alpha=7)\n",
    "ridge.fit(X, Y)\n",
    "ranks[\"Ridge\"] = rank_to_dict(np.abs(ridge.coef_), names)"
   ]
  },
  {
   "cell_type": "code",
   "execution_count": 276,
   "metadata": {
    "ExecuteTime": {
     "end_time": "2017-07-07T14:12:22.128711",
     "start_time": "2017-07-07T14:12:22.116211"
    },
    "collapsed": true
   },
   "outputs": [],
   "source": [
    "lasso = Lasso(alpha=.05)\n",
    "lasso.fit(X, Y)\n",
    "ranks[\"Lasso\"] = rank_to_dict(np.abs(lasso.coef_), names)"
   ]
  },
  {
   "cell_type": "code",
   "execution_count": 277,
   "metadata": {
    "ExecuteTime": {
     "end_time": "2017-07-07T14:12:22.597360",
     "start_time": "2017-07-07T14:12:22.317908"
    },
    "collapsed": true
   },
   "outputs": [],
   "source": [
    "rlasso = RandomizedLasso(alpha=0.04)\n",
    "rlasso.fit(X, Y)\n",
    "ranks[\"Stab\"] = rank_to_dict(np.abs(rlasso.scores_), names)"
   ]
  },
  {
   "cell_type": "code",
   "execution_count": 278,
   "metadata": {
    "ExecuteTime": {
     "end_time": "2017-07-07T14:12:22.637734",
     "start_time": "2017-07-07T14:12:22.622322"
    },
    "collapsed": false
   },
   "outputs": [],
   "source": [
    "#stop the search when 5 features are left (they will get equal scores)\n",
    "rfe = RFE(lr, n_features_to_select=5)\n",
    "rfe.fit(X,Y)\n",
    "ranks[\"RFE\"] = rank_to_dict(np.array(list(map(float, rfe.ranking_))), names, order=-1)"
   ]
  },
  {
   "cell_type": "code",
   "execution_count": 279,
   "metadata": {
    "ExecuteTime": {
     "end_time": "2017-07-07T14:12:23.053746",
     "start_time": "2017-07-07T14:12:22.989175"
    },
    "collapsed": true
   },
   "outputs": [],
   "source": [
    "rf = RandomForestRegressor()\n",
    "rf.fit(X,Y)\n",
    "ranks[\"RF\"] = rank_to_dict(rf.feature_importances_, names)"
   ]
  },
  {
   "cell_type": "code",
   "execution_count": 280,
   "metadata": {
    "ExecuteTime": {
     "end_time": "2017-07-07T14:12:23.368246",
     "start_time": "2017-07-07T14:12:23.359746"
    },
    "collapsed": true
   },
   "outputs": [],
   "source": [
    "f, pval  = f_regression(X, Y, center=True)\n",
    "ranks[\"Corr.\"] = rank_to_dict(f, names)"
   ]
  },
  {
   "cell_type": "code",
   "execution_count": 281,
   "metadata": {
    "ExecuteTime": {
     "end_time": "2017-07-07T14:12:24.936016",
     "start_time": "2017-07-07T14:12:23.680261"
    },
    "collapsed": true
   },
   "outputs": [],
   "source": [
    "mine = MINE()\n",
    "mic_scores = []\n",
    "for i in range(X.shape[1]):\n",
    "    mine.compute_score(X[:,i], Y)\n",
    "    m = mine.mic()\n",
    "    mic_scores.append(m)\n",
    "\n",
    "ranks[\"MIC\"] = rank_to_dict(mic_scores, names) "
   ]
  },
  {
   "cell_type": "code",
   "execution_count": 282,
   "metadata": {
    "ExecuteTime": {
     "end_time": "2017-07-07T14:12:24.942138",
     "start_time": "2017-07-07T14:12:24.937317"
    },
    "collapsed": true
   },
   "outputs": [],
   "source": [
    "r = {}\n",
    "for name in names:\n",
    "    r[name] = round(np.mean([ranks[method][name] for method in ranks.keys()]), 2)"
   ]
  },
  {
   "cell_type": "code",
   "execution_count": 283,
   "metadata": {
    "ExecuteTime": {
     "end_time": "2017-07-07T14:12:24.958776",
     "start_time": "2017-07-07T14:12:24.951192"
    },
    "collapsed": true
   },
   "outputs": [],
   "source": [
    "methods = sorted(ranks.keys())\n",
    "ranks[\"Mean\"] = r\n",
    "methods.append(\"Mean\")"
   ]
  },
  {
   "cell_type": "code",
   "execution_count": 284,
   "metadata": {
    "ExecuteTime": {
     "end_time": "2017-07-07T14:12:24.967836",
     "start_time": "2017-07-07T14:12:24.960997"
    },
    "collapsed": false
   },
   "outputs": [
    {
     "name": "stdout",
     "output_type": "stream",
     "text": [
      "\tCorr.\tLasso\tLinReg\tMIC\tRF\tRFE\tRidge\tStab\tMean\n",
      "x1\t0.52\t0.03\t0.08\t0.75\t0.56\t0.67\t0.66\t0.46\t0.47\n",
      "x2\t0.35\t0.61\t1.0\t0.56\t0.42\t1.0\t0.66\t0.68\t0.66\n",
      "x3\t0.0\t0.0\t0.05\t0.32\t0.08\t0.78\t0.0\t0.0\t0.15\n",
      "x4\t1.0\t1.0\t0.78\t0.93\t1.0\t1.0\t1.0\t1.0\t0.96\n",
      "x5\t0.17\t0.48\t0.37\t0.18\t0.27\t1.0\t0.93\t0.68\t0.51\n",
      "x6\t0.0\t0.0\t0.01\t0.0\t0.0\t0.11\t0.0\t0.0\t0.02\n",
      "x7\t0.0\t0.0\t0.04\t0.01\t0.02\t0.44\t0.09\t0.0\t0.08\n",
      "x8\t0.0\t0.0\t0.0\t0.05\t0.01\t0.0\t0.0\t0.0\t0.01\n",
      "x9\t0.0\t0.0\t0.02\t0.0\t0.01\t0.22\t0.04\t0.0\t0.04\n",
      "x10\t0.0\t0.0\t0.03\t0.01\t0.01\t0.33\t0.05\t0.0\t0.05\n",
      "x11\t0.53\t0.66\t0.43\t0.69\t0.33\t1.0\t0.7\t0.73\t0.63\n",
      "x12\t0.35\t0.0\t0.54\t0.58\t0.3\t1.0\t0.53\t0.26\t0.44\n",
      "x13\t0.0\t0.0\t0.07\t0.28\t0.04\t0.89\t0.01\t0.0\t0.16\n",
      "x14\t0.98\t0.0\t0.05\t1.0\t0.3\t0.56\t0.92\t0.3\t0.51\n"
     ]
    }
   ],
   "source": [
    "print(\"\\t%s\" % \"\\t\".join(methods))\n",
    "for name in names:\n",
    "    print(\"%s\\t%s\" % (name, \"\\t\".join(map(str, [ranks[method][name] for method in methods]))))"
   ]
  },
  {
   "cell_type": "markdown",
   "metadata": {},
   "source": [
    "With linear correlation (Lin. corr.), each feature is evaluated independently, so the scores for features x1…x4 are very similar to x11…x14, while the noise features x5…x10 are correctly identified to have almost no relation with the response variable. It’s not able to identify any relationship between x3 and the response variable, since the relationship is quadratic (in fact, this applies almost all other methods except for MIC). It’s also clear that while the method is able to measure the linear relationship between each feature and the response variable, it is not optimal for selecting the top performing features for improving the generalization of a model, since all top performing features would essentially be picked twice.\n",
    "\n",
    "Lasso picks out the top performing features, while forcing other features to be close to zero. It is clearly useful when reducing the number of features is required, but not necessarily for data interpretation (since it might lead one to believe that features x11…x13 do not have a strong relationship with the output variable).\n",
    "\n",
    "MIC is similar to correlation coefficient in treating all features “equally”, additionally it is able to find the non-linear a relationship between x3 and the response.\n",
    "\n",
    "Random forest’s impurity based ranking is typically aggressive in the sense that there is a sharp drop-off of scores after the first few top ones. This can be seen from the example where the third ranked feature has already 4x smaller score than the top feature (whereas for the other ranking methods, the drop-off is clearly not that aggressive).\n",
    "\n",
    "Ridge regression forces regressions coefficients to spread out similarly between correlated variables. This is clearly visible in the example where x11…x14 are close to x1…x4 in terms of scores.\n",
    "\n",
    "Stability selection is often able to make a useful compromise between data interpretation and top feature selection for model improvement. This is illustrated well in the example. Just like Lasso it is able to identify the top features (x1, x2, x4, x5). At the same time their correlated shadow variables also get a high score, illustrating their relation with the response."
   ]
  },
  {
   "cell_type": "code",
   "execution_count": null,
   "metadata": {
    "collapsed": true
   },
   "outputs": [],
   "source": []
  }
 ],
 "metadata": {
  "kernelspec": {
   "display_name": "Python 3",
   "language": "python",
   "name": "python3"
  },
  "language_info": {
   "codemirror_mode": {
    "name": "ipython",
    "version": 3
   },
   "file_extension": ".py",
   "mimetype": "text/x-python",
   "name": "python",
   "nbconvert_exporter": "python",
   "pygments_lexer": "ipython3",
   "version": "3.6.0"
  },
  "toc": {
   "colors": {
    "hover_highlight": "#DAA520",
    "running_highlight": "#FF0000",
    "selected_highlight": "#FFD700"
   },
   "moveMenuLeft": true,
   "nav_menu": {
    "height": "246px",
    "width": "252px"
   },
   "navigate_menu": true,
   "number_sections": false,
   "sideBar": true,
   "threshold": 4,
   "toc_cell": false,
   "toc_section_display": "block",
   "toc_window_display": true
  }
 },
 "nbformat": 4,
 "nbformat_minor": 2
}
