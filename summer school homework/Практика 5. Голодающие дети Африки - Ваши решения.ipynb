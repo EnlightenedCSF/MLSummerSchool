{
 "cells": [
  {
   "cell_type": "markdown",
   "metadata": {},
   "source": [
    "![](images/393.gif)"
   ]
  },
  {
   "cell_type": "markdown",
   "metadata": {},
   "source": [
    "# Итоги\n",
    "\n",
    "1. $\\space$ __0.8194__ $\\space$ Оганесян Андрей $\\space$ _(LightGBM)_ $\\quad$ - лучше, чем __73.5%__ участников\n",
    "2. $\\space$ __0.8186__ $\\space$ Жихарева Мария $\\space$ _(XGBoost)_ $\\quad$ - лучше, чем __72.9%__ участников\n",
    "3. $\\space$ __0.8157__ $\\space$ Крупенько Влад $\\space$ _(LightGBM)_ $\\quad$ - лучше, чем __63.3%__ участников\n",
    "4. $\\space$ __0.8154__ $\\space$ Прохоров Максим $\\space$ _(LightGBM)_ $\\quad$ - лучше, чем __62.1%__ участников\n",
    "5. $\\space$ __0.8153__ $\\space$ Лукин Марк $\\space$ _(LightGBM)_ $\\quad$ - лучше, чем __61.7%__ участников\n",
    "6. $\\space$ __0.8129__ $\\space$ Суходолов Денис $\\space$ _(LightGBM)_ $\\quad$ - лучше, чем __56%__ участников"
   ]
  },
  {
   "cell_type": "markdown",
   "metadata": {},
   "source": [
    "## Комментарии"
   ]
  },
  {
   "cell_type": "markdown",
   "metadata": {},
   "source": [
    "* Стекинг/блэндинг не взлетел. Возможно, было мало данных. Или вы просто не умеете его готовить :3\n",
    "* Можно было бы попробовать выпуклые суммы предсказаний классификаторов:\n",
    "    $$ \\alpha P_1 + (1-\\alpha) P_2 $$\n",
    "    , параметр $\\alpha$ подбирается по кросс-валидации.\n",
    "* Всенародную любовь забрал себе LightGBM, который показал себя самым быстрым фреймворком."
   ]
  }
 ],
 "metadata": {
  "kernelspec": {
   "display_name": "Python 3",
   "language": "python",
   "name": "python3"
  },
  "language_info": {
   "codemirror_mode": {
    "name": "ipython",
    "version": 3
   },
   "file_extension": ".py",
   "mimetype": "text/x-python",
   "name": "python",
   "nbconvert_exporter": "python",
   "pygments_lexer": "ipython3",
   "version": "3.6.0"
  },
  "toc": {
   "colors": {
    "hover_highlight": "#DAA520",
    "running_highlight": "#FF0000",
    "selected_highlight": "#FFD700"
   },
   "moveMenuLeft": true,
   "nav_menu": {
    "height": "48px",
    "width": "252px"
   },
   "navigate_menu": true,
   "number_sections": true,
   "sideBar": true,
   "threshold": 4,
   "toc_cell": false,
   "toc_section_display": "block",
   "toc_window_display": false
  }
 },
 "nbformat": 4,
 "nbformat_minor": 2
}
