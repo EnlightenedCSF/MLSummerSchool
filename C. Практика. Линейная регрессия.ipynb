{
 "cells": [
  {
   "cell_type": "code",
   "execution_count": null,
   "metadata": {
    "ExecuteTime": {
     "end_time": "2017-12-01T00:15:40.981376",
     "start_time": "2017-12-01T00:15:40.977896"
    },
    "collapsed": true
   },
   "outputs": [],
   "source": [
    "import pandas as pd\n",
    "import numpy as np"
   ]
  },
  {
   "cell_type": "code",
   "execution_count": null,
   "metadata": {
    "ExecuteTime": {
     "end_time": "2017-12-01T00:15:41.829069",
     "start_time": "2017-12-01T00:15:41.821517"
    },
    "collapsed": false
   },
   "outputs": [],
   "source": [
    "from matplotlib import rcParams\n",
    "rcParams['figure.figsize'] = 10, 8\n",
    "rcParams['font.size'] = 16\n",
    "rcParams['axes.labelsize'] = 16\n",
    "rcParams['axes.titlesize'] = 20\n",
    "rcParams['xtick.labelsize'] = 13\n",
    "rcParams['ytick.labelsize'] = 13\n",
    "rcParams['legend.fontsize'] = 15"
   ]
  },
  {
   "cell_type": "code",
   "execution_count": null,
   "metadata": {
    "ExecuteTime": {
     "end_time": "2017-12-01T00:15:42.081506",
     "start_time": "2017-12-01T00:15:42.078010"
    },
    "collapsed": true
   },
   "outputs": [],
   "source": [
    "import seaborn as sns\n",
    "sns.set_style(\"whitegrid\")"
   ]
  },
  {
   "cell_type": "markdown",
   "metadata": {},
   "source": [
    "<div class=\"panel panel-info\" style=\"margin: 50px 0 0 0\">\n",
    "    <div class=\"panel-heading\">\n",
    "        <h1 class=\"panel-title\">Задание 1: Разминка</h1> \n",
    "    </div>\n",
    "</div>"
   ]
  },
  {
   "cell_type": "markdown",
   "metadata": {},
   "source": [
    "Нельзя приступать к сложным упражнениям, не размявшись. Поэтому сначала все будет очень просто.\n",
    "\n",
    "1. __Прочитай данные.__ В этой задаче предлагается находить общую сумму платежа страховой компании (`TotalPayment`) по количеству поданых исков (`NumberOfClaims`).\n",
    "\n",
    "2. __Построй диаграмму рассеяния__ (scatter plot) и убедись по графику, что со стоящей перед тобой задачей справится даже хорошо выдрессированный пёс.\n",
    "\n",
    "3. __Расчехляй `LinearRegression`__ и нарусуй на той же диаграмме рассеяния ее предсказания в виде красной линии.\n",
    "\n",
    "4. __Измерь ошибку__ предсказаний с помощью метрики __RMSE__ - _\"корень из среднеквадратической ошибки\"_. Все метрики лежат в `sklearn.metrics`. Если ты все сделал правильно, она будет равна примерно 35. "
   ]
  },
  {
   "cell_type": "code",
   "execution_count": null,
   "metadata": {
    "ExecuteTime": {
     "end_time": "2017-11-30T23:24:38.222740",
     "start_time": "2017-11-30T23:24:38.211552"
    },
    "collapsed": true
   },
   "outputs": [],
   "source": [
    "df = pd.read_csv(\n",
    "    # путь к Auto issurance-чё-то-там файлу\n",
    ")\n",
    "df.sort_values(by=['NumberOfClaims'], inplace=True)\n",
    "\n",
    "df.head()"
   ]
  },
  {
   "cell_type": "code",
   "execution_count": null,
   "metadata": {
    "ExecuteTime": {
     "end_time": "2017-11-30T23:24:40.410510",
     "start_time": "2017-11-30T23:24:39.676474"
    },
    "collapsed": false
   },
   "outputs": [],
   "source": [
    "# Ваш код здесь"
   ]
  },
  {
   "cell_type": "markdown",
   "metadata": {},
   "source": [
    "<div class=\"panel panel-info\" style=\"margin: 50px 0 0 0\">\n",
    "    <div class=\"panel-heading\">\n",
    "        <h1 class=\"panel-title\">Задание 2: Странная китайская еда</h1> \n",
    "    </div>\n",
    "</div>"
   ]
  },
  {
   "cell_type": "markdown",
   "metadata": {},
   "source": [
    "Добро пожаловать на кухню! И сегодня в шоу Джейми Оливера мы будем готовить морские ушки! \n",
    "\n",
    "...в смысле вы не знаете, что это? А ну бегом читать [википедию](https://ru.wikipedia.org/wiki/%D0%9C%D0%BE%D1%80%D1%81%D0%BA%D0%B8%D0%B5_%D1%83%D1%88%D0%BA%D0%B8)!"
   ]
  },
  {
   "cell_type": "markdown",
   "metadata": {},
   "source": [
    "<table>\n",
    "    <tr>\n",
    "        <td width=\"53%\"><img src=\"https://upload.wikimedia.org/wikipedia/commons/c/c1/Pinkabalone_300.jpg\"></td>\n",
    "        <td width=\"47%\"><img src=\"https://upload.wikimedia.org/wikipedia/commons/thumb/3/33/LivingAbalone.JPG/1920px-LivingAbalone.JPG\"></td>\n",
    "    </tr>\n",
    "</table>"
   ]
  },
  {
   "cell_type": "markdown",
   "metadata": {},
   "source": [
    "Так вот.\n",
    "\n",
    "Конечно, для того, чтобы приготовить лучший в мире [чонбукчук](https://ru.wikipedia.org/wiki/%D0%A7%D0%BE%D0%BD%D0%B1%D0%BE%D0%BA%D1%87%D1%83%D0%BA), нужны только самые молодые ушки, у которых самое нежное мясо. Вообще, как я понял, возраст определяется по кольцам на раковине, но для нормального подсчета ее надо вскрыть, а не хотелось бы.\n",
    "\n",
    "Нужно пользоваться косвенными признаками и угадать возраст с помощью машинного обучения!"
   ]
  },
  {
   "cell_type": "code",
   "execution_count": null,
   "metadata": {
    "ExecuteTime": {
     "end_time": "2017-11-30T23:24:58.299985",
     "start_time": "2017-11-30T23:24:58.281220"
    },
    "collapsed": true
   },
   "outputs": [],
   "source": [
    "df = pd.read_csv(\n",
    "    # путь к AbaloneAge.csv\n",
    ")"
   ]
  },
  {
   "cell_type": "code",
   "execution_count": null,
   "metadata": {
    "ExecuteTime": {
     "end_time": "2017-11-30T23:24:58.833302",
     "start_time": "2017-11-30T23:24:58.827434"
    },
    "collapsed": false
   },
   "outputs": [],
   "source": [
    "df.shape"
   ]
  },
  {
   "cell_type": "code",
   "execution_count": null,
   "metadata": {
    "ExecuteTime": {
     "end_time": "2017-11-30T23:24:59.425763",
     "start_time": "2017-11-30T23:24:59.402088"
    },
    "collapsed": false
   },
   "outputs": [],
   "source": [
    "df.head()"
   ]
  },
  {
   "cell_type": "markdown",
   "metadata": {},
   "source": [
    "Итак.\n",
    "\n",
    "* `Sex` - пол. Их три! Есть мужские особи (`M`), женские (`F`) и ..остальные (`I`);\n",
    "* `Length` - длина раковины;\n",
    "* `Diameter` - диаметр раковины;\n",
    "* `Height` - толщина раковины;\n",
    "* `WholeWeight` - весь вес;\n",
    "* `ShuckedWeight` - вес без раковины;\n",
    "* `VisceraWeight` - вес внутренностей;\n",
    "* `ShellWeight` - вес только раковины;\n",
    "* `Rings` - наша __целевая переменная__.\n",
    "\n",
    "Ага. И теперь разумный вопрос: как мы измерили вес частей моллюска, не вскрывая его?... Ой, все!"
   ]
  },
  {
   "cell_type": "markdown",
   "metadata": {},
   "source": [
    "<div class=\"panel panel-info\">\n",
    "    <div class=\"panel-heading\">\n",
    "        <h3 class=\"panel-title\">Задание 2.1: Визуализация</h3> \n",
    "    </div>\n",
    "</div>"
   ]
  },
  {
   "cell_type": "markdown",
   "metadata": {},
   "source": [
    "Это опциональный блок, в котором ты можешь построить те графики, которые сам посчитаешь нужным построить. Исследуй данные, найди, может, что-то интересное в них, что поможет в дальнейшем сформировать новые признаки."
   ]
  },
  {
   "cell_type": "code",
   "execution_count": null,
   "metadata": {
    "ExecuteTime": {
     "end_time": "2017-11-30T23:24:40.410510",
     "start_time": "2017-11-30T23:24:39.676474"
    },
    "collapsed": false
   },
   "outputs": [],
   "source": [
    "# Ваш код здесь"
   ]
  },
  {
   "cell_type": "markdown",
   "metadata": {},
   "source": [
    "<div class=\"panel panel-info\">\n",
    "    <div class=\"panel-heading\">\n",
    "        <h3 class=\"panel-title\">Задание 2.2: Новые признаки</h3> \n",
    "    </div>\n",
    "</div>"
   ]
  },
  {
   "cell_type": "markdown",
   "metadata": {},
   "source": [
    "1. Для начала импортируй __`train_test_split`__ из пакета `sklearn.model_selection`.\n",
    "2. С помощью него разбей выборку, и измерь качество твоего алгоритма той же метрикой __RMSE__.\n",
    "3. Добавь в данные новый признак: __объем моллюска__, равный произведению признаков `Length`, `Diameter` и `Height`.\n",
    "4. Повтори пункт 2, сравни результат. Стало ли лучше? \n",
    "\n",
    "Не забудь, кстати, во второй раз (п.4) разбить выборку абсолютно точно так же, как и в первый (п.2). Для этого зафиксируй параметр `random_state`."
   ]
  },
  {
   "cell_type": "code",
   "execution_count": null,
   "metadata": {
    "ExecuteTime": {
     "end_time": "2017-11-30T23:24:40.410510",
     "start_time": "2017-11-30T23:24:39.676474"
    },
    "collapsed": false
   },
   "outputs": [],
   "source": [
    "# Ваш код здесь"
   ]
  },
  {
   "cell_type": "markdown",
   "metadata": {},
   "source": [
    "<div class=\"panel panel-info\">\n",
    "    <div class=\"panel-heading\">\n",
    "        <h3 class=\"panel-title\">Задание 2.4: Поиск лучшего</h3> \n",
    "    </div>\n",
    "</div>"
   ]
  },
  {
   "cell_type": "markdown",
   "metadata": {},
   "source": [
    "Настало время найти лучший регрессор!\n",
    "\n",
    "* `PolynomialFeatures` лежит в `sklearn.preprocessing`\n",
    "* `Pipeline` лежит в `sklearn.pipeline`\n",
    "* `GridSearchCV`, `StratifiedKFold`, `cross_val_score` лежат в `sklearn.model_selection`\n",
    "\n",
    "Ты знаешь, что делать."
   ]
  },
  {
   "cell_type": "code",
   "execution_count": null,
   "metadata": {
    "ExecuteTime": {
     "end_time": "2017-11-30T23:24:40.410510",
     "start_time": "2017-11-30T23:24:39.676474"
    },
    "collapsed": false
   },
   "outputs": [],
   "source": [
    "# Ваш код здесь"
   ]
  },
  {
   "cell_type": "markdown",
   "metadata": {},
   "source": [
    "<div class=\"panel panel-info\" style=\"margin: 50px 0 0 0\">\n",
    "    <div class=\"panel-heading\">\n",
    "        <h1 class=\"panel-title\">Задание 3: Бостонская застройка</h1> \n",
    "    </div>\n",
    "</div>"
   ]
  },
  {
   "cell_type": "markdown",
   "metadata": {},
   "source": [
    "Давайте теперь взглянем с вами на классический датасет \"Boston house prices\":"
   ]
  },
  {
   "cell_type": "code",
   "execution_count": null,
   "metadata": {
    "ExecuteTime": {
     "end_time": "2017-12-01T00:12:05.002310",
     "start_time": "2017-12-01T00:12:04.981485"
    },
    "collapsed": true
   },
   "outputs": [],
   "source": [
    "from sklearn.datasets import load_boston\n",
    "\n",
    "bunch = load_boston()\n",
    "\n",
    "target = 'MEDV'\n",
    "\n",
    "df = pd.DataFrame(data=bunch.data, columns=bunch.feature_names)\n",
    "df[target] = bunch.target"
   ]
  },
  {
   "cell_type": "code",
   "execution_count": null,
   "metadata": {
    "ExecuteTime": {
     "end_time": "2017-12-01T00:12:05.387831",
     "start_time": "2017-12-01T00:12:05.373763"
    },
    "collapsed": false
   },
   "outputs": [],
   "source": [
    "print(bunch.DESCR)"
   ]
  },
  {
   "cell_type": "markdown",
   "metadata": {},
   "source": [
    "<div class=\"panel panel-info\">\n",
    "    <div class=\"panel-heading\">\n",
    "        <h3 class=\"panel-title\">Задание 3.1: Easy-breezy</h3> \n",
    "    </div>\n",
    "</div>"
   ]
  },
  {
   "cell_type": "markdown",
   "metadata": {},
   "source": [
    "Не забудь заскейлить исходные данные и зафить-ка теперь `SGDRegressor` на 1000 итерациях (параметр `n_iter`). Поэкспериментируй с `alpha`, то есть скоростью обучения.\n",
    "\n",
    "Че, вышло че? RMSE на кросс-валидации (давай на 10 фолдах) в студию!"
   ]
  },
  {
   "cell_type": "code",
   "execution_count": null,
   "metadata": {
    "ExecuteTime": {
     "end_time": "2017-11-30T23:24:40.410510",
     "start_time": "2017-11-30T23:24:39.676474"
    },
    "collapsed": false
   },
   "outputs": [],
   "source": [
    "# Ваш код здесь"
   ]
  },
  {
   "cell_type": "markdown",
   "metadata": {},
   "source": [
    "<div class=\"panel panel-info\">\n",
    "    <div class=\"panel-heading\">\n",
    "        <h3 class=\"panel-title\">Задание 3.2: Расследование</h3> \n",
    "    </div>\n",
    "</div>"
   ]
  },
  {
   "cell_type": "markdown",
   "metadata": {},
   "source": [
    "Давайте-ка построим очень важный тип графиков: график предсказанных остатков. \n",
    "\n",
    "1. Возьмите LinearReression, выучитесь на всех данных, и предскажите их.\n",
    "2. Постройте диаграмму рассеяния, где по оси `x` откладывайте __значения целевой переменной__, а по `y` - __разницу между оригинальными и предсказанными значениями целевой переменной__.\n",
    "\n",
    "Что вы видите? Вот вам различные случаи вида полученного графика:\n",
    "\n",
    "<img src=\"https://www.analyticsvidhya.com/wp-content/uploads/2016/07/residual.png\">\n",
    "\n",
    "<img src=\"https://www.analyticsvidhya.com/wp-content/uploads/2016/07/heterosk.png\">\n",
    "\n",
    "* Очевидно, если по `y` мы рисуем отклонение от верного значения, то если точки кучкуются около __`y=0`__, то все прям классно-классно!\n",
    "* Случай, когда ничего особенного не происходит, изображен на верхнем-левом графике. Это в целом та же ситуация, что и с точками около __`y=0`__, только мы ошибаемся чуть больше. Обратите внимание, что нет ни каких-то __особенных форм__ облака точек, просто облачко.\n",
    "* Если есть __паттерн__ (график справа вверху), как тут - парабола, то, значит, именно такая, квадратичная зависимость, не была захвачена моделью, и проявилась в остатках. Это - хороший знак того, что время добавлять признаки вроде __`log(X)`__,  __`√X`__ или __`X²`__. \n",
    "* Если проявляется __форма воронки__, как на третьем графике внизу, где масса точек становится толще с возрастанием значений оси `x`, то все не очень хорошо: диагностируется __гетероскедастичность__ остатков, то есть неравномерность отклонений (дисперсии)."
   ]
  },
  {
   "cell_type": "markdown",
   "metadata": {},
   "source": [
    "Не забывай, в конце-концов, можно обаращать просто свое внимание на странно расположенные точки. Построй такую диаграмму и посмотри. \n",
    "\n",
    "Нашелся ли кто странный? :)"
   ]
  },
  {
   "cell_type": "code",
   "execution_count": null,
   "metadata": {
    "ExecuteTime": {
     "end_time": "2017-11-30T23:24:40.410510",
     "start_time": "2017-11-30T23:24:39.676474"
    },
    "collapsed": false
   },
   "outputs": [],
   "source": [
    "# Ваш код здесь"
   ]
  },
  {
   "cell_type": "markdown",
   "metadata": {},
   "source": [
    "<div class=\"panel panel-info\">\n",
    "    <div class=\"panel-heading\">\n",
    "        <h3 class=\"panel-title\">Задание 3.3: Stranger things</h3> \n",
    "    </div>\n",
    "</div>"
   ]
  },
  {
   "cell_type": "markdown",
   "metadata": {},
   "source": [
    "Если ты ничего не нашел любопытного на графике выше, то просто пропускай это задание: data science не для тебя.\n",
    "\n",
    "Если же ты все еще здесь...\n",
    "\n",
    "1. Построй гистограмму таргета. То же странное явление из 3.2 видно?\n",
    "2. Как думаешь, почему такое возникло? \n",
    "3. Что бы ты сделал для устранения такой аномалии? Для этого порассуждай, как такие вещи могли оказаться в данных."
   ]
  },
  {
   "cell_type": "code",
   "execution_count": null,
   "metadata": {
    "ExecuteTime": {
     "end_time": "2017-11-30T23:24:40.410510",
     "start_time": "2017-11-30T23:24:39.676474"
    },
    "collapsed": false
   },
   "outputs": [],
   "source": [
    "# Ваш код здесь"
   ]
  },
  {
   "cell_type": "markdown",
   "metadata": {
    "ExecuteTime": {
     "end_time": "2017-11-27T01:06:03.887165",
     "start_time": "2017-11-27T01:06:03.882501"
    },
    "collapsed": true
   },
   "source": [
    "<div class=\"panel panel-success\" style=\"margin: 50px 0 0 0\">\n",
    "    <div class=\"panel-heading\">\n",
    "        <h3 class=\"panel-title\">Финиш!</h3> \n",
    "    </div>\n",
    "</div>\n",
    "\n",
    "Ееее! Ты умничка, если все сделал ^^"
   ]
  }
 ],
 "metadata": {
  "kernelspec": {
   "display_name": "Python 3",
   "language": "python",
   "name": "python3"
  },
  "language_info": {
   "codemirror_mode": {
    "name": "ipython",
    "version": 3
   },
   "file_extension": ".py",
   "mimetype": "text/x-python",
   "name": "python",
   "nbconvert_exporter": "python",
   "pygments_lexer": "ipython3",
   "version": "3.6.0"
  },
  "toc": {
   "colors": {
    "hover_highlight": "#DAA520",
    "running_highlight": "#FF0000",
    "selected_highlight": "#FFD700"
   },
   "moveMenuLeft": true,
   "nav_menu": {
    "height": "120px",
    "width": "252px"
   },
   "navigate_menu": true,
   "number_sections": true,
   "sideBar": true,
   "threshold": 4,
   "toc_cell": false,
   "toc_section_display": "block",
   "toc_window_display": false
  }
 },
 "nbformat": 4,
 "nbformat_minor": 2
}
